{
 "cells": [
  {
   "cell_type": "code",
   "execution_count": 1,
   "id": "99cb4c86",
   "metadata": {},
   "outputs": [],
   "source": [
    "import random\n",
    "import networkx as nx\n",
    "import pandas as pd\n",
    "f = pd.read_csv(\"higgs-activity_time.txt.gz\",sep=\" \",names=['source','target','timestamp','type'])\n",
    "d = pd.read_csv(\"higgs-social_network.edgelist.gz\",sep=\" \",names=['source','target'])\n",
    "\n",
    "g = nx.from_pandas_edgelist(f[:10000],source=\"source\",target=\"target\",edge_attr = [\"timestamp\",\"type\"])"
   ]
  },
  {
   "cell_type": "code",
   "execution_count": 72,
   "id": "111c94dd",
   "metadata": {},
   "outputs": [],
   "source": [
    "g_l = list(g.edges(data=True))\n",
    "g_l = sorted(g_l,key = lambda x: x[2]['timestamp'])"
   ]
  },
  {
   "cell_type": "code",
   "execution_count": 73,
   "id": "6b038423",
   "metadata": {},
   "outputs": [],
   "source": [
    "#g_neigh = pd.DataFrame(d.groupby('source')['target'].apply(list))"
   ]
  },
  {
   "cell_type": "code",
   "execution_count": 74,
   "id": "77a1c714",
   "metadata": {},
   "outputs": [],
   "source": [
    "g_n = d.groupby('source').count().to_dict(orient='dict')['target']\n",
    "for i in g_n.keys():\n",
    "    g_n[i] = [g_n[i],\"inactive\",0,0,False,0,set(),-1]"
   ]
  },
  {
   "cell_type": "code",
   "execution_count": 75,
   "id": "66bf12ac",
   "metadata": {},
   "outputs": [
    {
     "data": {
      "text/plain": [
       "[22, 'inactive', 0, 0, False, 0, set(), -1]"
      ]
     },
     "execution_count": 75,
     "metadata": {},
     "output_type": "execute_result"
    }
   ],
   "source": [
    "g_n[1]"
   ]
  },
  {
   "cell_type": "code",
   "execution_count": 76,
   "id": "e1867af6",
   "metadata": {},
   "outputs": [],
   "source": [
    "graph = {'links' : g_l, 'nodes' : g_n}"
   ]
  },
  {
   "cell_type": "code",
   "execution_count": 77,
   "id": "b794e18d",
   "metadata": {},
   "outputs": [],
   "source": [
    "def LT(graph):\n",
    "    active = []\n",
    "    blocked = []\n",
    "    count = 0\n",
    "    for i in graph['links']:\n",
    "        for j in blocked:\n",
    "            if graph['nodes'][j][5] - 1 == 0:\n",
    "                graph['nodes'][j][4] = False\n",
    "                graph['nodes'][j][5] = 0\n",
    "                blocked.remove(j)\n",
    "            else:\n",
    "                graph['nodes'][j][5] -= 1\n",
    "        \n",
    "        for j in active:\n",
    "            if graph['nodes'][j][2] - 1 == 0:\n",
    "                graph['nodes'][j][2] = 0\n",
    "                graph['nodes'][j][1] = \"inactive\"\n",
    "                active.remove(j)\n",
    "            else:\n",
    "                graph['nodes'][j][2] -= 1\n",
    "                if i[2]['timestamp'] - graph['nodes'][j][3] > 10000:\n",
    "                    #print(f\"Rumor propogation minimized at {i[2]['timestamp']} by node {j}\")\n",
    "                    graph['nodes'][j][2] = 0\n",
    "                    graph['nodes'][j][1] = \"inactive\"\n",
    "                    active.remove(j)\n",
    "                    r_node = graph['nodes'][j][7]\n",
    "                    if graph['nodes'][r_node][4] == False:\n",
    "                        temp_count = 0\n",
    "                        for temp in graph['nodes'][r_node][6]:\n",
    "                            if (graph['nodes'][temp][1] == \"inactive\" or (i[2]['timestamp'] - graph['nodes'][temp][3] > 5000)) and graph['nodes'][temp][2] > 0:\n",
    "                                temp_count += 1\n",
    "                        if temp_count > 0.4*len(graph['nodes'][r_node][6]):\n",
    "                            graph['nodes'][r_node][4] = True\n",
    "                            graph['nodes'][r_node][5] = 200\n",
    "                            blocked.append(r_node)\n",
    "                            print(f\"Rumor spreading node {r_node} blocked at {i[2]['timestamp']}\")\n",
    "                            count += 1\n",
    "                    else:\n",
    "                        pass\n",
    "                else:\n",
    "                    pass\n",
    "            \n",
    "        graph['nodes'][i[0]][6].add(i[1])\n",
    "        \n",
    "        if graph['nodes'][i[0]][4] == True:\n",
    "            pass\n",
    "        else:\n",
    "            if graph['nodes'][i[1]][1] == \"inactive\":\n",
    "                if 1/graph['nodes'][i[0]][0] > 1/graph['nodes'][i[1]][0]:\n",
    "                    graph['nodes'][i[1]][1] = \"active\"\n",
    "                    graph['nodes'][i[1]][2] = 200\n",
    "                    graph['nodes'][i[1]][3] = i[2]['timestamp']\n",
    "                    graph['nodes'][i[1]][7] = i[0]\n",
    "                    active.append(i[1])\n",
    "            else:\n",
    "                pass\n",
    "            \n",
    "    print(count)"
   ]
  },
  {
   "cell_type": "code",
   "execution_count": 78,
   "id": "89915505",
   "metadata": {},
   "outputs": [
    {
     "name": "stdout",
     "output_type": "stream",
     "text": [
      "Rumor spreading node 196145 blocked at 1341115951\n",
      "Rumor spreading node 9192 blocked at 1341119598\n",
      "Rumor spreading node 281951 blocked at 1341121634\n",
      "Rumor spreading node 186184 blocked at 1341121844\n",
      "Rumor spreading node 88 blocked at 1341129395\n",
      "Rumor spreading node 12510 blocked at 1341131597\n",
      "Rumor spreading node 222663 blocked at 1341132360\n",
      "Rumor spreading node 2156 blocked at 1341140228\n",
      "Rumor spreading node 29233 blocked at 1341144799\n",
      "Rumor spreading node 87449 blocked at 1341149489\n",
      "10\n"
     ]
    }
   ],
   "source": [
    "LT(graph)"
   ]
  }
 ],
 "metadata": {
  "kernelspec": {
   "display_name": "Python 3",
   "language": "python",
   "name": "python3"
  },
  "language_info": {
   "codemirror_mode": {
    "name": "ipython",
    "version": 3
   },
   "file_extension": ".py",
   "mimetype": "text/x-python",
   "name": "python",
   "nbconvert_exporter": "python",
   "pygments_lexer": "ipython3",
   "version": "3.8.8"
  }
 },
 "nbformat": 4,
 "nbformat_minor": 5
}
