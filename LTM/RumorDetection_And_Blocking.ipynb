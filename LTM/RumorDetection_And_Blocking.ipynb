{
 "cells": [
  {
   "cell_type": "code",
   "execution_count": 50,
   "id": "99cb4c86",
   "metadata": {},
   "outputs": [],
   "source": [
    "import random\n",
    "import networkx as nx\n",
    "import pandas as pd\n",
    "f = pd.read_csv(\"higgs-activity_time.txt.gz\",sep=\" \",names=['source','target','timestamp','type'])\n",
    "d = pd.read_csv(\"higgs-social_network.edgelist.gz\",sep=\" \",names=['source','target'])\n",
    "\n",
    "g = nx.from_pandas_edgelist(f[:10000],source=\"source\",target=\"target\",edge_attr = [\"timestamp\",\"type\"])"
   ]
  },
  {
   "cell_type": "code",
   "execution_count": 51,
   "id": "111c94dd",
   "metadata": {},
   "outputs": [],
   "source": [
    "g_l = list(g.edges(data=True))\n",
    "g_l = sorted(g_l,key = lambda x: x[2]['timestamp'])"
   ]
  },
  {
   "cell_type": "code",
   "execution_count": 52,
   "id": "6b038423",
   "metadata": {},
   "outputs": [],
   "source": [
    "#g_neigh = pd.DataFrame(d.groupby('source')['target'].apply(list))"
   ]
  },
  {
   "cell_type": "code",
   "execution_count": 53,
   "id": "77a1c714",
   "metadata": {},
   "outputs": [],
   "source": [
    "g_n = d.groupby('source').count().to_dict(orient='dict')['target']\n",
    "for i in g_n.keys():\n",
    "    g_n[i] = [g_n[i],\"inactive\",0,0,False,0,set(),-1]"
   ]
  },
  {
   "cell_type": "code",
   "execution_count": 54,
   "id": "66bf12ac",
   "metadata": {},
   "outputs": [
    {
     "data": {
      "text/plain": [
       "[22, 'inactive', 0, 0, False, 0, set(), -1]"
      ]
     },
     "execution_count": 54,
     "metadata": {},
     "output_type": "execute_result"
    }
   ],
   "source": [
    "g_n[1]"
   ]
  },
  {
   "cell_type": "code",
   "execution_count": 55,
   "id": "35b15ffa",
   "metadata": {},
   "outputs": [
    {
     "data": {
      "text/plain": [
       "(26375, 168366, {'timestamp': 1341101183, 'type': 'MT'})"
      ]
     },
     "execution_count": 55,
     "metadata": {},
     "output_type": "execute_result"
    }
   ],
   "source": [
    "g_l[1]"
   ]
  },
  {
   "cell_type": "code",
   "execution_count": 56,
   "id": "e1867af6",
   "metadata": {},
   "outputs": [],
   "source": [
    "graph = {'links' : g_l, 'nodes' : g_n}"
   ]
  },
  {
   "cell_type": "code",
   "execution_count": 57,
   "id": "b794e18d",
   "metadata": {},
   "outputs": [],
   "source": [
    "def LT(graph):\n",
    "    active = []\n",
    "    blocked = []\n",
    "    count = 0\n",
    "    for i in graph['links']:\n",
    "        if graph['nodes'][i[0]][4] != True:\n",
    "            graph['nodes'][i[0]][1] = \"active\"\n",
    "            graph['nodes'][i[0]][2] = 15\n",
    "            graph['nodes'][i[0]][3] = i[2]['timestamp']\n",
    "            \n",
    "        for j in blocked:\n",
    "            if graph['nodes'][j][5] - 1 == 0:\n",
    "                graph['nodes'][j][4] = False\n",
    "                graph['nodes'][j][5] = 0\n",
    "                blocked.remove(j)\n",
    "            else:\n",
    "                graph['nodes'][j][5] -= 1\n",
    "        \n",
    "        for j in active:\n",
    "            if graph['nodes'][j][2] - 1 == 0:\n",
    "                graph['nodes'][j][2] = 0\n",
    "                graph['nodes'][j][1] = \"inactive\"\n",
    "                active.remove(j)\n",
    "            else:\n",
    "                graph['nodes'][j][2] -= 1\n",
    "                if i[2]['timestamp'] - graph['nodes'][j][3] > 10000:\n",
    "                    #print(f\"Rumor propogation minimized at {i[2]['timestamp']} by node {j}\")\n",
    "                    graph['nodes'][j][1] = \"inactive\"\n",
    "                    active.remove(j)\n",
    "                    r_node = graph['nodes'][j][7]\n",
    "                    if graph['nodes'][r_node][4] == False:\n",
    "                        temp_count = 0\n",
    "                        for temp in graph['nodes'][r_node][6]:\n",
    "                            if (graph['nodes'][temp][1] == \"inactive\" or (i[2]['timestamp'] - graph['nodes'][temp][3] > 7000)) and graph['nodes'][temp][2] > 0:\n",
    "                                temp_count += 1\n",
    "                        if temp_count > 0.9*len(graph['nodes'][r_node][6]):\n",
    "                            graph['nodes'][r_node][4] = True\n",
    "                            graph['nodes'][r_node][5] = 200\n",
    "                            blocked.append(r_node)\n",
    "                            print(f\"Rumor spreading node {r_node} blocked at {i[2]['timestamp']}\")\n",
    "                            count += 1\n",
    "                    else:\n",
    "                        pass\n",
    "                else:\n",
    "                    pass\n",
    "            \n",
    "        graph['nodes'][i[0]][6].add(i[1])\n",
    "        \n",
    "        if graph['nodes'][i[0]][4] == True:\n",
    "            pass\n",
    "        else:   \n",
    "            graph['nodes'][i[0]][1] = \"active\"\n",
    "            if graph['nodes'][i[1]][1] == \"inactive\":\n",
    "                if 1/graph['nodes'][i[0]][0] < 1/graph['nodes'][i[1]][0]:\n",
    "                    graph['nodes'][i[1]][1] = \"active\"\n",
    "                    graph['nodes'][i[1]][2] = 200\n",
    "                    graph['nodes'][i[1]][3] = i[2]['timestamp']\n",
    "                    graph['nodes'][i[1]][7] = i[0]\n",
    "                    active.append(i[1])\n",
    "            else:\n",
    "                pass\n",
    "            \n",
    "    print(count)"
   ]
  },
  {
   "cell_type": "code",
   "execution_count": 58,
   "id": "89915505",
   "metadata": {},
   "outputs": [
    {
     "name": "stdout",
     "output_type": "stream",
     "text": [
      "Rumor spreading node 75083 blocked at 1341111775\n",
      "Rumor spreading node 104321 blocked at 1341112823\n",
      "Rumor spreading node 247125 blocked at 1341113457\n",
      "Rumor spreading node 205864 blocked at 1341113457\n",
      "Rumor spreading node 64911 blocked at 1341114502\n",
      "Rumor spreading node 2733 blocked at 1341114733\n",
      "Rumor spreading node 149403 blocked at 1341115105\n",
      "Rumor spreading node 64375 blocked at 1341115621\n",
      "Rumor spreading node 197061 blocked at 1341116534\n",
      "Rumor spreading node 4665 blocked at 1341116605\n",
      "Rumor spreading node 33833 blocked at 1341117253\n",
      "Rumor spreading node 162386 blocked at 1341118325\n",
      "Rumor spreading node 82732 blocked at 1341119256\n",
      "Rumor spreading node 8 blocked at 1341120214\n",
      "Rumor spreading node 321340 blocked at 1341120214\n",
      "Rumor spreading node 107640 blocked at 1341121164\n",
      "Rumor spreading node 3024 blocked at 1341121239\n",
      "Rumor spreading node 184615 blocked at 1341121409\n",
      "Rumor spreading node 10367 blocked at 1341121546\n",
      "Rumor spreading node 133104 blocked at 1341122771\n",
      "Rumor spreading node 28962 blocked at 1341124747\n",
      "Rumor spreading node 207707 blocked at 1341125102\n",
      "Rumor spreading node 229083 blocked at 1341125736\n",
      "Rumor spreading node 5444 blocked at 1341126248\n",
      "Rumor spreading node 202480 blocked at 1341126847\n",
      "Rumor spreading node 13813 blocked at 1341127241\n",
      "Rumor spreading node 133435 blocked at 1341127664\n",
      "Rumor spreading node 29021 blocked at 1341127664\n",
      "Rumor spreading node 15508 blocked at 1341127664\n",
      "Rumor spreading node 73367 blocked at 1341128161\n",
      "Rumor spreading node 198298 blocked at 1341128599\n",
      "Rumor spreading node 354622 blocked at 1341128886\n",
      "Rumor spreading node 430150 blocked at 1341130326\n",
      "Rumor spreading node 6708 blocked at 1341130955\n",
      "Rumor spreading node 173138 blocked at 1341132138\n",
      "Rumor spreading node 414901 blocked at 1341132209\n",
      "Rumor spreading node 209611 blocked at 1341133236\n",
      "Rumor spreading node 93336 blocked at 1341134161\n",
      "Rumor spreading node 10381 blocked at 1341134517\n",
      "Rumor spreading node 149268 blocked at 1341134873\n",
      "Rumor spreading node 413591 blocked at 1341135985\n",
      "Rumor spreading node 139593 blocked at 1341135985\n",
      "Rumor spreading node 170707 blocked at 1341136157\n",
      "Rumor spreading node 1247 blocked at 1341136330\n",
      "Rumor spreading node 29343 blocked at 1341136570\n",
      "Rumor spreading node 1988 blocked at 1341136830\n",
      "Rumor spreading node 379331 blocked at 1341136830\n",
      "Rumor spreading node 227321 blocked at 1341137109\n",
      "Rumor spreading node 109527 blocked at 1341137202\n",
      "Rumor spreading node 383 blocked at 1341137220\n",
      "Rumor spreading node 232850 blocked at 1341138376\n",
      "Rumor spreading node 61142 blocked at 1341138825\n",
      "Rumor spreading node 47498 blocked at 1341138919\n",
      "Rumor spreading node 22849 blocked at 1341140228\n",
      "Rumor spreading node 553 blocked at 1341140451\n",
      "Rumor spreading node 144499 blocked at 1341141446\n",
      "Rumor spreading node 35170 blocked at 1341142306\n",
      "Rumor spreading node 174750 blocked at 1341142626\n",
      "Rumor spreading node 160819 blocked at 1341144533\n",
      "Rumor spreading node 183496 blocked at 1341144969\n",
      "Rumor spreading node 57623 blocked at 1341146136\n",
      "Rumor spreading node 21606 blocked at 1341147382\n",
      "Rumor spreading node 95848 blocked at 1341148040\n",
      "Rumor spreading node 6704 blocked at 1341148937\n",
      "Rumor spreading node 376344 blocked at 1341149258\n",
      "Rumor spreading node 32806 blocked at 1341149489\n",
      "Rumor spreading node 110577 blocked at 1341149693\n",
      "Rumor spreading node 11047 blocked at 1341149955\n",
      "Rumor spreading node 120250 blocked at 1341149958\n",
      "Rumor spreading node 47666 blocked at 1341150339\n",
      "Rumor spreading node 46754 blocked at 1341150878\n",
      "Rumor spreading node 357068 blocked at 1341150917\n",
      "Rumor spreading node 182043 blocked at 1341150958\n",
      "Rumor spreading node 82461 blocked at 1341152518\n",
      "Rumor spreading node 142992 blocked at 1341152635\n",
      "Rumor spreading node 329762 blocked at 1341152872\n",
      "Rumor spreading node 77058 blocked at 1341152872\n",
      "Rumor spreading node 145888 blocked at 1341152899\n",
      "Rumor spreading node 64413 blocked at 1341153024\n",
      "Rumor spreading node 386251 blocked at 1341153327\n",
      "Rumor spreading node 106209 blocked at 1341153680\n",
      "Rumor spreading node 317866 blocked at 1341153895\n",
      "Rumor spreading node 54755 blocked at 1341154559\n",
      "Rumor spreading node 220 blocked at 1341154907\n",
      "Rumor spreading node 23713 blocked at 1341155377\n",
      "Rumor spreading node 223143 blocked at 1341155583\n",
      "86\n"
     ]
    }
   ],
   "source": [
    "LT(graph)"
   ]
  }
 ],
 "metadata": {
  "kernelspec": {
   "display_name": "Python 3",
   "language": "python",
   "name": "python3"
  },
  "language_info": {
   "codemirror_mode": {
    "name": "ipython",
    "version": 3
   },
   "file_extension": ".py",
   "mimetype": "text/x-python",
   "name": "python",
   "nbconvert_exporter": "python",
   "pygments_lexer": "ipython3",
   "version": "3.8.8"
  }
 },
 "nbformat": 4,
 "nbformat_minor": 5
}
