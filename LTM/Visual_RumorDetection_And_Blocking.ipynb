{
 "cells": [
  {
   "cell_type": "code",
   "execution_count": 113,
   "id": "7f0d2a6b",
   "metadata": {},
   "outputs": [],
   "source": [
    "import time\n",
    "from ipycytoscape import CytoscapeWidget\n",
    "import networkx as nx\n",
    "from IPython.display import clear_output\n",
    "import random\n",
    "import pandas as pd"
   ]
  },
  {
   "cell_type": "code",
   "execution_count": 128,
   "id": "5edba1e6",
   "metadata": {},
   "outputs": [],
   "source": [
    "f = pd.read_csv(\"viz_activity.csv\",sep=\",\",names=['source','target','timestamp'])\n",
    "d = pd.read_csv(\"viz_edgelist.csv\",sep=\",\",names=['source','target'])\n",
    "\n",
    "g = nx.from_pandas_edgelist(f,source=\"source\",target=\"target\",edge_attr = [\"timestamp\"])\n",
    "g_l = list(g.edges(data=True))\n",
    "g_l = sorted(g_l,key = lambda x: x[2]['timestamp'])\n",
    "\n",
    "g_n = d.groupby('source').count().to_dict(orient='dict')['target']\n",
    "for i in g_n.keys():\n",
    "    g_n[i] = [g_n[i],\"inactive\",0,0,False,0,set(),-1,\"grey\",\"\"]"
   ]
  },
  {
   "cell_type": "code",
   "execution_count": 129,
   "id": "e5a7a6f5",
   "metadata": {},
   "outputs": [
    {
     "data": {
      "text/plain": [
       "{'a': [5, 'inactive', 0, 0, False, 0, set(), -1, 'grey', ''],\n",
       " 'b': [4, 'inactive', 0, 0, False, 0, set(), -1, 'grey', ''],\n",
       " 'c': [1, 'inactive', 0, 0, False, 0, set(), -1, 'grey', ''],\n",
       " 'd': [1, 'inactive', 0, 0, False, 0, set(), -1, 'grey', ''],\n",
       " 'e': [2, 'inactive', 0, 0, False, 0, set(), -1, 'grey', ''],\n",
       " 'f': [1, 'inactive', 0, 0, False, 0, set(), -1, 'grey', ''],\n",
       " 'g': [1, 'inactive', 0, 0, False, 0, set(), -1, 'grey', ''],\n",
       " 'h': [2, 'inactive', 0, 0, False, 0, set(), -1, 'grey', ''],\n",
       " 'i': [2, 'inactive', 0, 0, False, 0, set(), -1, 'grey', ''],\n",
       " 'j': [1, 'inactive', 0, 0, False, 0, set(), -1, 'grey', ''],\n",
       " 'k': [1, 'inactive', 0, 0, False, 0, set(), -1, 'grey', ''],\n",
       " 'l': [1, 'inactive', 0, 0, False, 0, set(), -1, 'grey', '']}"
      ]
     },
     "execution_count": 129,
     "metadata": {},
     "output_type": "execute_result"
    }
   ],
   "source": [
    "g_n"
   ]
  },
  {
   "cell_type": "code",
   "execution_count": 130,
   "id": "b80bcb81",
   "metadata": {},
   "outputs": [
    {
     "data": {
      "text/plain": [
       "[('a', 'c', {'timestamp': 1}),\n",
       " ('a', 'd', {'timestamp': 2}),\n",
       " ('a', 'e', {'timestamp': 3}),\n",
       " ('a', 'b', {'timestamp': 4}),\n",
       " ('e', 'i', {'timestamp': 5}),\n",
       " ('i', 'k', {'timestamp': 6}),\n",
       " ('b', 'f', {'timestamp': 7}),\n",
       " ('b', 'g', {'timestamp': 8}),\n",
       " ('b', 'h', {'timestamp': 9}),\n",
       " ('a', 'l', {'timestamp': 10}),\n",
       " ('h', 'j', {'timestamp': 11})]"
      ]
     },
     "execution_count": 130,
     "metadata": {},
     "output_type": "execute_result"
    }
   ],
   "source": [
    "g_l"
   ]
  },
  {
   "cell_type": "code",
   "execution_count": 131,
   "id": "c2429838",
   "metadata": {},
   "outputs": [],
   "source": [
    "graph = {'links' : g_l, 'nodes' : g_n}"
   ]
  },
  {
   "cell_type": "code",
   "execution_count": 132,
   "id": "82506005",
   "metadata": {},
   "outputs": [],
   "source": [
    "def mod_graph(graph,ed):\n",
    "    edges = []\n",
    "    for i in range(len(ed)):\n",
    "        edges.append({'data' : {'source' : d.iloc[i,:]['source'], 'target' : d.iloc[i,:]['target']}})\n",
    "    \n",
    "    nodes = []\n",
    "    for i in graph['nodes'].keys():\n",
    "        nodes.append({'data' : {'id' : i, 'color' : graph['nodes'][i][8], 'status' : graph['nodes'][i][9]}})\n",
    "    \n",
    "    data = {\n",
    "        'nodes' : nodes,\n",
    "        'edges' : edges\n",
    "    }\n",
    "    cyto = CytoscapeWidget()\n",
    "    cyto.graph.add_graph_from_json(data)\n",
    "    \n",
    "    cyto.set_style([{\n",
    "                        'selector': 'node',\n",
    "                        'css': {\n",
    "                            'content': 'data(status)',\n",
    "                            'text-valign': 'center',\n",
    "                            'color': 'white',\n",
    "                            'text-outline-width': 1,\n",
    "                            'text-outline-color': 'data(color)',\n",
    "                            'background-color': 'data(color)'\n",
    "                        }\n",
    "                        },\n",
    "                        {\n",
    "                        'selector': ':selected',\n",
    "                        'css': {\n",
    "                            'background-color': 'black',\n",
    "                            'line-color': 'black',\n",
    "                            'target-arrow-color': 'black',\n",
    "                            'source-arrow-color': 'black',\n",
    "                            'text-outline-color': 'black'\n",
    "                        }}\n",
    "                        ])\n",
    "    return cyto\n",
    "    "
   ]
  },
  {
   "cell_type": "code",
   "execution_count": 133,
   "id": "1c81f16b",
   "metadata": {},
   "outputs": [],
   "source": [
    "def LT_Viz(graph,ed):\n",
    "    active = []\n",
    "    blocked = []\n",
    "    count = 0\n",
    "    for i in graph['links']:\n",
    "        if graph['nodes'][i[0]][4] != True:\n",
    "            graph['nodes'][i[0]][1] = \"active\"\n",
    "            graph['nodes'][i[0]][2] = 15\n",
    "            graph['nodes'][i[0]][3] = i[2]['timestamp']\n",
    "            graph['nodes'][i[0]][8] = \"green\"\n",
    "            \n",
    "        for j in blocked:\n",
    "            if graph['nodes'][j][5] - 1 == 0:\n",
    "                graph['nodes'][j][4] = False\n",
    "                graph['nodes'][j][5] = 0\n",
    "                blocked.remove(j)\n",
    "                if graph['nodes'][j][2] > 0:\n",
    "                    graph['nodes'][j][8] = \"green\"\n",
    "                else:\n",
    "                    graph['nodes'][j][8] = \"grey\"\n",
    "                cyto = mod_graph(graph,ed)\n",
    "                display(cyto)\n",
    "                time.sleep(2)\n",
    "                clear_output(wait=True)\n",
    "                graph['nodes'][j][9] = \"\"\n",
    "            else:\n",
    "                graph['nodes'][j][5] -= 1\n",
    "        \n",
    "        for j in active:\n",
    "            if graph['nodes'][j][2] - 1 == 0:\n",
    "                graph['nodes'][j][2] = 0\n",
    "                graph['nodes'][j][1] = \"inactive\"\n",
    "                graph['nodes'][j][8] = \"grey\"\n",
    "                graph['nodes'][j][9] = \"Inactive due to energy.\"\n",
    "                active.remove(j)\n",
    "                cyto = mod_graph(graph,ed)\n",
    "                display(cyto)\n",
    "                time.sleep(2)\n",
    "                clear_output(wait=True)\n",
    "                graph['nodes'][j][9] = \"Inactive due to energy.\"\n",
    "            else:\n",
    "                graph['nodes'][j][2] -= 1\n",
    "                if i[2]['timestamp'] - graph['nodes'][j][3] > 4:\n",
    "                    graph['nodes'][j][1] = \"inactive\"\n",
    "                    graph['nodes'][j][8] = \"orange\"\n",
    "                    graph['nodes'][j][9] = \"Node Minimizing Rumor.\"\n",
    "                    active.remove(j)\n",
    "                    cyto = mod_graph(graph,ed)\n",
    "                    display(cyto)\n",
    "                    time.sleep(2)\n",
    "                    clear_output(wait=True)\n",
    "                    graph['nodes'][j][9] = \"\"\n",
    "                    r_node = graph['nodes'][j][7]\n",
    "                    if graph['nodes'][r_node][4] == False:\n",
    "                        temp_count = 0\n",
    "                        for temp in graph['nodes'][r_node][6]:\n",
    "                            if (graph['nodes'][temp][1] == \"inactive\" or (i[2]['timestamp'] - graph['nodes'][temp][3] > 3)) and graph['nodes'][temp][2] > 0:\n",
    "                                temp_count += 1\n",
    "                        if temp_count >= 0.6*len(graph['nodes'][r_node][6]):\n",
    "                            graph['nodes'][r_node][4] = True\n",
    "                            graph['nodes'][r_node][5] = 2\n",
    "                            blocked.append(r_node)\n",
    "                            graph['nodes'][r_node][8] = \"red\"\n",
    "                            graph['nodes'][r_node][9] = \"Node Blocked.\"\n",
    "                            count += 1\n",
    "                            cyto = mod_graph(graph,ed)\n",
    "                            display(cyto)\n",
    "                            time.sleep(2)\n",
    "                            clear_output(wait=True)\n",
    "                            graph['nodes'][r_node][9] = \"\"\n",
    "                    else:\n",
    "                        pass\n",
    "                else:\n",
    "                    pass\n",
    "            \n",
    "        graph['nodes'][i[0]][6].add(i[1])\n",
    "        \n",
    "        if graph['nodes'][i[0]][4] == True:\n",
    "            graph['nodes'][i[0]][9] = \"Sending.\"\n",
    "            cyto = mod_graph(graph,ed)\n",
    "            display(cyto)\n",
    "            time.sleep(2)\n",
    "            clear_output(wait=True)\n",
    "            graph['nodes'][i[0]][9] = \"\"\n",
    "            pass\n",
    "          \n",
    "        else:\n",
    "            graph['nodes'][i[0]][9] = \"Sending.\"\n",
    "            graph['nodes'][i[1]][9] = \"Receiving\"\n",
    "            cyto = mod_graph(graph,ed)\n",
    "            display(cyto)\n",
    "            time.sleep(2)\n",
    "            clear_output(wait=True)\n",
    "            graph['nodes'][i[0]][9] = \"\"\n",
    "            graph['nodes'][i[1]][9] = \"\"\n",
    "            if graph['nodes'][i[1]][1] == \"inactive\":\n",
    "                if 1/graph['nodes'][i[0]][0] < 1/graph['nodes'][i[1]][0]:\n",
    "                    graph['nodes'][i[1]][1] = \"active\"\n",
    "                    graph['nodes'][i[1]][8] = \"green\"\n",
    "                    graph['nodes'][i[1]][2] = 15\n",
    "                    graph['nodes'][i[1]][3] = i[2]['timestamp']\n",
    "                    graph['nodes'][i[1]][7] = i[0]\n",
    "                    active.append(i[1])\n",
    "                    graph['nodes'][i[1]][9] = \"Activated\"\n",
    "                    cyto = mod_graph(graph,ed)\n",
    "                    display(cyto)\n",
    "                    time.sleep(2)\n",
    "                    clear_output(wait=True)\n",
    "                    graph['nodes'][i[1]][9] = \"\"       \n",
    "            else:\n",
    "                pass\n",
    "        #print(graph['nodes'])"
   ]
  },
  {
   "cell_type": "code",
   "execution_count": 134,
   "id": "455c08e2",
   "metadata": {},
   "outputs": [
    {
     "data": {
      "application/vnd.jupyter.widget-view+json": {
       "model_id": "5bedaf2d10e8482b90b4cb16aafc2d1f",
       "version_major": 2,
       "version_minor": 0
      },
      "text/plain": [
       "CytoscapeWidget(cytoscape_layout={'name': 'cola'}, cytoscape_style=[{'selector': 'node', 'css': {'content': 'd…"
      ]
     },
     "metadata": {},
     "output_type": "display_data"
    }
   ],
   "source": [
    "LT_Viz(graph,d)"
   ]
  }
 ],
 "metadata": {
  "kernelspec": {
   "display_name": "Python 3",
   "language": "python",
   "name": "python3"
  },
  "language_info": {
   "codemirror_mode": {
    "name": "ipython",
    "version": 3
   },
   "file_extension": ".py",
   "mimetype": "text/x-python",
   "name": "python",
   "nbconvert_exporter": "python",
   "pygments_lexer": "ipython3",
   "version": "3.8.8"
  }
 },
 "nbformat": 4,
 "nbformat_minor": 5
}
