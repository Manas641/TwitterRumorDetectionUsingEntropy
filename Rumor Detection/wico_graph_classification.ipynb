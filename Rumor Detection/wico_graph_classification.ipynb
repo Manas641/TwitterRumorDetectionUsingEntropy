{
  "nbformat": 4,
  "nbformat_minor": 0,
  "metadata": {
    "colab": {
      "provenance": []
    },
    "kernelspec": {
      "name": "python3",
      "display_name": "Python 3"
    },
    "language_info": {
      "name": "python"
    }
  },
  "cells": [
    {
      "cell_type": "markdown",
      "source": [
        "## Downloading Wico Dataset Uploaded On Kaggle"
      ],
      "metadata": {
        "id": "GN5muxzEYIE_"
      }
    },
    {
      "cell_type": "code",
      "execution_count": null,
      "metadata": {
        "id": "CNasDmuU8LuC"
      },
      "outputs": [],
      "source": [
        "!pip install -q kaggle\n",
        "! mkdir ~/.kaggle\n",
        "! cp kaggle.json ~/.kaggle/\n",
        "! chmod 600 ~/.kaggle/kaggle.json\n",
        "! kaggle datasets download -d manaspp/wico-graph\n",
        "! unzip wico-graph"
      ]
    },
    {
      "cell_type": "markdown",
      "source": [
        "## Importing Necessary Libraries"
      ],
      "metadata": {
        "id": "EVIyfMjR85Ho"
      }
    },
    {
      "cell_type": "code",
      "source": [
        "import random\n",
        "import networkx as nx\n",
        "import pandas as pd\n",
        "import os\n",
        "import statistics\n",
        "import numpy as np\n",
        "\n",
        "def list_files(dir):\n",
        "    r = []\n",
        "    for root, dirs, files in os.walk(dir):\n",
        "        for name in files:\n",
        "            r.append(os.path.join(root, name))\n",
        "    return r"
      ],
      "metadata": {
        "id": "YnLVm4DI85Sh"
      },
      "execution_count": null,
      "outputs": []
    },
    {
      "cell_type": "markdown",
      "source": [
        "## Extracting 5G Conspiracy Graphs and Its Features As A DataFrame\n",
        "\n",
        "We first extract all the graphs in this category. Then we calculate the different properties of the graph that we are using to train the machine learning models. These features are put together in a dataframe along with the feature called 'label' which indicates if the graph contains rumor or not.<br />\n",
        "The graphs in this class have label `1` indicating the presence of rumor."
      ],
      "metadata": {
        "id": "9MPWt1Oq8cIb"
      }
    },
    {
      "cell_type": "code",
      "source": [
        "temp = []\n",
        "\n",
        "for i in range(1,413):\n",
        "    temp.append(list_files(f'5G_Conspiracy_Graphs/{i}/'))\n",
        "\n",
        "five_cons = []\n",
        "for i in range(len(temp)):\n",
        "  for j in range(len(temp[i])):\n",
        "    if 'edges' in temp[i][j]:\n",
        "      break\n",
        "  f = pd.read_csv(temp[i][j],sep=\" \",names=['source','target'])\n",
        "  g = nx.from_pandas_edgelist(f,source='source', target='target',create_using = nx.DiGraph)\n",
        "  features = []\n",
        "  features.append(nx.number_of_nodes(g))\n",
        "  features.append(nx.number_of_edges(g))\n",
        "  try:\n",
        "    features.append(np.mean(list(nx.degree_centrality(g).values())))\n",
        "  except:\n",
        "    features.append(np.nan)\n",
        "  try:\n",
        "    features.append(np.mean(list(nx.closeness_centrality(g).values())))\n",
        "  except:\n",
        "    features.append(np.nan)\n",
        "  try:\n",
        "    features.append(np.mean(list(nx.eigenvector_centrality(g).values())))\n",
        "  except:\n",
        "    features.append(np.nan)\n",
        "  try:\n",
        "    features.append(np.mean(list(nx.core_number(g).values())))\n",
        "  except:\n",
        "    features.append(np.nan)\n",
        "  try:\n",
        "    features.append(nx.average_clustering(g))\n",
        "  except:\n",
        "    features.append(np.nan)\n",
        "  try:\n",
        "    features.append(nx.transitivity(g))\n",
        "  except:\n",
        "    features.append(np.nan)\n",
        "  try:\n",
        "    features.append(np.mean(list(nx.square_clustering(g).values())))\n",
        "  except:\n",
        "    features.append(np.nan)\n",
        "  try:\n",
        "    features.append(nx.radius(g))\n",
        "  except:\n",
        "    features.append(np.nan)\n",
        "  try:\n",
        "    features.append(nx.diameter(g))\n",
        "  except:\n",
        "    features.append(np.nan)\n",
        "  features.append(1)\n",
        "  five_cons.append(features)\n",
        "\n",
        "fivegc = pd.DataFrame(five_cons, columns = [\"nodes\",\"edges\",\"degree_centrality\",\"closeness_centrality\",\"eigenvector_centrality\",\"core_number\",\"average_clustering\",\"transitivity\",\"square_clustering\",\"radius\",\"diameter\",\"label\"])"
      ],
      "metadata": {
        "id": "xRlCLbEY8cko",
        "colab": {
          "base_uri": "https://localhost:8080/"
        },
        "outputId": "a2b964d5-bc07-4652-8925-dca06103e305"
      },
      "execution_count": null,
      "outputs": [
        {
          "output_type": "stream",
          "name": "stderr",
          "text": [
            "/usr/local/lib/python3.8/dist-packages/numpy/core/fromnumeric.py:3440: RuntimeWarning: Mean of empty slice.\n",
            "  return _methods._mean(a, axis=axis, dtype=dtype,\n",
            "/usr/local/lib/python3.8/dist-packages/numpy/core/_methods.py:189: RuntimeWarning: invalid value encountered in double_scalars\n",
            "  ret = ret.dtype.type(ret / rcount)\n"
          ]
        }
      ]
    },
    {
      "cell_type": "code",
      "source": [
        "fivegc.head()"
      ],
      "metadata": {
        "colab": {
          "base_uri": "https://localhost:8080/",
          "height": 250
        },
        "id": "Q7N87JKeQ_Ic",
        "outputId": "957a90d8-b8a1-458a-a449-b91ac8c99a54"
      },
      "execution_count": null,
      "outputs": [
        {
          "output_type": "execute_result",
          "data": {
            "text/plain": [
              "   nodes  edges  degree_centrality  closeness_centrality  \\\n",
              "0     34     42           0.074866              0.058376   \n",
              "1     12     20           0.303030              0.220111   \n",
              "2     93   3094           0.723235              0.594776   \n",
              "3     26    118           0.363077              0.374765   \n",
              "4     55     63           0.042424              0.021762   \n",
              "\n",
              "   eigenvector_centrality  core_number  average_clustering  transitivity  \\\n",
              "0                0.062396     1.764706            0.030321      0.133333   \n",
              "1                0.161576     2.166667            0.356200      0.777778   \n",
              "2                0.089008    44.892473            0.719852      0.669482   \n",
              "3                0.149954     5.423077            0.461625      0.396896   \n",
              "4                0.037730     1.345455            0.039209      0.214286   \n",
              "\n",
              "   square_clustering  radius  diameter  label  \n",
              "0           0.020588     NaN       NaN      1  \n",
              "1           0.333333     NaN       NaN      1  \n",
              "2           0.514703     NaN       NaN      1  \n",
              "3           0.151054     NaN       NaN      1  \n",
              "4           0.018182     NaN       NaN      1  "
            ],
            "text/html": [
              "\n",
              "  <div id=\"df-42008b17-84e0-467b-bf52-1f048726602c\">\n",
              "    <div class=\"colab-df-container\">\n",
              "      <div>\n",
              "<style scoped>\n",
              "    .dataframe tbody tr th:only-of-type {\n",
              "        vertical-align: middle;\n",
              "    }\n",
              "\n",
              "    .dataframe tbody tr th {\n",
              "        vertical-align: top;\n",
              "    }\n",
              "\n",
              "    .dataframe thead th {\n",
              "        text-align: right;\n",
              "    }\n",
              "</style>\n",
              "<table border=\"1\" class=\"dataframe\">\n",
              "  <thead>\n",
              "    <tr style=\"text-align: right;\">\n",
              "      <th></th>\n",
              "      <th>nodes</th>\n",
              "      <th>edges</th>\n",
              "      <th>degree_centrality</th>\n",
              "      <th>closeness_centrality</th>\n",
              "      <th>eigenvector_centrality</th>\n",
              "      <th>core_number</th>\n",
              "      <th>average_clustering</th>\n",
              "      <th>transitivity</th>\n",
              "      <th>square_clustering</th>\n",
              "      <th>radius</th>\n",
              "      <th>diameter</th>\n",
              "      <th>label</th>\n",
              "    </tr>\n",
              "  </thead>\n",
              "  <tbody>\n",
              "    <tr>\n",
              "      <th>0</th>\n",
              "      <td>34</td>\n",
              "      <td>42</td>\n",
              "      <td>0.074866</td>\n",
              "      <td>0.058376</td>\n",
              "      <td>0.062396</td>\n",
              "      <td>1.764706</td>\n",
              "      <td>0.030321</td>\n",
              "      <td>0.133333</td>\n",
              "      <td>0.020588</td>\n",
              "      <td>NaN</td>\n",
              "      <td>NaN</td>\n",
              "      <td>1</td>\n",
              "    </tr>\n",
              "    <tr>\n",
              "      <th>1</th>\n",
              "      <td>12</td>\n",
              "      <td>20</td>\n",
              "      <td>0.303030</td>\n",
              "      <td>0.220111</td>\n",
              "      <td>0.161576</td>\n",
              "      <td>2.166667</td>\n",
              "      <td>0.356200</td>\n",
              "      <td>0.777778</td>\n",
              "      <td>0.333333</td>\n",
              "      <td>NaN</td>\n",
              "      <td>NaN</td>\n",
              "      <td>1</td>\n",
              "    </tr>\n",
              "    <tr>\n",
              "      <th>2</th>\n",
              "      <td>93</td>\n",
              "      <td>3094</td>\n",
              "      <td>0.723235</td>\n",
              "      <td>0.594776</td>\n",
              "      <td>0.089008</td>\n",
              "      <td>44.892473</td>\n",
              "      <td>0.719852</td>\n",
              "      <td>0.669482</td>\n",
              "      <td>0.514703</td>\n",
              "      <td>NaN</td>\n",
              "      <td>NaN</td>\n",
              "      <td>1</td>\n",
              "    </tr>\n",
              "    <tr>\n",
              "      <th>3</th>\n",
              "      <td>26</td>\n",
              "      <td>118</td>\n",
              "      <td>0.363077</td>\n",
              "      <td>0.374765</td>\n",
              "      <td>0.149954</td>\n",
              "      <td>5.423077</td>\n",
              "      <td>0.461625</td>\n",
              "      <td>0.396896</td>\n",
              "      <td>0.151054</td>\n",
              "      <td>NaN</td>\n",
              "      <td>NaN</td>\n",
              "      <td>1</td>\n",
              "    </tr>\n",
              "    <tr>\n",
              "      <th>4</th>\n",
              "      <td>55</td>\n",
              "      <td>63</td>\n",
              "      <td>0.042424</td>\n",
              "      <td>0.021762</td>\n",
              "      <td>0.037730</td>\n",
              "      <td>1.345455</td>\n",
              "      <td>0.039209</td>\n",
              "      <td>0.214286</td>\n",
              "      <td>0.018182</td>\n",
              "      <td>NaN</td>\n",
              "      <td>NaN</td>\n",
              "      <td>1</td>\n",
              "    </tr>\n",
              "  </tbody>\n",
              "</table>\n",
              "</div>\n",
              "      <button class=\"colab-df-convert\" onclick=\"convertToInteractive('df-42008b17-84e0-467b-bf52-1f048726602c')\"\n",
              "              title=\"Convert this dataframe to an interactive table.\"\n",
              "              style=\"display:none;\">\n",
              "        \n",
              "  <svg xmlns=\"http://www.w3.org/2000/svg\" height=\"24px\"viewBox=\"0 0 24 24\"\n",
              "       width=\"24px\">\n",
              "    <path d=\"M0 0h24v24H0V0z\" fill=\"none\"/>\n",
              "    <path d=\"M18.56 5.44l.94 2.06.94-2.06 2.06-.94-2.06-.94-.94-2.06-.94 2.06-2.06.94zm-11 1L8.5 8.5l.94-2.06 2.06-.94-2.06-.94L8.5 2.5l-.94 2.06-2.06.94zm10 10l.94 2.06.94-2.06 2.06-.94-2.06-.94-.94-2.06-.94 2.06-2.06.94z\"/><path d=\"M17.41 7.96l-1.37-1.37c-.4-.4-.92-.59-1.43-.59-.52 0-1.04.2-1.43.59L10.3 9.45l-7.72 7.72c-.78.78-.78 2.05 0 2.83L4 21.41c.39.39.9.59 1.41.59.51 0 1.02-.2 1.41-.59l7.78-7.78 2.81-2.81c.8-.78.8-2.07 0-2.86zM5.41 20L4 18.59l7.72-7.72 1.47 1.35L5.41 20z\"/>\n",
              "  </svg>\n",
              "      </button>\n",
              "      \n",
              "  <style>\n",
              "    .colab-df-container {\n",
              "      display:flex;\n",
              "      flex-wrap:wrap;\n",
              "      gap: 12px;\n",
              "    }\n",
              "\n",
              "    .colab-df-convert {\n",
              "      background-color: #E8F0FE;\n",
              "      border: none;\n",
              "      border-radius: 50%;\n",
              "      cursor: pointer;\n",
              "      display: none;\n",
              "      fill: #1967D2;\n",
              "      height: 32px;\n",
              "      padding: 0 0 0 0;\n",
              "      width: 32px;\n",
              "    }\n",
              "\n",
              "    .colab-df-convert:hover {\n",
              "      background-color: #E2EBFA;\n",
              "      box-shadow: 0px 1px 2px rgba(60, 64, 67, 0.3), 0px 1px 3px 1px rgba(60, 64, 67, 0.15);\n",
              "      fill: #174EA6;\n",
              "    }\n",
              "\n",
              "    [theme=dark] .colab-df-convert {\n",
              "      background-color: #3B4455;\n",
              "      fill: #D2E3FC;\n",
              "    }\n",
              "\n",
              "    [theme=dark] .colab-df-convert:hover {\n",
              "      background-color: #434B5C;\n",
              "      box-shadow: 0px 1px 3px 1px rgba(0, 0, 0, 0.15);\n",
              "      filter: drop-shadow(0px 1px 2px rgba(0, 0, 0, 0.3));\n",
              "      fill: #FFFFFF;\n",
              "    }\n",
              "  </style>\n",
              "\n",
              "      <script>\n",
              "        const buttonEl =\n",
              "          document.querySelector('#df-42008b17-84e0-467b-bf52-1f048726602c button.colab-df-convert');\n",
              "        buttonEl.style.display =\n",
              "          google.colab.kernel.accessAllowed ? 'block' : 'none';\n",
              "\n",
              "        async function convertToInteractive(key) {\n",
              "          const element = document.querySelector('#df-42008b17-84e0-467b-bf52-1f048726602c');\n",
              "          const dataTable =\n",
              "            await google.colab.kernel.invokeFunction('convertToInteractive',\n",
              "                                                     [key], {});\n",
              "          if (!dataTable) return;\n",
              "\n",
              "          const docLinkHtml = 'Like what you see? Visit the ' +\n",
              "            '<a target=\"_blank\" href=https://colab.research.google.com/notebooks/data_table.ipynb>data table notebook</a>'\n",
              "            + ' to learn more about interactive tables.';\n",
              "          element.innerHTML = '';\n",
              "          dataTable['output_type'] = 'display_data';\n",
              "          await google.colab.output.renderOutput(dataTable, element);\n",
              "          const docLink = document.createElement('div');\n",
              "          docLink.innerHTML = docLinkHtml;\n",
              "          element.appendChild(docLink);\n",
              "        }\n",
              "      </script>\n",
              "    </div>\n",
              "  </div>\n",
              "  "
            ]
          },
          "metadata": {},
          "execution_count": 4
        }
      ]
    },
    {
      "cell_type": "markdown",
      "source": [
        "\n",
        "## Extracting Other Conspiracy Graphs\n",
        "\n",
        "The same operations performed above are done to create a dataframe for this set of conspiracy graphs. Each row is given the label as `1`."
      ],
      "metadata": {
        "id": "Sg2N2GR98cy_"
      }
    },
    {
      "cell_type": "code",
      "source": [
        "temp = []\n",
        "\n",
        "for i in range(1,598):\n",
        "    temp.append(list_files(f'Other_Graphs/{i}/'))\n",
        "\n",
        "other_cons = []\n",
        "for i in range(len(temp)):\n",
        "  for j in range(len(temp[i])):\n",
        "    if 'edges' in temp[i][j]:\n",
        "      break\n",
        "  f = pd.read_csv(temp[i][j],sep=\" \",names=['source','target'])\n",
        "  g = nx.from_pandas_edgelist(f,source='source', target='target',create_using = nx.DiGraph)\n",
        "  features = []\n",
        "  features.append(nx.number_of_nodes(g))\n",
        "  features.append(nx.number_of_edges(g))\n",
        "  try:\n",
        "    features.append(np.mean(list(nx.degree_centrality(g).values())))\n",
        "  except:\n",
        "    features.append(np.nan)\n",
        "  try:\n",
        "    features.append(np.mean(list(nx.closeness_centrality(g).values())))\n",
        "  except:\n",
        "    features.append(np.nan)\n",
        "  try:\n",
        "    features.append(np.mean(list(nx.eigenvector_centrality(g).values())))\n",
        "  except:\n",
        "    features.append(np.nan)\n",
        "  try:\n",
        "    features.append(np.mean(list(nx.core_number(g).values())))\n",
        "  except:\n",
        "    features.append(np.nan)\n",
        "  try:\n",
        "    features.append(nx.average_clustering(g))\n",
        "  except:\n",
        "    features.append(np.nan)\n",
        "  try:\n",
        "    features.append(nx.transitivity(g))\n",
        "  except:\n",
        "    features.append(np.nan)\n",
        "  try:\n",
        "    features.append(np.mean(list(nx.square_clustering(g).values())))\n",
        "  except:\n",
        "    features.append(np.nan)\n",
        "  try:\n",
        "    features.append(nx.radius(g))\n",
        "  except:\n",
        "    features.append(np.nan)\n",
        "  try:\n",
        "    features.append(nx.diameter(g))\n",
        "  except:\n",
        "    features.append(np.nan)\n",
        "  features.append(1)\n",
        "  other_cons.append(features)\n",
        "\n",
        "othergc = pd.DataFrame(other_cons, columns = [\"nodes\",\"edges\",\"degree_centrality\",\"closeness_centrality\",\"eigenvector_centrality\",\"core_number\",\"average_clustering\",\"transitivity\",\"square_clustering\",\"radius\",\"diameter\",\"label\"])"
      ],
      "metadata": {
        "id": "RfB1VpAR8c-V"
      },
      "execution_count": null,
      "outputs": []
    },
    {
      "cell_type": "code",
      "source": [
        "othergc.head()"
      ],
      "metadata": {
        "colab": {
          "base_uri": "https://localhost:8080/",
          "height": 250
        },
        "id": "R99FsVOmQ8-n",
        "outputId": "b2229cb1-0ef2-437c-92f1-0e559334461c"
      },
      "execution_count": null,
      "outputs": [
        {
          "output_type": "execute_result",
          "data": {
            "text/plain": [
              "   nodes  edges  degree_centrality  closeness_centrality  \\\n",
              "0      6     10           0.666667              0.629630   \n",
              "1     33    116           0.219697              0.416511   \n",
              "2     97    484           0.103952              0.382327   \n",
              "3      7     16           0.761905              0.527211   \n",
              "4     34     45           0.080214              0.049392   \n",
              "\n",
              "   eigenvector_centrality  core_number  average_clustering  transitivity  \\\n",
              "0                0.381374     2.000000            0.000000      0.000000   \n",
              "1                0.137674     4.090909            0.401854      0.195796   \n",
              "2                0.071499     5.639175            0.404945      0.161834   \n",
              "3                0.311391     3.285714            0.496429      0.500000   \n",
              "4                0.067689     1.500000            0.089684      0.250000   \n",
              "\n",
              "   square_clustering  radius  diameter  label  \n",
              "0           0.000000     1.0       2.0      1  \n",
              "1           0.136842     NaN       NaN      1  \n",
              "2           0.086154     NaN       NaN      1  \n",
              "3           0.904762     NaN       NaN      1  \n",
              "4           0.186275     NaN       NaN      1  "
            ],
            "text/html": [
              "\n",
              "  <div id=\"df-983eb27b-ccb8-4204-b53c-ad82468c2525\">\n",
              "    <div class=\"colab-df-container\">\n",
              "      <div>\n",
              "<style scoped>\n",
              "    .dataframe tbody tr th:only-of-type {\n",
              "        vertical-align: middle;\n",
              "    }\n",
              "\n",
              "    .dataframe tbody tr th {\n",
              "        vertical-align: top;\n",
              "    }\n",
              "\n",
              "    .dataframe thead th {\n",
              "        text-align: right;\n",
              "    }\n",
              "</style>\n",
              "<table border=\"1\" class=\"dataframe\">\n",
              "  <thead>\n",
              "    <tr style=\"text-align: right;\">\n",
              "      <th></th>\n",
              "      <th>nodes</th>\n",
              "      <th>edges</th>\n",
              "      <th>degree_centrality</th>\n",
              "      <th>closeness_centrality</th>\n",
              "      <th>eigenvector_centrality</th>\n",
              "      <th>core_number</th>\n",
              "      <th>average_clustering</th>\n",
              "      <th>transitivity</th>\n",
              "      <th>square_clustering</th>\n",
              "      <th>radius</th>\n",
              "      <th>diameter</th>\n",
              "      <th>label</th>\n",
              "    </tr>\n",
              "  </thead>\n",
              "  <tbody>\n",
              "    <tr>\n",
              "      <th>0</th>\n",
              "      <td>6</td>\n",
              "      <td>10</td>\n",
              "      <td>0.666667</td>\n",
              "      <td>0.629630</td>\n",
              "      <td>0.381374</td>\n",
              "      <td>2.000000</td>\n",
              "      <td>0.000000</td>\n",
              "      <td>0.000000</td>\n",
              "      <td>0.000000</td>\n",
              "      <td>1.0</td>\n",
              "      <td>2.0</td>\n",
              "      <td>1</td>\n",
              "    </tr>\n",
              "    <tr>\n",
              "      <th>1</th>\n",
              "      <td>33</td>\n",
              "      <td>116</td>\n",
              "      <td>0.219697</td>\n",
              "      <td>0.416511</td>\n",
              "      <td>0.137674</td>\n",
              "      <td>4.090909</td>\n",
              "      <td>0.401854</td>\n",
              "      <td>0.195796</td>\n",
              "      <td>0.136842</td>\n",
              "      <td>NaN</td>\n",
              "      <td>NaN</td>\n",
              "      <td>1</td>\n",
              "    </tr>\n",
              "    <tr>\n",
              "      <th>2</th>\n",
              "      <td>97</td>\n",
              "      <td>484</td>\n",
              "      <td>0.103952</td>\n",
              "      <td>0.382327</td>\n",
              "      <td>0.071499</td>\n",
              "      <td>5.639175</td>\n",
              "      <td>0.404945</td>\n",
              "      <td>0.161834</td>\n",
              "      <td>0.086154</td>\n",
              "      <td>NaN</td>\n",
              "      <td>NaN</td>\n",
              "      <td>1</td>\n",
              "    </tr>\n",
              "    <tr>\n",
              "      <th>3</th>\n",
              "      <td>7</td>\n",
              "      <td>16</td>\n",
              "      <td>0.761905</td>\n",
              "      <td>0.527211</td>\n",
              "      <td>0.311391</td>\n",
              "      <td>3.285714</td>\n",
              "      <td>0.496429</td>\n",
              "      <td>0.500000</td>\n",
              "      <td>0.904762</td>\n",
              "      <td>NaN</td>\n",
              "      <td>NaN</td>\n",
              "      <td>1</td>\n",
              "    </tr>\n",
              "    <tr>\n",
              "      <th>4</th>\n",
              "      <td>34</td>\n",
              "      <td>45</td>\n",
              "      <td>0.080214</td>\n",
              "      <td>0.049392</td>\n",
              "      <td>0.067689</td>\n",
              "      <td>1.500000</td>\n",
              "      <td>0.089684</td>\n",
              "      <td>0.250000</td>\n",
              "      <td>0.186275</td>\n",
              "      <td>NaN</td>\n",
              "      <td>NaN</td>\n",
              "      <td>1</td>\n",
              "    </tr>\n",
              "  </tbody>\n",
              "</table>\n",
              "</div>\n",
              "      <button class=\"colab-df-convert\" onclick=\"convertToInteractive('df-983eb27b-ccb8-4204-b53c-ad82468c2525')\"\n",
              "              title=\"Convert this dataframe to an interactive table.\"\n",
              "              style=\"display:none;\">\n",
              "        \n",
              "  <svg xmlns=\"http://www.w3.org/2000/svg\" height=\"24px\"viewBox=\"0 0 24 24\"\n",
              "       width=\"24px\">\n",
              "    <path d=\"M0 0h24v24H0V0z\" fill=\"none\"/>\n",
              "    <path d=\"M18.56 5.44l.94 2.06.94-2.06 2.06-.94-2.06-.94-.94-2.06-.94 2.06-2.06.94zm-11 1L8.5 8.5l.94-2.06 2.06-.94-2.06-.94L8.5 2.5l-.94 2.06-2.06.94zm10 10l.94 2.06.94-2.06 2.06-.94-2.06-.94-.94-2.06-.94 2.06-2.06.94z\"/><path d=\"M17.41 7.96l-1.37-1.37c-.4-.4-.92-.59-1.43-.59-.52 0-1.04.2-1.43.59L10.3 9.45l-7.72 7.72c-.78.78-.78 2.05 0 2.83L4 21.41c.39.39.9.59 1.41.59.51 0 1.02-.2 1.41-.59l7.78-7.78 2.81-2.81c.8-.78.8-2.07 0-2.86zM5.41 20L4 18.59l7.72-7.72 1.47 1.35L5.41 20z\"/>\n",
              "  </svg>\n",
              "      </button>\n",
              "      \n",
              "  <style>\n",
              "    .colab-df-container {\n",
              "      display:flex;\n",
              "      flex-wrap:wrap;\n",
              "      gap: 12px;\n",
              "    }\n",
              "\n",
              "    .colab-df-convert {\n",
              "      background-color: #E8F0FE;\n",
              "      border: none;\n",
              "      border-radius: 50%;\n",
              "      cursor: pointer;\n",
              "      display: none;\n",
              "      fill: #1967D2;\n",
              "      height: 32px;\n",
              "      padding: 0 0 0 0;\n",
              "      width: 32px;\n",
              "    }\n",
              "\n",
              "    .colab-df-convert:hover {\n",
              "      background-color: #E2EBFA;\n",
              "      box-shadow: 0px 1px 2px rgba(60, 64, 67, 0.3), 0px 1px 3px 1px rgba(60, 64, 67, 0.15);\n",
              "      fill: #174EA6;\n",
              "    }\n",
              "\n",
              "    [theme=dark] .colab-df-convert {\n",
              "      background-color: #3B4455;\n",
              "      fill: #D2E3FC;\n",
              "    }\n",
              "\n",
              "    [theme=dark] .colab-df-convert:hover {\n",
              "      background-color: #434B5C;\n",
              "      box-shadow: 0px 1px 3px 1px rgba(0, 0, 0, 0.15);\n",
              "      filter: drop-shadow(0px 1px 2px rgba(0, 0, 0, 0.3));\n",
              "      fill: #FFFFFF;\n",
              "    }\n",
              "  </style>\n",
              "\n",
              "      <script>\n",
              "        const buttonEl =\n",
              "          document.querySelector('#df-983eb27b-ccb8-4204-b53c-ad82468c2525 button.colab-df-convert');\n",
              "        buttonEl.style.display =\n",
              "          google.colab.kernel.accessAllowed ? 'block' : 'none';\n",
              "\n",
              "        async function convertToInteractive(key) {\n",
              "          const element = document.querySelector('#df-983eb27b-ccb8-4204-b53c-ad82468c2525');\n",
              "          const dataTable =\n",
              "            await google.colab.kernel.invokeFunction('convertToInteractive',\n",
              "                                                     [key], {});\n",
              "          if (!dataTable) return;\n",
              "\n",
              "          const docLinkHtml = 'Like what you see? Visit the ' +\n",
              "            '<a target=\"_blank\" href=https://colab.research.google.com/notebooks/data_table.ipynb>data table notebook</a>'\n",
              "            + ' to learn more about interactive tables.';\n",
              "          element.innerHTML = '';\n",
              "          dataTable['output_type'] = 'display_data';\n",
              "          await google.colab.output.renderOutput(dataTable, element);\n",
              "          const docLink = document.createElement('div');\n",
              "          docLink.innerHTML = docLinkHtml;\n",
              "          element.appendChild(docLink);\n",
              "        }\n",
              "      </script>\n",
              "    </div>\n",
              "  </div>\n",
              "  "
            ]
          },
          "metadata": {},
          "execution_count": 6
        }
      ]
    },
    {
      "cell_type": "markdown",
      "source": [
        "## Extracting Non-Conspiracy Graphs\n",
        "\n",
        "The graphs in this class are given a label of `0` indicating the absence of rumor."
      ],
      "metadata": {
        "id": "IZzQulFN8dVo"
      }
    },
    {
      "cell_type": "code",
      "source": [
        "  temp = []\n",
        "\n",
        "for i in range(1,2502):\n",
        "    temp.append(list_files(f'Non_Conspiracy_Graphs/{i}/'))\n",
        "\n",
        "non_cons = []\n",
        "for i in range(len(temp)):\n",
        "  for j in range(len(temp[i])):\n",
        "    if 'edges' in temp[i][j]:\n",
        "      break\n",
        "  f = pd.read_csv(temp[i][j],sep=\" \",names=['source','target'])\n",
        "  g = nx.from_pandas_edgelist(f,source='source', target='target',create_using = nx.DiGraph)\n",
        "  features = []\n",
        "  features.append(nx.number_of_nodes(g))\n",
        "  features.append(nx.number_of_edges(g))\n",
        "  try:\n",
        "    features.append(np.mean(list(nx.degree_centrality(g).values())))\n",
        "  except:\n",
        "    features.append(np.nan)\n",
        "  try:\n",
        "    features.append(np.mean(list(nx.closeness_centrality(g).values())))\n",
        "  except:\n",
        "    features.append(np.nan)\n",
        "  try:\n",
        "    features.append(np.mean(list(nx.eigenvector_centrality(g).values())))\n",
        "  except:\n",
        "    features.append(np.nan)\n",
        "  try:\n",
        "    features.append(np.mean(list(nx.core_number(g).values())))\n",
        "  except:\n",
        "    features.append(np.nan)\n",
        "  try:\n",
        "    features.append(nx.average_clustering(g))\n",
        "  except:\n",
        "    features.append(np.nan)\n",
        "  try:\n",
        "    features.append(nx.transitivity(g))\n",
        "  except:\n",
        "    features.append(np.nan)\n",
        "  try:\n",
        "    features.append(np.mean(list(nx.square_clustering(g).values())))\n",
        "  except:\n",
        "    features.append(np.nan)\n",
        "  try:\n",
        "    features.append(nx.radius(g))\n",
        "  except:\n",
        "    features.append(np.nan)\n",
        "  try:\n",
        "    features.append(nx.diameter(g))\n",
        "  except:\n",
        "    features.append(np.nan)\n",
        "  features.append(0)\n",
        "  non_cons.append(features)\n",
        "\n",
        "nongc = pd.DataFrame(non_cons, columns = [\"nodes\",\"edges\",\"degree_centrality\",\"closeness_centrality\",\"eigenvector_centrality\",\"core_number\",\"average_clustering\",\"transitivity\",\"square_clustering\",\"radius\",\"diameter\",\"label\"])"
      ],
      "metadata": {
        "id": "vwiTnfZZ8de1"
      },
      "execution_count": null,
      "outputs": []
    },
    {
      "cell_type": "code",
      "source": [
        "nongc.head()"
      ],
      "metadata": {
        "colab": {
          "base_uri": "https://localhost:8080/",
          "height": 250
        },
        "id": "pzjVeQl7QvC4",
        "outputId": "a5adb816-e0f1-41ac-e7c8-e81cb5b57cd0"
      },
      "execution_count": null,
      "outputs": [
        {
          "output_type": "execute_result",
          "data": {
            "text/plain": [
              "   nodes  edges  degree_centrality  closeness_centrality  \\\n",
              "0     51    127           0.099608              0.198745   \n",
              "1     72    202           0.079030              0.211209   \n",
              "2      9      8           0.222222              0.111111   \n",
              "3     11     12           0.218182              0.115152   \n",
              "4     58     96           0.058076              0.209348   \n",
              "\n",
              "   eigenvector_centrality  core_number  average_clustering  transitivity  \\\n",
              "0                0.071539     2.843137            0.306668      0.297980   \n",
              "1                0.060700     3.166667            0.328255      0.330996   \n",
              "2                     NaN     1.000000            0.000000      0.000000   \n",
              "3                0.155196     2.000000            0.000000      0.000000   \n",
              "4                0.074134     1.931034            0.104574      0.061983   \n",
              "\n",
              "   square_clustering  radius  diameter  label  \n",
              "0           0.115920     NaN       NaN      0  \n",
              "1           0.106258     NaN       NaN      0  \n",
              "2           0.000000     NaN       NaN      0  \n",
              "3           0.000000     NaN       NaN      0  \n",
              "4           0.008611     NaN       NaN      0  "
            ],
            "text/html": [
              "\n",
              "  <div id=\"df-a9430795-a8b4-47c1-8157-7299f70453d7\">\n",
              "    <div class=\"colab-df-container\">\n",
              "      <div>\n",
              "<style scoped>\n",
              "    .dataframe tbody tr th:only-of-type {\n",
              "        vertical-align: middle;\n",
              "    }\n",
              "\n",
              "    .dataframe tbody tr th {\n",
              "        vertical-align: top;\n",
              "    }\n",
              "\n",
              "    .dataframe thead th {\n",
              "        text-align: right;\n",
              "    }\n",
              "</style>\n",
              "<table border=\"1\" class=\"dataframe\">\n",
              "  <thead>\n",
              "    <tr style=\"text-align: right;\">\n",
              "      <th></th>\n",
              "      <th>nodes</th>\n",
              "      <th>edges</th>\n",
              "      <th>degree_centrality</th>\n",
              "      <th>closeness_centrality</th>\n",
              "      <th>eigenvector_centrality</th>\n",
              "      <th>core_number</th>\n",
              "      <th>average_clustering</th>\n",
              "      <th>transitivity</th>\n",
              "      <th>square_clustering</th>\n",
              "      <th>radius</th>\n",
              "      <th>diameter</th>\n",
              "      <th>label</th>\n",
              "    </tr>\n",
              "  </thead>\n",
              "  <tbody>\n",
              "    <tr>\n",
              "      <th>0</th>\n",
              "      <td>51</td>\n",
              "      <td>127</td>\n",
              "      <td>0.099608</td>\n",
              "      <td>0.198745</td>\n",
              "      <td>0.071539</td>\n",
              "      <td>2.843137</td>\n",
              "      <td>0.306668</td>\n",
              "      <td>0.297980</td>\n",
              "      <td>0.115920</td>\n",
              "      <td>NaN</td>\n",
              "      <td>NaN</td>\n",
              "      <td>0</td>\n",
              "    </tr>\n",
              "    <tr>\n",
              "      <th>1</th>\n",
              "      <td>72</td>\n",
              "      <td>202</td>\n",
              "      <td>0.079030</td>\n",
              "      <td>0.211209</td>\n",
              "      <td>0.060700</td>\n",
              "      <td>3.166667</td>\n",
              "      <td>0.328255</td>\n",
              "      <td>0.330996</td>\n",
              "      <td>0.106258</td>\n",
              "      <td>NaN</td>\n",
              "      <td>NaN</td>\n",
              "      <td>0</td>\n",
              "    </tr>\n",
              "    <tr>\n",
              "      <th>2</th>\n",
              "      <td>9</td>\n",
              "      <td>8</td>\n",
              "      <td>0.222222</td>\n",
              "      <td>0.111111</td>\n",
              "      <td>NaN</td>\n",
              "      <td>1.000000</td>\n",
              "      <td>0.000000</td>\n",
              "      <td>0.000000</td>\n",
              "      <td>0.000000</td>\n",
              "      <td>NaN</td>\n",
              "      <td>NaN</td>\n",
              "      <td>0</td>\n",
              "    </tr>\n",
              "    <tr>\n",
              "      <th>3</th>\n",
              "      <td>11</td>\n",
              "      <td>12</td>\n",
              "      <td>0.218182</td>\n",
              "      <td>0.115152</td>\n",
              "      <td>0.155196</td>\n",
              "      <td>2.000000</td>\n",
              "      <td>0.000000</td>\n",
              "      <td>0.000000</td>\n",
              "      <td>0.000000</td>\n",
              "      <td>NaN</td>\n",
              "      <td>NaN</td>\n",
              "      <td>0</td>\n",
              "    </tr>\n",
              "    <tr>\n",
              "      <th>4</th>\n",
              "      <td>58</td>\n",
              "      <td>96</td>\n",
              "      <td>0.058076</td>\n",
              "      <td>0.209348</td>\n",
              "      <td>0.074134</td>\n",
              "      <td>1.931034</td>\n",
              "      <td>0.104574</td>\n",
              "      <td>0.061983</td>\n",
              "      <td>0.008611</td>\n",
              "      <td>NaN</td>\n",
              "      <td>NaN</td>\n",
              "      <td>0</td>\n",
              "    </tr>\n",
              "  </tbody>\n",
              "</table>\n",
              "</div>\n",
              "      <button class=\"colab-df-convert\" onclick=\"convertToInteractive('df-a9430795-a8b4-47c1-8157-7299f70453d7')\"\n",
              "              title=\"Convert this dataframe to an interactive table.\"\n",
              "              style=\"display:none;\">\n",
              "        \n",
              "  <svg xmlns=\"http://www.w3.org/2000/svg\" height=\"24px\"viewBox=\"0 0 24 24\"\n",
              "       width=\"24px\">\n",
              "    <path d=\"M0 0h24v24H0V0z\" fill=\"none\"/>\n",
              "    <path d=\"M18.56 5.44l.94 2.06.94-2.06 2.06-.94-2.06-.94-.94-2.06-.94 2.06-2.06.94zm-11 1L8.5 8.5l.94-2.06 2.06-.94-2.06-.94L8.5 2.5l-.94 2.06-2.06.94zm10 10l.94 2.06.94-2.06 2.06-.94-2.06-.94-.94-2.06-.94 2.06-2.06.94z\"/><path d=\"M17.41 7.96l-1.37-1.37c-.4-.4-.92-.59-1.43-.59-.52 0-1.04.2-1.43.59L10.3 9.45l-7.72 7.72c-.78.78-.78 2.05 0 2.83L4 21.41c.39.39.9.59 1.41.59.51 0 1.02-.2 1.41-.59l7.78-7.78 2.81-2.81c.8-.78.8-2.07 0-2.86zM5.41 20L4 18.59l7.72-7.72 1.47 1.35L5.41 20z\"/>\n",
              "  </svg>\n",
              "      </button>\n",
              "      \n",
              "  <style>\n",
              "    .colab-df-container {\n",
              "      display:flex;\n",
              "      flex-wrap:wrap;\n",
              "      gap: 12px;\n",
              "    }\n",
              "\n",
              "    .colab-df-convert {\n",
              "      background-color: #E8F0FE;\n",
              "      border: none;\n",
              "      border-radius: 50%;\n",
              "      cursor: pointer;\n",
              "      display: none;\n",
              "      fill: #1967D2;\n",
              "      height: 32px;\n",
              "      padding: 0 0 0 0;\n",
              "      width: 32px;\n",
              "    }\n",
              "\n",
              "    .colab-df-convert:hover {\n",
              "      background-color: #E2EBFA;\n",
              "      box-shadow: 0px 1px 2px rgba(60, 64, 67, 0.3), 0px 1px 3px 1px rgba(60, 64, 67, 0.15);\n",
              "      fill: #174EA6;\n",
              "    }\n",
              "\n",
              "    [theme=dark] .colab-df-convert {\n",
              "      background-color: #3B4455;\n",
              "      fill: #D2E3FC;\n",
              "    }\n",
              "\n",
              "    [theme=dark] .colab-df-convert:hover {\n",
              "      background-color: #434B5C;\n",
              "      box-shadow: 0px 1px 3px 1px rgba(0, 0, 0, 0.15);\n",
              "      filter: drop-shadow(0px 1px 2px rgba(0, 0, 0, 0.3));\n",
              "      fill: #FFFFFF;\n",
              "    }\n",
              "  </style>\n",
              "\n",
              "      <script>\n",
              "        const buttonEl =\n",
              "          document.querySelector('#df-a9430795-a8b4-47c1-8157-7299f70453d7 button.colab-df-convert');\n",
              "        buttonEl.style.display =\n",
              "          google.colab.kernel.accessAllowed ? 'block' : 'none';\n",
              "\n",
              "        async function convertToInteractive(key) {\n",
              "          const element = document.querySelector('#df-a9430795-a8b4-47c1-8157-7299f70453d7');\n",
              "          const dataTable =\n",
              "            await google.colab.kernel.invokeFunction('convertToInteractive',\n",
              "                                                     [key], {});\n",
              "          if (!dataTable) return;\n",
              "\n",
              "          const docLinkHtml = 'Like what you see? Visit the ' +\n",
              "            '<a target=\"_blank\" href=https://colab.research.google.com/notebooks/data_table.ipynb>data table notebook</a>'\n",
              "            + ' to learn more about interactive tables.';\n",
              "          element.innerHTML = '';\n",
              "          dataTable['output_type'] = 'display_data';\n",
              "          await google.colab.output.renderOutput(dataTable, element);\n",
              "          const docLink = document.createElement('div');\n",
              "          docLink.innerHTML = docLinkHtml;\n",
              "          element.appendChild(docLink);\n",
              "        }\n",
              "      </script>\n",
              "    </div>\n",
              "  </div>\n",
              "  "
            ]
          },
          "metadata": {},
          "execution_count": 8
        }
      ]
    },
    {
      "cell_type": "markdown",
      "source": [
        "# 5G Conspiracy VS Non Conspiracy\n",
        "\n",
        "- First we evaluate the models on a combined dataset of the 5G conspiracy and Non conspiracy. We use pandas concat function to merge the two datasets.\n",
        "- The combined dataset will have a class imbalance, as the number of entries with class 1 is 413 compared to 2502 rows in the class 0. Hence, we will have to use models robust to such a heavy class imbalance and also adjust model to deal with the issue.\n",
        "- We fill the missing values with mean of the values in the dataset."
      ],
      "metadata": {
        "id": "e2bpGu7E9rBv"
      }
    },
    {
      "cell_type": "code",
      "source": [
        "from sklearn.model_selection import train_test_split\n",
        "from sklearn import preprocessing\n",
        "import matplotlib.pyplot as plt\n",
        "\n",
        "five_v_non = pd.concat([fivegc,nongc])\n",
        "\n",
        "X = five_v_non[[\"nodes\",\"edges\",\"degree_centrality\",\"closeness_centrality\",\"eigenvector_centrality\",\"core_number\",\"average_clustering\",\"transitivity\",\"square_clustering\",\"radius\",\"diameter\"]]\n",
        "Y = five_v_non[[\"label\"]]\n",
        "\n",
        "X['degree_centrality'].fillna(value=int(X['degree_centrality'].mean()), inplace=True)\n",
        "X['closeness_centrality'].fillna(value=int(X['closeness_centrality'].mean()), inplace=True)\n",
        "X['eigenvector_centrality'].fillna(value=int(X['eigenvector_centrality'].mean()), inplace=True)\n",
        "X['core_number'].fillna(value=int(X['core_number'].mean()), inplace=True)\n",
        "X['average_clustering'].fillna(value=int(X['average_clustering'].mean()), inplace=True)\n",
        "X['transitivity'].fillna(value=int(X['transitivity'].mean()), inplace=True)\n",
        "X['square_clustering'].fillna(value=int(X['square_clustering'].mean()), inplace=True)\n",
        "X['radius'].fillna(value=int(X['radius'].mean()), inplace=True)\n",
        "X['diameter'].fillna(value=int(X['diameter'].mean()), inplace=True)\n",
        "\n",
        "X = preprocessing.scale(X) "
      ],
      "metadata": {
        "id": "x31AZJyv5tSW"
      },
      "execution_count": null,
      "outputs": []
    },
    {
      "cell_type": "markdown",
      "source": [
        "## Weighted Support Vector Classification.\n",
        "\n",
        "- The Support Vector Machine algorithm is effective for balanced classification, although it does not perform well on imbalanced datasets.\n",
        "- The SVM algorithm finds a hyperplane decision boundary that best splits the examples into two classes. The split is made soft through the use of a margin that allows some points to be misclassified. By default, this margin favors the majority class on imbalanced datasets, although it can be updated to take the importance of each class into account and dramatically improve the performance of the algorithm on datasets with skewed class distributions.\n"
      ],
      "metadata": {
        "id": "rRmfru0eT-_z"
      }
    },
    {
      "cell_type": "code",
      "source": [
        "from sklearn.svm import SVC\n",
        "from sklearn.model_selection import cross_val_score\n",
        "from sklearn.model_selection import GridSearchCV\n",
        "\n",
        "weights = ({0:1.0, 1:1.0},{0:2.0, 1:1.0},{0:5.0, 1:1.0})\n",
        "parameters = {'kernel':('linear', 'poly', 'rbf', 'sigmoid'),'C':(0.5,1,1.5,2,2.5),'class_weight':weights}\n",
        "svc = SVC(class_weight=weights)\n",
        "clf = GridSearchCV(svc, parameters,scoring = 'precision')\n",
        "clf.fit(X,np.array(Y).ravel())"
      ],
      "metadata": {
        "id": "rMVX3ViqYsYC"
      },
      "execution_count": null,
      "outputs": []
    },
    {
      "cell_type": "code",
      "source": [
        "fig,ax = plt.subplots(1,1,figsize = (8,6))\n",
        "temp =[]\n",
        "for i,j in zip(clf.cv_results_['params'],clf.cv_results_['mean_test_score']):\n",
        "  temp.append([i,j])\n",
        "temp = sorted(temp,key=lambda x: x[1],reverse = True)\n",
        "y = [i[0] for i in temp[:5]]\n",
        "x = [i[1] for i in temp[:5]]\n",
        "y_pos = np.arange(len(y))\n",
        "ax.barh(y_pos,x)\n",
        "ax.set_yticks(y_pos)\n",
        "ax.set_yticklabels(y)\n",
        "ax.invert_yaxis()\n",
        "plt.plot()"
      ],
      "metadata": {
        "colab": {
          "base_uri": "https://localhost:8080/",
          "height": 391
        },
        "id": "c_MqbR4JkNqn",
        "outputId": "d8c86f39-dcde-4a24-9d12-c015aa43faac"
      },
      "execution_count": null,
      "outputs": [
        {
          "output_type": "execute_result",
          "data": {
            "text/plain": [
              "[]"
            ]
          },
          "metadata": {},
          "execution_count": 57
        },
        {
          "output_type": "display_data",
          "data": {
            "text/plain": [
              "<Figure size 576x432 with 1 Axes>"
            ],
            "image/png": "[encoded data removed]"
          },
          "metadata": {
            "needs_background": "light"
          }
        }
      ]
    },
    {
      "cell_type": "markdown",
      "source": [
        "### Random Forest"
      ],
      "metadata": {
        "id": "0G6lKOuOHizx"
      }
    },
    {
      "cell_type": "code",
      "source": [
        "from sklearn.ensemble import RandomForestClassifier\n",
        "\n",
        "parameters = {'n_estimators':(5,10,20,40,60,100),'criterion':('gini', 'entropy', 'log_loss'),'max_features':('sqrt', 'log2', 'None')}\n",
        "rfc = RandomForestClassifier()\n",
        "\n",
        "clf = GridSearchCV(rfc, parameters, scoring = 'precision')\n",
        "clf.fit(X,np.array(Y).ravel())"
      ],
      "metadata": {
        "id": "MYa8xsLYK-F2"
      },
      "execution_count": null,
      "outputs": []
    },
    {
      "cell_type": "code",
      "source": [
        "fig,ax = plt.subplots(1,1,figsize = (8,6))\n",
        "temp =[]\n",
        "for i,j in zip(clf.cv_results_['params'],clf.cv_results_['mean_test_score']):\n",
        "  temp.append([i,j])\n",
        "temp = sorted(temp,key=lambda x: x[1],reverse = True)\n",
        "y = [i[0] for i in temp[:5]]\n",
        "x = [i[1] for i in temp[:5]]\n",
        "y_pos = np.arange(len(y))\n",
        "ax.barh(y_pos,x)\n",
        "ax.set_yticks(y_pos)\n",
        "ax.set_yticklabels(y)\n",
        "ax.invert_yaxis()\n",
        "plt.plot()"
      ],
      "metadata": {
        "colab": {
          "base_uri": "https://localhost:8080/",
          "height": 391
        },
        "id": "JhQjB29YncYO",
        "outputId": "9f442bfe-28c3-4424-d74f-616e71050d77"
      },
      "execution_count": null,
      "outputs": [
        {
          "output_type": "execute_result",
          "data": {
            "text/plain": [
              "[]"
            ]
          },
          "metadata": {},
          "execution_count": 55
        },
        {
          "output_type": "display_data",
          "data": {
            "text/plain": [
              "<Figure size 576x432 with 1 Axes>"
            ],
            "image/png": "[encoded data removed]"
          },
          "metadata": {
            "needs_background": "light"
          }
        }
      ]
    },
    {
      "cell_type": "markdown",
      "source": [
        "## Logistic Regression"
      ],
      "metadata": {
        "id": "484fK6Z6MYQM"
      }
    },
    {
      "cell_type": "code",
      "source": [
        "from sklearn.linear_model import LogisticRegression\n",
        "from sklearn.model_selection import cross_val_score\n",
        "from sklearn.model_selection import GridSearchCV\n",
        "\n",
        "parameters = {'penalty':('l1', 'l2', 'elasticnet'),'C':(0.1,0.2,0.5,1,1.5,2)}\n",
        "lr = LogisticRegression(solver='saga',max_iter=5000)\n",
        "\n",
        "clf = GridSearchCV(lr, parameters,scoring = 'precision')\n",
        "clf.fit(X,np.array(Y).ravel())"
      ],
      "metadata": {
        "id": "vfCigP9wMcWo"
      },
      "execution_count": null,
      "outputs": []
    },
    {
      "cell_type": "code",
      "source": [
        "fig,ax = plt.subplots(1,1,figsize = (8,6))\n",
        "temp =[]\n",
        "for i,j in zip(clf.cv_results_['params'],clf.cv_results_['mean_test_score']):\n",
        "  temp.append([i,j])\n",
        "temp = sorted(temp,key=lambda x: x[1],reverse = True)\n",
        "y = [i[0] for i in temp[:5]]\n",
        "x = [i[1] for i in temp[:5]]\n",
        "y_pos = np.arange(len(y))\n",
        "ax.barh(y_pos,x)\n",
        "ax.set_yticks(y_pos)\n",
        "ax.set_yticklabels(y)\n",
        "ax.invert_yaxis()\n",
        "plt.plot()"
      ],
      "metadata": {
        "colab": {
          "base_uri": "https://localhost:8080/",
          "height": 391
        },
        "id": "b7NEp1eZMcZu",
        "outputId": "89993871-4f8e-45e7-c574-847e0623e504"
      },
      "execution_count": null,
      "outputs": [
        {
          "output_type": "execute_result",
          "data": {
            "text/plain": [
              "[]"
            ]
          },
          "metadata": {},
          "execution_count": 9
        },
        {
          "output_type": "display_data",
          "data": {
            "text/plain": [
              "<Figure size 576x432 with 1 Axes>"
            ],
            "image/png": "[encoded data removed]"
          },
          "metadata": {
            "needs_background": "light"
          }
        }
      ]
    },
    {
      "cell_type": "markdown",
      "source": [
        "## AdaBoost Classifier"
      ],
      "metadata": {
        "id": "iSC_Cv_PMr7T"
      }
    },
    {
      "cell_type": "code",
      "source": [
        "from sklearn.ensemble import AdaBoostClassifier\n",
        "\n",
        "parameters = {'n_estimators':(25,50,100,150),'learning_rate':(0.1,0.5,1,1.5)}\n",
        "abc = AdaBoostClassifier()\n",
        "\n",
        "clf = GridSearchCV(abc, parameters,scoring = 'precision')\n",
        "clf.fit(X,np.array(Y).ravel())"
      ],
      "metadata": {
        "id": "MfqhP6FBMsEO"
      },
      "execution_count": null,
      "outputs": []
    },
    {
      "cell_type": "code",
      "source": [
        "fig,ax = plt.subplots(1,1,figsize = (8,6))\n",
        "temp =[]\n",
        "for i,j in zip(clf.cv_results_['params'],clf.cv_results_['mean_test_score']):\n",
        "  temp.append([i,j])\n",
        "temp = sorted(temp,key=lambda x: x[1],reverse = True)\n",
        "y = [i[0] for i in temp[:5]]\n",
        "x = [i[1] for i in temp[:5]]\n",
        "y_pos = np.arange(len(y))\n",
        "ax.barh(y_pos,x)\n",
        "ax.set_yticks(y_pos)\n",
        "ax.set_yticklabels(y)\n",
        "ax.invert_yaxis()\n",
        "plt.plot()"
      ],
      "metadata": {
        "colab": {
          "base_uri": "https://localhost:8080/",
          "height": 391
        },
        "id": "7TgNahq6MsG_",
        "outputId": "154e2b08-2338-48b1-ada5-5e607cb4e1e2"
      },
      "execution_count": null,
      "outputs": [
        {
          "output_type": "execute_result",
          "data": {
            "text/plain": [
              "[]"
            ]
          },
          "metadata": {},
          "execution_count": 11
        },
        {
          "output_type": "display_data",
          "data": {
            "text/plain": [
              "<Figure size 576x432 with 1 Axes>"
            ],
            "image/png": "[encoded data removed]"
          },
          "metadata": {
            "needs_background": "light"
          }
        }
      ]
    },
    {
      "cell_type": "markdown",
      "source": [
        "### Histogram Based Gradient Boosting"
      ],
      "metadata": {
        "id": "uVqyVWBnHmd8"
      }
    },
    {
      "cell_type": "code",
      "source": [
        "from sklearn.ensemble import HistGradientBoostingClassifier\n",
        "\n",
        "hgb = HistGradientBoostingClassifier()\n",
        "\n",
        "scores =  cross_val_score(hgb,X,np.array(Y).ravel(),cv = 5,scoring = 'precision')\n",
        "scores,scores.mean()"
      ],
      "metadata": {
        "colab": {
          "base_uri": "https://localhost:8080/"
        },
        "id": "-TR1EY8lLZ7E",
        "outputId": "7308f375-05ab-4632-ef0e-dad0bcc70ba7"
      },
      "execution_count": null,
      "outputs": [
        {
          "output_type": "execute_result",
          "data": {
            "text/plain": [
              "(array([0.28571429, 0.22222222, 0.27777778, 0.23529412, 0.3125    ]),\n",
              " 0.2667016806722689)"
            ]
          },
          "metadata": {},
          "execution_count": 44
        }
      ]
    },
    {
      "cell_type": "code",
      "source": [
        "from sklearn.ensemble import HistGradientBoostingClassifier\n",
        "\n",
        "hgb = HistGradientBoostingClassifier()\n",
        "\n",
        "scores =  cross_val_score(hgb,X_transformed_p,np.array(Y).ravel(),cv = 5,scoring = 'precision')\n",
        "scores,scores.mean()"
      ],
      "metadata": {
        "colab": {
          "base_uri": "https://localhost:8080/"
        },
        "id": "6tWWP3l5X3Ng",
        "outputId": "d929d0be-ec03-4e21-b96c-a8567940e079"
      },
      "execution_count": null,
      "outputs": [
        {
          "output_type": "execute_result",
          "data": {
            "text/plain": [
              "(array([0.4       , 0.47368421, 0.25      , 0.22222222, 0.32      ]),\n",
              " 0.33318128654970763)"
            ]
          },
          "metadata": {},
          "execution_count": 46
        }
      ]
    },
    {
      "cell_type": "code",
      "source": [
        "from sklearn.ensemble import HistGradientBoostingClassifier\n",
        "\n",
        "hgb = HistGradientBoostingClassifier()\n",
        "\n",
        "scores =  cross_val_score(hgb,X_transformed_l,np.array(Y).ravel(),cv = 5,scoring = 'precision')\n",
        "scores,scores.mean()"
      ],
      "metadata": {
        "colab": {
          "base_uri": "https://localhost:8080/"
        },
        "id": "b8Faq7okX3Rs",
        "outputId": "4d2d6643-ec52-47d0-c8a0-425f77d4ed23"
      },
      "execution_count": null,
      "outputs": [
        {
          "output_type": "execute_result",
          "data": {
            "text/plain": [
              "(array([0.34285714, 0.26086957, 0.34482759, 0.14285714, 0.35294118]),\n",
              " 0.28887052272183233)"
            ]
          },
          "metadata": {},
          "execution_count": 47
        }
      ]
    },
    {
      "cell_type": "markdown",
      "source": [
        "## Kernel Principal Component Analysis Dimension Reduction"
      ],
      "metadata": {
        "id": "yuYcYdcC16CX"
      }
    },
    {
      "cell_type": "markdown",
      "source": [
        "We explore the various kernels that can be used in the dimension reduction, i.e , `linear, rbf and poly kernels`. We choose the kernel giving us the best precision score in our cross validation."
      ],
      "metadata": {
        "id": "DYljpIDLuRvq"
      }
    },
    {
      "cell_type": "code",
      "source": [
        "from sklearn.decomposition import KernelPCA\n",
        "transformer_l = KernelPCA(n_components=None, kernel='linear')\n",
        "X_transformed_l = transformer_l.fit_transform(X)\n",
        "X_transformed_l = preprocessing.scale(X_transformed_l) \n",
        "\n",
        "transformer_r = KernelPCA(n_components=None, kernel='rbf')\n",
        "X_transformed_r = transformer_r.fit_transform(X)\n",
        "X_transformed_r = preprocessing.scale(X_transformed_r) \n",
        "\n",
        "transformer_p = KernelPCA(n_components=None, kernel='poly')\n",
        "X_transformed_p = transformer_p.fit_transform(X)\n",
        "X_transformed_p = preprocessing.scale(X_transformed_p) "
      ],
      "metadata": {
        "id": "tiSzNMzU15dO"
      },
      "execution_count": null,
      "outputs": []
    },
    {
      "cell_type": "code",
      "source": [
        "print(f\"Variance captured by 7 eigen values in linear kernel: {np.sum(transformer_l.eigenvalues_[:7])/np.sum(transformer_l.eigenvalues_)}\")\n",
        "print(f\"Variance captured by 50 eigen values in rbf kernel: {np.sum(transformer_r.eigenvalues_[:50])/np.sum(transformer_r.eigenvalues_)}\")\n",
        "print(f\"Variance captured by 7 eigen values in poly kernel: {np.sum(transformer_p.eigenvalues_[:7])/np.sum(transformer_p.eigenvalues_)}\")"
      ],
      "metadata": {
        "colab": {
          "base_uri": "https://localhost:8080/"
        },
        "id": "adDOCtk1s5vl",
        "outputId": "c4a0b9bb-b756-4e46-c4bb-29fdbc323262"
      },
      "execution_count": null,
      "outputs": [
        {
          "output_type": "stream",
          "name": "stdout",
          "text": [
            "Variance captured by 7 eigen values in linear kernel: 0.9712394243309551\n",
            "Variance captured by 50 eigen values in rbf kernel: 0.9450133781838482\n",
            "Variance captured by 7 eigen values in poly kernel: 0.9492795412712789\n"
          ]
        }
      ]
    },
    {
      "cell_type": "markdown",
      "source": [
        "Since the top 10 eigen values capture significant amount of the variance in linear and poly kernels we will take the top 10 eigen values for PCA transformation. But for the rbf kernel, we see that it isn't able to compress the data properly even with 50 eigen vectors and hence we will not use the rbf kernel in our case."
      ],
      "metadata": {
        "id": "UNL_ZnBDttNm"
      }
    },
    {
      "cell_type": "code",
      "source": [
        "from sklearn.decomposition import KernelPCA\n",
        "transformer_l = KernelPCA(n_components=7, kernel='linear')\n",
        "X_transformed_l = transformer_l.fit_transform(X)\n",
        "X_transformed_l = preprocessing.scale(X_transformed_l) \n",
        "\n",
        "transformer_p = KernelPCA(n_components=7, kernel='poly')\n",
        "X_transformed_p = transformer_p.fit_transform(X)\n",
        "X_transformed_p = preprocessing.scale(X_transformed_p) "
      ],
      "metadata": {
        "id": "_4AwV4QtyZdo"
      },
      "execution_count": null,
      "outputs": []
    },
    {
      "cell_type": "markdown",
      "source": [
        "## Weighted SVM on PCA Tranformed Data"
      ],
      "metadata": {
        "id": "iYUiSS-Hpnem"
      }
    },
    {
      "cell_type": "code",
      "source": [
        "from sklearn.svm import SVC\n",
        "from sklearn.model_selection import cross_val_score\n",
        "from sklearn.model_selection import GridSearchCV\n",
        "\n",
        "weights = ({0:1.0, 1:1.0},{0:2.0, 1:1.0},{0:5.0, 1:1.0})\n",
        "parameters = {'kernel':('linear', 'poly', 'rbf', 'sigmoid'),'C':(0.5,1,1.5,2,2.5),'class_weight':weights}\n",
        "svc = SVC(class_weight=weights)\n",
        "clf1 = GridSearchCV(svc, parameters,scoring = 'precision')\n",
        "clf1.fit(X_transformed_l,np.array(Y).ravel())\n",
        "\n",
        "clf2 = GridSearchCV(svc, parameters,scoring = 'precision')\n",
        "clf2.fit(X_transformed_p,np.array(Y).ravel())"
      ],
      "metadata": {
        "id": "ZCgaHE8r2Uiv"
      },
      "execution_count": null,
      "outputs": []
    },
    {
      "cell_type": "code",
      "source": [
        "fig,ax = plt.subplots(2,1,figsize = (8,8))\n",
        "temp =[]\n",
        "for i,j in zip(clf1.cv_results_['params'],clf1.cv_results_['mean_test_score']):\n",
        "  temp.append([i,j])\n",
        "temp = sorted(temp,key=lambda x: x[1],reverse = True)\n",
        "y = [i[0] for i in temp[:5]]\n",
        "x = [i[1] for i in temp[:5]]\n",
        "y_pos = np.arange(len(y))\n",
        "ax[0].barh(y_pos,x)\n",
        "ax[0].set_yticks(y_pos)\n",
        "ax[0].set_yticklabels(y)\n",
        "ax[0].set_title(\"Linear Kernel\")\n",
        "ax[0].invert_yaxis()\n",
        "\n",
        "temp =[]\n",
        "for i,j in zip(clf2.cv_results_['params'],clf2.cv_results_['mean_test_score']):\n",
        "  temp.append([i,j])\n",
        "temp = sorted(temp,key=lambda x: x[1],reverse = True)\n",
        "y = [i[0] for i in temp[:5]]\n",
        "x = [i[1] for i in temp[:5]]\n",
        "y_pos = np.arange(len(y))\n",
        "ax[1].barh(y_pos,x)\n",
        "ax[1].set_yticks(y_pos)\n",
        "ax[1].set_yticklabels(y)\n",
        "ax[1].invert_yaxis()\n",
        "ax[1].set_title(\"Poly Kernel\")\n",
        "plt.plot()"
      ],
      "metadata": {
        "colab": {
          "base_uri": "https://localhost:8080/",
          "height": 516
        },
        "id": "cjMb3tt92YC5",
        "outputId": "f7b11382-10b7-40f3-96f3-21be2c761e15"
      },
      "execution_count": null,
      "outputs": [
        {
          "output_type": "execute_result",
          "data": {
            "text/plain": [
              "[]"
            ]
          },
          "metadata": {},
          "execution_count": 35
        },
        {
          "output_type": "display_data",
          "data": {
            "text/plain": [
              "<Figure size 576x576 with 2 Axes>"
            ],
            "image/png": "[encoded data removed]"
          },
          "metadata": {
            "needs_background": "light"
          }
        }
      ]
    },
    {
      "cell_type": "markdown",
      "source": [
        "## Random Forest on PCA Transformed Data"
      ],
      "metadata": {
        "id": "feNYPyvk2dQL"
      }
    },
    {
      "cell_type": "code",
      "source": [
        "from sklearn.ensemble import RandomForestClassifier\n",
        "\n",
        "parameters = {'n_estimators':(5,10,20,40,60,100),'criterion':('gini', 'entropy', 'log_loss'),'max_features':('sqrt', 'log2', 'None')}\n",
        "rfc = RandomForestClassifier()\n",
        "\n",
        "clf1 = GridSearchCV(rfc, parameters, scoring = 'precision')\n",
        "clf1.fit(X_transformed_p,np.array(Y).ravel())\n",
        "\n",
        "clf2 = GridSearchCV(rfc, parameters, scoring = 'precision')\n",
        "clf2.fit(X_transformed_l,np.array(Y).ravel())"
      ],
      "metadata": {
        "id": "GPYMDFLn2j0e"
      },
      "execution_count": null,
      "outputs": []
    },
    {
      "cell_type": "code",
      "source": [
        "fig,ax = plt.subplots(2,1,figsize = (8,8))\n",
        "temp =[]\n",
        "for i,j in zip(clf1.cv_results_['params'],clf1.cv_results_['mean_test_score']):\n",
        "  temp.append([i,j])\n",
        "temp = sorted(temp,key=lambda x: x[1],reverse = True)\n",
        "y = [i[0] for i in temp[:5]]\n",
        "x = [i[1] for i in temp[:5]]\n",
        "y_pos = np.arange(len(y))\n",
        "ax[0].barh(y_pos,x)\n",
        "ax[0].set_yticks(y_pos)\n",
        "ax[0].set_yticklabels(y)\n",
        "ax[0].set_title(\"Linear Kernel\")\n",
        "ax[0].invert_yaxis()\n",
        "\n",
        "temp =[]\n",
        "for i,j in zip(clf2.cv_results_['params'],clf2.cv_results_['mean_test_score']):\n",
        "  temp.append([i,j])\n",
        "temp = sorted(temp,key=lambda x: x[1],reverse = True)\n",
        "y = [i[0] for i in temp[:5]]\n",
        "x = [i[1] for i in temp[:5]]\n",
        "y_pos = np.arange(len(y))\n",
        "ax[1].barh(y_pos,x)\n",
        "ax[1].set_yticks(y_pos)\n",
        "ax[1].set_yticklabels(y)\n",
        "ax[1].invert_yaxis()\n",
        "ax[1].set_title(\"Poly Kernel\")\n",
        "plt.plot()"
      ],
      "metadata": {
        "colab": {
          "base_uri": "https://localhost:8080/",
          "height": 516
        },
        "id": "bnAdbzH32j3E",
        "outputId": "9de728c1-92ed-4385-e01e-9f59715b4b25"
      },
      "execution_count": null,
      "outputs": [
        {
          "output_type": "execute_result",
          "data": {
            "text/plain": [
              "[]"
            ]
          },
          "metadata": {},
          "execution_count": 37
        },
        {
          "output_type": "display_data",
          "data": {
            "text/plain": [
              "<Figure size 576x576 with 2 Axes>"
            ],
            "image/png": "[encoded data removed]"
          },
          "metadata": {
            "needs_background": "light"
          }
        }
      ]
    },
    {
      "cell_type": "markdown",
      "source": [
        "## Logistic Regression on PCA Transformed Data"
      ],
      "metadata": {
        "id": "kCnei0hKNk2T"
      }
    },
    {
      "cell_type": "code",
      "source": [
        "from sklearn.linear_model import LogisticRegression\n",
        "from sklearn.model_selection import cross_val_score\n",
        "from sklearn.model_selection import GridSearchCV\n",
        "\n",
        "parameters = {'penalty':('l1', 'l2', 'elasticnet'),'C':(0.1,0.2,0.5,1,1.5,2)}\n",
        "lr = LogisticRegression(solver='saga',max_iter=5000)\n",
        "\n",
        "clf1 = GridSearchCV(lr, parameters,scoring = 'precision')\n",
        "clf1.fit(X_transformed_l,np.array(Y).ravel())\n",
        "\n",
        "clf2 = GridSearchCV(lr, parameters,scoring = 'precision')\n",
        "clf2.fit(X_transformed_p,np.array(Y).ravel())"
      ],
      "metadata": {
        "id": "FV_tpMZLNlDu"
      },
      "execution_count": null,
      "outputs": []
    },
    {
      "cell_type": "code",
      "source": [
        "fig,ax = plt.subplots(2,1,figsize = (8,8))\n",
        "temp =[]\n",
        "for i,j in zip(clf1.cv_results_['params'],clf1.cv_results_['mean_test_score']):\n",
        "  temp.append([i,j])\n",
        "temp = sorted(temp,key=lambda x: x[1],reverse = True)\n",
        "y = [i[0] for i in temp[:5]]\n",
        "x = [i[1] for i in temp[:5]]\n",
        "y_pos = np.arange(len(y))\n",
        "ax[0].barh(y_pos,x)\n",
        "ax[0].set_yticks(y_pos)\n",
        "ax[0].set_yticklabels(y)\n",
        "ax[0].set_title(\"Linear Kernel\")\n",
        "ax[0].invert_yaxis()\n",
        "\n",
        "temp =[]\n",
        "for i,j in zip(clf2.cv_results_['params'],clf2.cv_results_['mean_test_score']):\n",
        "  temp.append([i,j])\n",
        "temp = sorted(temp,key=lambda x: x[1],reverse = True)\n",
        "y = [i[0] for i in temp[:5]]\n",
        "x = [i[1] for i in temp[:5]]\n",
        "y_pos = np.arange(len(y))\n",
        "ax[1].barh(y_pos,x)\n",
        "ax[1].set_yticks(y_pos)\n",
        "ax[1].set_yticklabels(y)\n",
        "ax[1].invert_yaxis()\n",
        "ax[1].set_title(\"Poly Kernel\")\n",
        "plt.plot()"
      ],
      "metadata": {
        "colab": {
          "base_uri": "https://localhost:8080/",
          "height": 516
        },
        "id": "gNPqGpG7SUR8",
        "outputId": "78e822d5-5750-4821-bf3c-6f6f5a0c2b38"
      },
      "execution_count": null,
      "outputs": [
        {
          "output_type": "execute_result",
          "data": {
            "text/plain": [
              "[]"
            ]
          },
          "metadata": {},
          "execution_count": 39
        },
        {
          "output_type": "display_data",
          "data": {
            "text/plain": [
              "<Figure size 576x576 with 2 Axes>"
            ],
            "image/png": "[encoded data removed]"
          },
          "metadata": {
            "needs_background": "light"
          }
        }
      ]
    },
    {
      "cell_type": "markdown",
      "source": [
        "## AdaBoost Classifier on PCA Transformed Data"
      ],
      "metadata": {
        "id": "BelUiyTsNlS8"
      }
    },
    {
      "cell_type": "code",
      "source": [
        "parameters = {'n_estimators':(25,50,100,150),'learning_rate':(0.1,0.5,1,1.5)}\n",
        "abc = AdaBoostClassifier()\n",
        "\n",
        "clf1 = GridSearchCV(abc, parameters,scoring = 'precision')\n",
        "clf1.fit(X_transformed_l,np.array(Y).ravel())\n",
        "\n",
        "clf1 = GridSearchCV(abc, parameters,scoring = 'precision')\n",
        "clf1.fit(X_transformed_p,np.array(Y).ravel())"
      ],
      "metadata": {
        "id": "j6S6TL83Nlb6"
      },
      "execution_count": null,
      "outputs": []
    },
    {
      "cell_type": "code",
      "source": [
        "fig,ax = plt.subplots(2,1,figsize = (8,8))\n",
        "temp =[]\n",
        "for i,j in zip(clf1.cv_results_['params'],clf1.cv_results_['mean_test_score']):\n",
        "  temp.append([i,j])\n",
        "temp = sorted(temp,key=lambda x: x[1],reverse = True)\n",
        "y = [i[0] for i in temp[:5]]\n",
        "x = [i[1] for i in temp[:5]]\n",
        "y_pos = np.arange(len(y))\n",
        "ax[0].barh(y_pos,x)\n",
        "ax[0].set_yticks(y_pos)\n",
        "ax[0].set_yticklabels(y)\n",
        "ax[0].set_title(\"Linear Kernel\")\n",
        "ax[0].invert_yaxis()\n",
        "\n",
        "temp =[]\n",
        "for i,j in zip(clf2.cv_results_['params'],clf2.cv_results_['mean_test_score']):\n",
        "  temp.append([i,j])\n",
        "temp = sorted(temp,key=lambda x: x[1],reverse = True)\n",
        "y = [i[0] for i in temp[:5]]\n",
        "x = [i[1] for i in temp[:5]]\n",
        "y_pos = np.arange(len(y))\n",
        "ax[1].barh(y_pos,x)\n",
        "ax[1].set_yticks(y_pos)\n",
        "ax[1].set_yticklabels(y)\n",
        "ax[1].invert_yaxis()\n",
        "ax[1].set_title(\"Poly Kernel\")\n",
        "plt.plot()"
      ],
      "metadata": {
        "colab": {
          "base_uri": "https://localhost:8080/",
          "height": 516
        },
        "id": "5UyLZkXrNles",
        "outputId": "b47d9023-1f6a-4945-d80b-f8d410ea3c9e"
      },
      "execution_count": null,
      "outputs": [
        {
          "output_type": "execute_result",
          "data": {
            "text/plain": [
              "[]"
            ]
          },
          "metadata": {},
          "execution_count": 43
        },
        {
          "output_type": "display_data",
          "data": {
            "text/plain": [
              "<Figure size 576x576 with 2 Axes>"
            ],
            "image/png": "[encoded data removed]"
          },
          "metadata": {
            "needs_background": "light"
          }
        }
      ]
    },
    {
      "cell_type": "markdown",
      "source": [
        "---\n",
        "## Other Conspiracy vs Non Conspiracy\n",
        "---"
      ],
      "metadata": {
        "id": "tuaX0qTH9x_C"
      }
    },
    {
      "cell_type": "code",
      "source": [
        "from sklearn.model_selection import train_test_split\n",
        "\n",
        "oth_v_non = pd.concat([othergc,nongc])\n",
        "\n",
        "X = oth_v_non[[\"nodes\",\"edges\",\"degree_centrality\",\"closeness_centrality\",\"eigenvector_centrality\",\"core_number\",\"average_clustering\",\"transitivity\",\"square_clustering\",\"radius\",\"diameter\"]]\n",
        "Y = oth_v_non[[\"label\"]]\n",
        "\n",
        "X['degree_centrality'].fillna(value=int(X['degree_centrality'].mean()), inplace=True)\n",
        "X['closeness_centrality'].fillna(value=int(X['closeness_centrality'].mean()), inplace=True)\n",
        "X['eigenvector_centrality'].fillna(value=int(X['eigenvector_centrality'].mean()), inplace=True)\n",
        "X['core_number'].fillna(value=int(X['core_number'].mean()), inplace=True)\n",
        "X['average_clustering'].fillna(value=int(X['average_clustering'].mean()), inplace=True)\n",
        "X['transitivity'].fillna(value=int(X['transitivity'].mean()), inplace=True)\n",
        "X['square_clustering'].fillna(value=int(X['square_clustering'].mean()), inplace=True)\n",
        "X['radius'].fillna(value=int(X['radius'].mean()), inplace=True)\n",
        "X['diameter'].fillna(value=int(X['diameter'].mean()), inplace=True)\n",
        "\n",
        "X = preprocessing.scale(X) "
      ],
      "metadata": {
        "id": "kSCo3zkU6r2J"
      },
      "execution_count": null,
      "outputs": []
    },
    {
      "cell_type": "markdown",
      "source": [
        "## Weighted Support Vector Classification"
      ],
      "metadata": {
        "id": "Jc8Mlq8dNo2B"
      }
    },
    {
      "cell_type": "code",
      "source": [
        "weights = ({0:1.0, 1:1.0},{0:2.0, 1:1.0},{0:5.0, 1:1.0})\n",
        "parameters = {'kernel':('linear', 'poly', 'rbf', 'sigmoid'),'C':(0.5,1,1.5,2,2.5),'class_weight':weights}\n",
        "svc = SVC()\n",
        "clf = GridSearchCV(svc, parameters,scoring = 'precision')\n",
        "clf.fit(X,np.array(Y).ravel())"
      ],
      "metadata": {
        "id": "hePiAeVpOCLm"
      },
      "execution_count": null,
      "outputs": []
    },
    {
      "cell_type": "code",
      "source": [
        "fig,ax = plt.subplots(1,1,figsize = (8,6))\n",
        "temp =[]\n",
        "for i,j in zip(clf.cv_results_['params'],clf.cv_results_['mean_test_score']):\n",
        "  temp.append([i,j])\n",
        "temp = sorted(temp,key=lambda x: x[1],reverse = True)\n",
        "y = [i[0] for i in temp[:5]]\n",
        "x = [i[1] for i in temp[:5]]\n",
        "y_pos = np.arange(len(y))\n",
        "ax.barh(y_pos,x)\n",
        "ax.set_yticks(y_pos)\n",
        "ax.set_yticklabels(y)\n",
        "ax.invert_yaxis()\n",
        "plt.plot()"
      ],
      "metadata": {
        "colab": {
          "base_uri": "https://localhost:8080/",
          "height": 391
        },
        "id": "T9-qYWCgpcRv",
        "outputId": "b0e11ceb-9848-4c28-8096-de93947325c7"
      },
      "execution_count": null,
      "outputs": [
        {
          "output_type": "execute_result",
          "data": {
            "text/plain": [
              "[]"
            ]
          },
          "metadata": {},
          "execution_count": 62
        },
        {
          "output_type": "display_data",
          "data": {
            "text/plain": [
              "<Figure size 576x432 with 1 Axes>"
            ],
            "image/png": "[encoded data removed]"
          },
          "metadata": {
            "needs_background": "light"
          }
        }
      ]
    },
    {
      "cell_type": "markdown",
      "source": [
        "## Random Forest"
      ],
      "metadata": {
        "id": "E9p7dxJxNuYQ"
      }
    },
    {
      "cell_type": "code",
      "source": [
        "from sklearn.ensemble import RandomForestClassifier\n",
        "\n",
        "parameters = {'n_estimators':(5,10,20,40,60,100),'criterion':('gini', 'entropy', 'log_loss'),'max_features':('sqrt', 'log2', 'None')}\n",
        "rfc = RandomForestClassifier()\n",
        "\n",
        "clf = GridSearchCV(rfc, parameters,scoring = 'precision')\n",
        "clf.fit(X,np.array(Y).ravel())"
      ],
      "metadata": {
        "id": "g7Ttt5IdOKKE"
      },
      "execution_count": null,
      "outputs": []
    },
    {
      "cell_type": "code",
      "source": [
        "fig,ax = plt.subplots(1,1,figsize = (8,6))\n",
        "temp =[]\n",
        "for i,j in zip(clf.cv_results_['params'],clf.cv_results_['mean_test_score']):\n",
        "  temp.append([i,j])\n",
        "temp = sorted(temp,key=lambda x: x[1],reverse = True)\n",
        "y = [i[0] for i in temp[:5]]\n",
        "x = [i[1] for i in temp[:5]]\n",
        "y_pos = np.arange(len(y))\n",
        "ax.barh(y_pos,x)\n",
        "ax.set_yticks(y_pos)\n",
        "ax.set_yticklabels(y)\n",
        "ax.invert_yaxis()\n",
        "plt.plot()"
      ],
      "metadata": {
        "colab": {
          "base_uri": "https://localhost:8080/",
          "height": 391
        },
        "id": "WyZQWHy-0QDR",
        "outputId": "9f8503f9-1fab-4bab-a5a1-6549d2791a78"
      },
      "execution_count": null,
      "outputs": [
        {
          "output_type": "execute_result",
          "data": {
            "text/plain": [
              "[]"
            ]
          },
          "metadata": {},
          "execution_count": 66
        },
        {
          "output_type": "display_data",
          "data": {
            "text/plain": [
              "<Figure size 576x432 with 1 Axes>"
            ],
            "image/png": "[encoded data removed]"
          },
          "metadata": {
            "needs_background": "light"
          }
        }
      ]
    },
    {
      "cell_type": "markdown",
      "source": [
        "## Logistic Regression"
      ],
      "metadata": {
        "id": "RPiOIzNP72Zl"
      }
    },
    {
      "cell_type": "code",
      "source": [
        "from sklearn.linear_model import LogisticRegression\n",
        "\n",
        "parameters = {'penalty':('l1', 'l2', 'elasticnet'),'C':(0.1,0.2,0.5,1,1.5,2)}\n",
        "lr = LogisticRegression(solver='saga',max_iter=5000)\n",
        "\n",
        "clf = GridSearchCV(lr, parameters,scoring = 'precision')\n",
        "clf.fit(X,np.array(Y).ravel())"
      ],
      "metadata": {
        "id": "LQPrj95S71t_"
      },
      "execution_count": null,
      "outputs": []
    },
    {
      "cell_type": "code",
      "source": [
        "fig,ax = plt.subplots(1,1,figsize = (8,6))\n",
        "temp =[]\n",
        "for i,j in zip(clf.cv_results_['params'],clf.cv_results_['mean_test_score']):\n",
        "  temp.append([i,j])\n",
        "temp = sorted(temp,key=lambda x: x[1],reverse = True)\n",
        "y = [i[0] for i in temp[:5]]\n",
        "x = [i[1] for i in temp[:5]]\n",
        "y_pos = np.arange(len(y))\n",
        "ax.barh(y_pos,x)\n",
        "ax.set_yticks(y_pos)\n",
        "ax.set_yticklabels(y)\n",
        "ax.invert_yaxis()\n",
        "plt.plot()"
      ],
      "metadata": {
        "colab": {
          "base_uri": "https://localhost:8080/",
          "height": 391
        },
        "id": "u8ijeTmV711Q",
        "outputId": "aaf2c1f6-27c8-4119-c223-c473c6ffe371"
      },
      "execution_count": null,
      "outputs": [
        {
          "output_type": "execute_result",
          "data": {
            "text/plain": [
              "[]"
            ]
          },
          "metadata": {},
          "execution_count": 93
        },
        {
          "output_type": "display_data",
          "data": {
            "text/plain": [
              "<Figure size 576x432 with 1 Axes>"
            ],
            "image/png": "[encoded data removed]"
          },
          "metadata": {
            "needs_background": "light"
          }
        }
      ]
    },
    {
      "cell_type": "markdown",
      "source": [
        "## AdaBoost Classifier"
      ],
      "metadata": {
        "id": "q3ztYtrZ_NG7"
      }
    },
    {
      "cell_type": "code",
      "source": [
        "\n",
        "from sklearn.ensemble import AdaBoostClassifier\n",
        "\n",
        "parameters = {'n_estimators':(25,50,100,150),'learning_rate':(0.1,0.5,1,1.5)}\n",
        "abc = AdaBoostClassifier()\n",
        "\n",
        "clf = GridSearchCV(abc, parameters,scoring = 'precision')\n",
        "clf.fit(X,np.array(Y).ravel())"
      ],
      "metadata": {
        "id": "A-YzuIgg_PUS"
      },
      "execution_count": null,
      "outputs": []
    },
    {
      "cell_type": "code",
      "source": [
        "fig,ax = plt.subplots(1,1,figsize = (8,6))\n",
        "temp =[]\n",
        "for i,j in zip(clf.cv_results_['params'],clf.cv_results_['mean_test_score']):\n",
        "  temp.append([i,j])\n",
        "temp = sorted(temp,key=lambda x: x[1],reverse = True)\n",
        "y = [i[0] for i in temp[:5]]\n",
        "x = [i[1] for i in temp[:5]]\n",
        "y_pos = np.arange(len(y))\n",
        "ax.barh(y_pos,x)\n",
        "ax.set_yticks(y_pos)\n",
        "ax.set_yticklabels(y)\n",
        "ax.invert_yaxis()\n",
        "plt.plot()"
      ],
      "metadata": {
        "colab": {
          "base_uri": "https://localhost:8080/",
          "height": 391
        },
        "id": "2SRUCjbe_PXo",
        "outputId": "753b4fc5-4613-4af0-e2f8-36b3ade8dda3"
      },
      "execution_count": null,
      "outputs": [
        {
          "output_type": "execute_result",
          "data": {
            "text/plain": [
              "[]"
            ]
          },
          "metadata": {},
          "execution_count": 95
        },
        {
          "output_type": "display_data",
          "data": {
            "text/plain": [
              "<Figure size 576x432 with 1 Axes>"
            ],
            "image/png": "[encoded data removed]"
          },
          "metadata": {
            "needs_background": "light"
          }
        }
      ]
    },
    {
      "cell_type": "markdown",
      "source": [
        "## Histogram Based Gradient Boosting"
      ],
      "metadata": {
        "id": "hKuuedSrN4at"
      }
    },
    {
      "cell_type": "code",
      "source": [
        "from sklearn.ensemble import HistGradientBoostingClassifier\n",
        "\n",
        "hgb = HistGradientBoostingClassifier()\n",
        "\n",
        "scores =  cross_val_score(hgb,X,np.array(Y).ravel(),cv = 5,scoring = 'precision')\n",
        "scores,scores.mean()"
      ],
      "metadata": {
        "colab": {
          "base_uri": "https://localhost:8080/"
        },
        "id": "k3ko3aIUONJG",
        "outputId": "84db4075-896d-47fc-abe3-65d40374822b"
      },
      "execution_count": null,
      "outputs": [
        {
          "output_type": "execute_result",
          "data": {
            "text/plain": [
              "(array([0.27272727, 0.34090909, 0.3125    , 0.16666667, 0.31111111]),\n",
              " 0.2807828282828283)"
            ]
          },
          "metadata": {},
          "execution_count": 32
        }
      ]
    },
    {
      "cell_type": "markdown",
      "source": [
        "## Kernel Principal Component Analysis"
      ],
      "metadata": {
        "id": "Yn9zJn0syKon"
      }
    },
    {
      "cell_type": "code",
      "source": [
        "from sklearn.decomposition import KernelPCA\n",
        "transformer_l = KernelPCA(n_components=None, kernel='linear')\n",
        "X_transformed_l = transformer_l.fit_transform(X)\n",
        "X_transformed_l = preprocessing.scale(X_transformed_l) \n",
        "\n",
        "transformer_r = KernelPCA(n_components=None, kernel='rbf')\n",
        "X_transformed_r = transformer_r.fit_transform(X)\n",
        "X_transformed_r = preprocessing.scale(X_transformed_r) \n",
        "\n",
        "transformer_p = KernelPCA(n_components=None, kernel='poly')\n",
        "X_transformed_p = transformer_p.fit_transform(X)\n",
        "X_transformed_p = preprocessing.scale(X_transformed_p) "
      ],
      "metadata": {
        "id": "zV6L6yKaySKs"
      },
      "execution_count": null,
      "outputs": []
    },
    {
      "cell_type": "code",
      "source": [
        "print(f\"Variance captured by 10 eigen values in linear kernel: {np.sum(transformer_l.eigenvalues_[:7])/np.sum(transformer_l.eigenvalues_)}\")\n",
        "print(f\"Variance captured by 50 eigen values in rbf kernel: {np.sum(transformer_r.eigenvalues_[:50])/np.sum(transformer_r.eigenvalues_)}\")\n",
        "print(f\"Variance captured by 10 eigen values in poly kernel: {np.sum(transformer_p.eigenvalues_[:7])/np.sum(transformer_p.eigenvalues_)}\")"
      ],
      "metadata": {
        "colab": {
          "base_uri": "https://localhost:8080/"
        },
        "id": "z-vawewkyng9",
        "outputId": "3c476552-e53c-4872-9fe7-54227227489c"
      },
      "execution_count": null,
      "outputs": [
        {
          "output_type": "stream",
          "name": "stdout",
          "text": [
            "Variance captured by 10 eigen values in linear kernel: 0.9702491602651643\n",
            "Variance captured by 50 eigen values in rbf kernel: 0.9426373107292502\n",
            "Variance captured by 10 eigen values in poly kernel: 0.9501039694858892\n"
          ]
        }
      ]
    },
    {
      "cell_type": "code",
      "source": [
        "from sklearn.decomposition import KernelPCA\n",
        "transformer_l = KernelPCA(n_components=7, kernel='linear')\n",
        "X_transformed_l = transformer_l.fit_transform(X)\n",
        "X_transformed_l = preprocessing.scale(X_transformed_l) \n",
        "\n",
        "transformer_p = KernelPCA(n_components=7, kernel='poly')\n",
        "X_transformed_p = transformer_p.fit_transform(X)\n",
        "X_transformed_p = preprocessing.scale(X_transformed_p) "
      ],
      "metadata": {
        "id": "291ckhuay1OL"
      },
      "execution_count": null,
      "outputs": []
    },
    {
      "cell_type": "markdown",
      "source": [
        "## Weighted SVM on PCA Tranformed Data"
      ],
      "metadata": {
        "id": "vDLliKwQy-Im"
      }
    },
    {
      "cell_type": "code",
      "source": [
        "from sklearn.svm import SVC\n",
        "from sklearn.model_selection import cross_val_score\n",
        "from sklearn.model_selection import GridSearchCV\n",
        "\n",
        "weights = ({0:1.0, 1:1.0},{0:2.0, 1:1.0},{0:5.0, 1:1.0})\n",
        "parameters = {'kernel':('linear', 'poly', 'rbf', 'sigmoid'),'C':(0.5,1,1.5,2,2.5),'class_weight':weights}\n",
        "svc = SVC(class_weight=weights)\n",
        "clf1 = GridSearchCV(svc, parameters,scoring = 'precision')\n",
        "clf1.fit(X_transformed_l,np.array(Y).ravel())\n",
        "\n",
        "clf2 = GridSearchCV(svc, parameters,scoring = 'precision')\n",
        "clf2.fit(X_transformed_p,np.array(Y).ravel())"
      ],
      "metadata": {
        "id": "yJVQLQmRy9f3"
      },
      "execution_count": null,
      "outputs": []
    },
    {
      "cell_type": "code",
      "source": [
        "fig,ax = plt.subplots(2,1,figsize = (8,8))\n",
        "temp =[]\n",
        "for i,j in zip(clf1.cv_results_['params'],clf1.cv_results_['mean_test_score']):\n",
        "  temp.append([i,j])\n",
        "temp = sorted(temp,key=lambda x: x[1],reverse = True)\n",
        "y = [i[0] for i in temp[:5]]\n",
        "x = [i[1] for i in temp[:5]]\n",
        "y_pos = np.arange(len(y))\n",
        "ax[0].barh(y_pos,x)\n",
        "ax[0].set_yticks(y_pos)\n",
        "ax[0].set_yticklabels(y)\n",
        "ax[0].set_title(\"Linear Kernel\")\n",
        "ax[0].invert_yaxis()\n",
        "\n",
        "temp =[]\n",
        "for i,j in zip(clf2.cv_results_['params'],clf2.cv_results_['mean_test_score']):\n",
        "  temp.append([i,j])\n",
        "temp = sorted(temp,key=lambda x: x[1],reverse = True)\n",
        "y = [i[0] for i in temp[:5]]\n",
        "x = [i[1] for i in temp[:5]]\n",
        "y_pos = np.arange(len(y))\n",
        "ax[1].barh(y_pos,x)\n",
        "ax[1].set_yticks(y_pos)\n",
        "ax[1].set_yticklabels(y)\n",
        "ax[1].invert_yaxis()\n",
        "ax[1].set_title(\"Poly Kernel\")\n",
        "plt.plot()"
      ],
      "metadata": {
        "colab": {
          "base_uri": "https://localhost:8080/",
          "height": 516
        },
        "id": "AxeKCHVWzGR_",
        "outputId": "3a8f935b-8fd8-4047-ab50-3e4b049cfc48"
      },
      "execution_count": null,
      "outputs": [
        {
          "output_type": "execute_result",
          "data": {
            "text/plain": [
              "[]"
            ]
          },
          "metadata": {},
          "execution_count": 51
        },
        {
          "output_type": "display_data",
          "data": {
            "text/plain": [
              "<Figure size 576x576 with 2 Axes>"
            ],
            "image/png": "[encoded data removed]"
          },
          "metadata": {
            "needs_background": "light"
          }
        }
      ]
    },
    {
      "cell_type": "markdown",
      "source": [
        "## Random Forest on PCA Transformed Data"
      ],
      "metadata": {
        "id": "yETdUu_BUS4T"
      }
    },
    {
      "cell_type": "code",
      "source": [
        "from sklearn.ensemble import RandomForestClassifier\n",
        "\n",
        "parameters = {'n_estimators':(5,10,20,40,60,100),'criterion':('gini', 'entropy', 'log_loss'),'max_features':('sqrt', 'log2', 'None')}\n",
        "rfc = RandomForestClassifier()\n",
        "\n",
        "clf1 = GridSearchCV(rfc, parameters, scoring = 'precision')\n",
        "clf1.fit(X_transformed_p,np.array(Y).ravel())\n",
        "\n",
        "clf2 = GridSearchCV(rfc, parameters, scoring = 'precision')\n",
        "clf2.fit(X_transformed_l,np.array(Y).ravel())"
      ],
      "metadata": {
        "id": "M5PM5uUIUTFk"
      },
      "execution_count": null,
      "outputs": []
    },
    {
      "cell_type": "code",
      "source": [
        "fig,ax = plt.subplots(2,1,figsize = (8,8))\n",
        "temp =[]\n",
        "for i,j in zip(clf1.cv_results_['params'],clf1.cv_results_['mean_test_score']):\n",
        "  temp.append([i,j])\n",
        "temp = sorted(temp,key=lambda x: x[1],reverse = True)\n",
        "y = [i[0] for i in temp[:5]]\n",
        "x = [i[1] for i in temp[:5]]\n",
        "y_pos = np.arange(len(y))\n",
        "ax[0].barh(y_pos,x)\n",
        "ax[0].set_yticks(y_pos)\n",
        "ax[0].set_yticklabels(y)\n",
        "ax[0].set_title(\"Linear Kernel\")\n",
        "ax[0].invert_yaxis()\n",
        "\n",
        "temp =[]\n",
        "for i,j in zip(clf2.cv_results_['params'],clf2.cv_results_['mean_test_score']):\n",
        "  temp.append([i,j])\n",
        "temp = sorted(temp,key=lambda x: x[1],reverse = True)\n",
        "y = [i[0] for i in temp[:5]]\n",
        "x = [i[1] for i in temp[:5]]\n",
        "y_pos = np.arange(len(y))\n",
        "ax[1].barh(y_pos,x)\n",
        "ax[1].set_yticks(y_pos)\n",
        "ax[1].set_yticklabels(y)\n",
        "ax[1].invert_yaxis()\n",
        "ax[1].set_title(\"Poly Kernel\")\n",
        "plt.plot()"
      ],
      "metadata": {
        "colab": {
          "base_uri": "https://localhost:8080/",
          "height": 516
        },
        "id": "b5GZx0OYUTJE",
        "outputId": "d6369d0e-0e9e-4b8f-9206-b66e924d6960"
      },
      "execution_count": null,
      "outputs": [
        {
          "output_type": "execute_result",
          "data": {
            "text/plain": [
              "[]"
            ]
          },
          "metadata": {},
          "execution_count": 53
        },
        {
          "output_type": "display_data",
          "data": {
            "text/plain": [
              "<Figure size 576x576 with 2 Axes>"
            ],
            "image/png": "[encoded data removed]"
          },
          "metadata": {
            "needs_background": "light"
          }
        }
      ]
    },
    {
      "cell_type": "markdown",
      "source": [
        "## Logistic Regression on PCA Transformed Data"
      ],
      "metadata": {
        "id": "EGs54dmsUTz-"
      }
    },
    {
      "cell_type": "code",
      "source": [
        "from sklearn.linear_model import LogisticRegression\n",
        "from sklearn.model_selection import cross_val_score\n",
        "from sklearn.model_selection import GridSearchCV\n",
        "\n",
        "parameters = {'penalty':('l1', 'l2', 'elasticnet'),'C':(0.1,0.2,0.5,1,1.5,2)}\n",
        "lr = LogisticRegression(solver='saga',max_iter=5000)\n",
        "\n",
        "clf1 = GridSearchCV(lr, parameters,scoring = 'precision')\n",
        "clf1.fit(X_transformed_l,np.array(Y).ravel())\n",
        "\n",
        "clf2 = GridSearchCV(lr, parameters,scoring = 'precision')\n",
        "clf2.fit(X_transformed_p,np.array(Y).ravel())"
      ],
      "metadata": {
        "id": "asxsUyAZUUD_"
      },
      "execution_count": null,
      "outputs": []
    },
    {
      "cell_type": "code",
      "source": [
        "fig,ax = plt.subplots(2,1,figsize = (8,8))\n",
        "temp =[]\n",
        "for i,j in zip(clf1.cv_results_['params'],clf1.cv_results_['mean_test_score']):\n",
        "  temp.append([i,j])\n",
        "temp = sorted(temp,key=lambda x: x[1],reverse = True)\n",
        "y = [i[0] for i in temp[:5]]\n",
        "x = [i[1] for i in temp[:5]]\n",
        "y_pos = np.arange(len(y))\n",
        "ax[0].barh(y_pos,x)\n",
        "ax[0].set_yticks(y_pos)\n",
        "ax[0].set_yticklabels(y)\n",
        "ax[0].set_title(\"Linear Kernel\")\n",
        "ax[0].invert_yaxis()\n",
        "\n",
        "temp =[]\n",
        "for i,j in zip(clf2.cv_results_['params'],clf2.cv_results_['mean_test_score']):\n",
        "  temp.append([i,j])\n",
        "temp = sorted(temp,key=lambda x: x[1],reverse = True)\n",
        "y = [i[0] for i in temp[:5]]\n",
        "x = [i[1] for i in temp[:5]]\n",
        "y_pos = np.arange(len(y))\n",
        "ax[1].barh(y_pos,x)\n",
        "ax[1].set_yticks(y_pos)\n",
        "ax[1].set_yticklabels(y)\n",
        "ax[1].invert_yaxis()\n",
        "ax[1].set_title(\"Poly Kernel\")\n",
        "plt.plot()"
      ],
      "metadata": {
        "colab": {
          "base_uri": "https://localhost:8080/",
          "height": 516
        },
        "id": "Ula4amKwUUHB",
        "outputId": "f3b165dc-406b-49e1-a85a-a0d793d4b8d9"
      },
      "execution_count": null,
      "outputs": [
        {
          "output_type": "execute_result",
          "data": {
            "text/plain": [
              "[]"
            ]
          },
          "metadata": {},
          "execution_count": 55
        },
        {
          "output_type": "display_data",
          "data": {
            "text/plain": [
              "<Figure size 576x576 with 2 Axes>"
            ],
            "image/png": "[encoded data removed]"
          },
          "metadata": {
            "needs_background": "light"
          }
        }
      ]
    },
    {
      "cell_type": "markdown",
      "source": [
        "## AdaBoost Classifier on PCA Transformed Data"
      ],
      "metadata": {
        "id": "Du8ZsB-KZLjq"
      }
    },
    {
      "cell_type": "code",
      "source": [
        "parameters = {'n_estimators':(25,50,100,150),'learning_rate':(0.1,0.5,1,1.5)}\n",
        "abc = AdaBoostClassifier()\n",
        "\n",
        "clf1 = GridSearchCV(abc, parameters,scoring = 'precision')\n",
        "clf1.fit(X_transformed_l,np.array(Y).ravel())\n",
        "\n",
        "clf1 = GridSearchCV(abc, parameters,scoring = 'precision')\n",
        "clf1.fit(X_transformed_p,np.array(Y).ravel())"
      ],
      "metadata": {
        "id": "rQjhXHeHZLsx"
      },
      "execution_count": null,
      "outputs": []
    },
    {
      "cell_type": "code",
      "source": [
        "fig,ax = plt.subplots(2,1,figsize = (8,8))\n",
        "temp =[]\n",
        "for i,j in zip(clf1.cv_results_['params'],clf1.cv_results_['mean_test_score']):\n",
        "  temp.append([i,j])\n",
        "temp = sorted(temp,key=lambda x: x[1],reverse = True)\n",
        "y = [i[0] for i in temp[:5]]\n",
        "x = [i[1] for i in temp[:5]]\n",
        "y_pos = np.arange(len(y))\n",
        "ax[0].barh(y_pos,x)\n",
        "ax[0].set_yticks(y_pos)\n",
        "ax[0].set_yticklabels(y)\n",
        "ax[0].set_title(\"Linear Kernel\")\n",
        "ax[0].invert_yaxis()\n",
        "\n",
        "temp =[]\n",
        "for i,j in zip(clf2.cv_results_['params'],clf2.cv_results_['mean_test_score']):\n",
        "  temp.append([i,j])\n",
        "temp = sorted(temp,key=lambda x: x[1],reverse = True)\n",
        "y = [i[0] for i in temp[:5]]\n",
        "x = [i[1] for i in temp[:5]]\n",
        "y_pos = np.arange(len(y))\n",
        "ax[1].barh(y_pos,x)\n",
        "ax[1].set_yticks(y_pos)\n",
        "ax[1].set_yticklabels(y)\n",
        "ax[1].invert_yaxis()\n",
        "ax[1].set_title(\"Poly Kernel\")\n",
        "plt.plot()"
      ],
      "metadata": {
        "colab": {
          "base_uri": "https://localhost:8080/",
          "height": 516
        },
        "id": "D1yqTzZ7ZLvl",
        "outputId": "023444a2-aac8-422c-af71-472bab45fbe3"
      },
      "execution_count": null,
      "outputs": [
        {
          "output_type": "execute_result",
          "data": {
            "text/plain": [
              "[]"
            ]
          },
          "metadata": {},
          "execution_count": 57
        },
        {
          "output_type": "display_data",
          "data": {
            "text/plain": [
              "<Figure size 576x576 with 2 Axes>"
            ],
            "image/png": "[encoded data removed]"
          },
          "metadata": {
            "needs_background": "light"
          }
        }
      ]
    },
    {
      "cell_type": "markdown",
      "source": [
        "---\n",
        "## Conspiracy vs Non-Conspiracy\n",
        "---"
      ],
      "metadata": {
        "id": "u_SV7tGQJKLa"
      }
    },
    {
      "cell_type": "code",
      "source": [
        "from sklearn.model_selection import train_test_split\n",
        "\n",
        "cons_v_non = pd.concat([fivegc,othergc,nongc])\n",
        "\n",
        "X = cons_v_non[[\"nodes\",\"edges\",\"degree_centrality\",\"closeness_centrality\",\"eigenvector_centrality\",\"core_number\",\"average_clustering\",\"transitivity\",\"square_clustering\",\"radius\",\"diameter\"]]\n",
        "Y = cons_v_non[[\"label\"]]\n",
        "\n",
        "X['degree_centrality'].fillna(value=int(X['degree_centrality'].mean()), inplace=True)\n",
        "X['closeness_centrality'].fillna(value=int(X['closeness_centrality'].mean()), inplace=True)\n",
        "X['eigenvector_centrality'].fillna(value=int(X['eigenvector_centrality'].mean()), inplace=True)\n",
        "X['core_number'].fillna(value=int(X['core_number'].mean()), inplace=True)\n",
        "X['average_clustering'].fillna(value=int(X['average_clustering'].mean()), inplace=True)\n",
        "X['transitivity'].fillna(value=int(X['transitivity'].mean()), inplace=True)\n",
        "X['square_clustering'].fillna(value=int(X['square_clustering'].mean()), inplace=True)\n",
        "X['radius'].fillna(value=int(X['radius'].mean()), inplace=True)\n",
        "X['diameter'].fillna(value=int(X['diameter'].mean()), inplace=True)\n",
        "\n",
        "X = preprocessing.scale(X) "
      ],
      "metadata": {
        "id": "IyvV4Lr2JN7L"
      },
      "execution_count": null,
      "outputs": []
    },
    {
      "cell_type": "markdown",
      "source": [
        "## Kernel Principal Component Analysis"
      ],
      "metadata": {
        "id": "-o4SseYR6PhR"
      }
    },
    {
      "cell_type": "code",
      "source": [
        "from sklearn.decomposition import KernelPCA\n",
        "transformer_l = KernelPCA(n_components=None, kernel='linear')\n",
        "X_transformed_l = transformer_l.fit_transform(X)\n",
        "X_transformed_l = preprocessing.scale(X_transformed_l) \n",
        "\n",
        "transformer_r = KernelPCA(n_components=None, kernel='rbf')\n",
        "X_transformed_r = transformer_r.fit_transform(X)\n",
        "X_transformed_r = preprocessing.scale(X_transformed_r) \n",
        "\n",
        "transformer_p = KernelPCA(n_components=None, kernel='poly')\n",
        "X_transformed_p = transformer_p.fit_transform(X)\n",
        "X_transformed_p = preprocessing.scale(X_transformed_p) "
      ],
      "metadata": {
        "id": "MhnwSuis6Pxf"
      },
      "execution_count": null,
      "outputs": []
    },
    {
      "cell_type": "code",
      "source": [
        "print(f\"Variance captured by 10 eigen values in linear kernel: {np.sum(transformer_l.eigenvalues_[:7])/np.sum(transformer_l.eigenvalues_)}\")\n",
        "print(f\"Variance captured by 50 eigen values in rbf kernel: {np.sum(transformer_r.eigenvalues_[:50])/np.sum(transformer_r.eigenvalues_)}\")\n",
        "print(f\"Variance captured by 10 eigen values in poly kernel: {np.sum(transformer_p.eigenvalues_[:7])/np.sum(transformer_p.eigenvalues_)}\")"
      ],
      "metadata": {
        "id": "RxaosCrn6P1I",
        "colab": {
          "base_uri": "https://localhost:8080/"
        },
        "outputId": "80513cdb-369f-4020-e246-d10215a3752f"
      },
      "execution_count": null,
      "outputs": [
        {
          "output_type": "stream",
          "name": "stdout",
          "text": [
            "Variance captured by 10 eigen values in linear kernel: 0.9713782323663722\n",
            "Variance captured by 50 eigen values in rbf kernel: 0.9424392369020049\n",
            "Variance captured by 10 eigen values in poly kernel: 0.9432912372060672\n"
          ]
        }
      ]
    },
    {
      "cell_type": "code",
      "source": [
        "from sklearn.decomposition import KernelPCA\n",
        "transformer_l = KernelPCA(n_components=7, kernel='linear')\n",
        "X_transformed_l = transformer_l.fit_transform(X)\n",
        "X_transformed_l = preprocessing.scale(X_transformed_l) \n",
        "\n",
        "transformer_p = KernelPCA(n_components=7, kernel='poly')\n",
        "X_transformed_p = transformer_p.fit_transform(X)\n",
        "X_transformed_p = preprocessing.scale(X_transformed_p) "
      ],
      "metadata": {
        "id": "zeoDrEry6cCj"
      },
      "execution_count": null,
      "outputs": []
    },
    {
      "cell_type": "markdown",
      "source": [
        "## Weighted SVM on PCA Tranformed Data Using Poly Kernel"
      ],
      "metadata": {
        "id": "TazJPAJg6f9q"
      }
    },
    {
      "cell_type": "code",
      "source": [
        "from sklearn.svm import SVC\n",
        "from sklearn.model_selection import cross_val_score\n",
        "from sklearn.model_selection import GridSearchCV\n",
        "\n",
        "weights = ({0:1.0, 1:1.0},{0:2.0, 1:1.0},{0:5.0, 1:1.0})\n",
        "parameters = {'kernel':('linear', 'poly', 'rbf', 'sigmoid'),'C':(0.5,1,1.5,2,2.5),'class_weight':weights}\n",
        "svc = SVC(class_weight=weights)\n",
        "clf = GridSearchCV(svc, parameters,scoring = 'precision')\n",
        "clf.fit(X_transformed_p,np.array(Y).ravel())"
      ],
      "metadata": {
        "id": "LfgmoMNl6cFl"
      },
      "execution_count": null,
      "outputs": []
    },
    {
      "cell_type": "code",
      "source": [
        "fig,ax = plt.subplots(1,1,figsize = (8,8))\n",
        "temp =[]\n",
        "for i,j in zip(clf.cv_results_['params'],clf.cv_results_['mean_test_score']):\n",
        "  temp.append([i,j])\n",
        "temp = sorted(temp,key=lambda x: x[1],reverse = True)\n",
        "y = [i[0] for i in temp[:5]]\n",
        "x = [i[1] for i in temp[:5]]\n",
        "y_pos = np.arange(len(y))\n",
        "ax.barh(y_pos,x)\n",
        "ax.set_yticks(y_pos)\n",
        "ax.set_yticklabels(y)\n",
        "ax.set_title(\"Linear Kernel\")\n",
        "ax.invert_yaxis()"
      ],
      "metadata": {
        "colab": {
          "base_uri": "https://localhost:8080/",
          "height": 499
        },
        "id": "JtSMClUxe4vC",
        "outputId": "c775eff5-2a52-4eb2-ef94-f169bb739dcd"
      },
      "execution_count": null,
      "outputs": [
        {
          "output_type": "display_data",
          "data": {
            "text/plain": [
              "<Figure size 576x576 with 1 Axes>"
            ],
            "image/png": "[encoded data removed]"
          },
          "metadata": {
            "needs_background": "light"
          }
        }
      ]
    },
    {
      "cell_type": "markdown",
      "source": [
        "## AdaBoost Classifier on PCA Transformed Data Using Linear Kernel"
      ],
      "metadata": {
        "id": "fIcWP9PVepiF"
      }
    },
    {
      "cell_type": "code",
      "source": [
        "parameters = {'n_estimators':(25,50,100,150),'learning_rate':(0.1,0.5,1,1.5)}\n",
        "abc = AdaBoostClassifier()\n",
        "\n",
        "clf = GridSearchCV(abc, parameters,scoring = 'precision')\n",
        "clf.fit(X_transformed_l,np.array(Y).ravel())"
      ],
      "metadata": {
        "id": "sHoei8DFepzP"
      },
      "execution_count": null,
      "outputs": []
    },
    {
      "cell_type": "code",
      "source": [
        "fig,ax = plt.subplots(1,1,figsize = (8,8))\n",
        "temp =[]\n",
        "for i,j in zip(clf.cv_results_['params'],clf.cv_results_['mean_test_score']):\n",
        "  temp.append([i,j])\n",
        "temp = sorted(temp,key=lambda x: x[1],reverse = True)\n",
        "y = [i[0] for i in temp[:5]]\n",
        "x = [i[1] for i in temp[:5]]\n",
        "y_pos = np.arange(len(y))\n",
        "ax.barh(y_pos,x)\n",
        "ax.set_yticks(y_pos)\n",
        "ax.set_yticklabels(y)\n",
        "ax.set_title(\"Linear Kernel\")\n",
        "ax.invert_yaxis()"
      ],
      "metadata": {
        "colab": {
          "base_uri": "https://localhost:8080/",
          "height": 499
        },
        "id": "xVr5KPVAe1x7",
        "outputId": "d6b6e6cc-fe24-4585-e96d-253fcba7bf98"
      },
      "execution_count": null,
      "outputs": [
        {
          "output_type": "display_data",
          "data": {
            "text/plain": [
              "<Figure size 576x576 with 1 Axes>"
            ],
            "image/png": "[encoded data removed]"
          },
          "metadata": {
            "needs_background": "light"
          }
        }
      ]
    }
  ]
}
