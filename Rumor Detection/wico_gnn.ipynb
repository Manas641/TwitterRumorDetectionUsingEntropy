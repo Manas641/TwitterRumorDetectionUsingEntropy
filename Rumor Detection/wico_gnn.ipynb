{
  "nbformat": 4,
  "nbformat_minor": 0,
  "metadata": {
    "colab": {
      "provenance": []
    },
    "kernelspec": {
      "name": "python3",
      "display_name": "Python 3"
    },
    "language_info": {
      "name": "python"
    }
  },
  "cells": [
    {
      "cell_type": "markdown",
      "source": [
        "## Downloading Wico Dataset Uploaded On Kaggle"
      ],
      "metadata": {
        "id": "YBIFmkpIpEFX"
      }
    },
    {
      "cell_type": "code",
      "execution_count": null,
      "metadata": {
        "id": "u-Pcfptt9M5e"
      },
      "outputs": [],
      "source": [
        "!pip install -q kaggle\n",
        "! mkdir ~/.kaggle\n",
        "! cp kaggle.json ~/.kaggle/\n",
        "! chmod 600 ~/.kaggle/kaggle.json\n",
        "! kaggle datasets download -d manaspp/wico-graph\n",
        "! unzip wico-graph"
      ]
    },
    {
      "cell_type": "markdown",
      "source": [
        "# Dataset\n",
        "\n",
        "Wico Graph Dataset : https://datasets.simula.no/wico-graph/\n",
        "<br/>DOI : 10.1145/3472720.3483617<br/>\n",
        "<br />\n",
        "In the wake of the COVID-19 pandemic, a surge of misinformation has flooded social media and other internet channels, and some of it has the potential to cause real-world harm. To counteract this misinformation, reliably identifying it is a principal problem to be solved.\n",
        " `However, the identification of misinformation poses a formidable challenge for language processing systems since the texts containing misinformation are short, work with insinuation rather than explicitly stating a false claim, or resemble other postings that deal with the same topic ironically.` \n",
        " Accordingly, for the development of better detection systems, it is not only essential to use hand-labeled ground truth data and extend the analysis with methods beyond Natural Language Processing to consider the characteristics of the participant's relationships and the diffusion of misinformation. \n",
        "\n",
        "---"
      ],
      "metadata": {
        "id": "Lww-8ZKgpMOF"
      }
    },
    {
      "cell_type": "markdown",
      "source": [
        "## Importing Necessary Libraries"
      ],
      "metadata": {
        "id": "DXAfixhM9Z88"
      }
    },
    {
      "cell_type": "code",
      "source": [
        "import random\n",
        "import networkx as nx\n",
        "import pandas as pd\n",
        "import os\n",
        "import statistics\n",
        "\n",
        "def list_files(dir):\n",
        "    r = []\n",
        "    for root, dirs, files in os.walk(dir):\n",
        "        for name in files:\n",
        "            r.append(os.path.join(root, name))\n",
        "    return r"
      ],
      "metadata": {
        "id": "FsPEk4tZ9aKx"
      },
      "execution_count": null,
      "outputs": []
    },
    {
      "cell_type": "markdown",
      "source": [
        "## Installing the StellarGraph Library\n",
        "\n",
        "<img src=\"https://raw.githubusercontent.com/stellargraph/stellargraph/develop/stellar-graph-banner.png\">\n",
        "\n",
        "---"
      ],
      "metadata": {
        "id": "BYYe1Y3QpRfH"
      }
    },
    {
      "cell_type": "markdown",
      "source": [
        "- `The StellarGraph library offers state-of-the-art algorithms for graph machine learning, making it easy to discover patterns and answer questions about graph-structured data.` \n",
        "\n",
        "- It can solve many machine learning tasks:\n",
        " - Representation learning for nodes and edges, to be used for visualisation and various downstream machine learning tasks\n",
        " - Classification and attribute inference of nodes or edges\n",
        " - Classification of whole graphs\n",
        " - Link prediction\n",
        "\n",
        "\n",
        "- Graph-structured data represent entities as nodes (or vertices) and relationships between them as edges (or links), and can include data associated with either as attributes. \n",
        "- For example, a graph can contain people as nodes and friendships between them as links, with data like a person’s age and the date a friendship was established. \n",
        "- StellarGraph supports analysis of many kinds of graphs:\n",
        "\n",
        " - homogeneous (with nodes and links of one type)\n",
        "\n",
        " - heterogeneous (with more than one type of nodes and/or links)\n",
        "\n",
        " - knowledge graphs (extreme heterogeneous graphs with thousands of types of edges)\n",
        "\n",
        " - graphs with or without data associated with nodes\n",
        "\n",
        " - graphs with edge weights"
      ],
      "metadata": {
        "id": "s-1qXZqXptrd"
      }
    },
    {
      "cell_type": "code",
      "source": [
        "! pip install stellargraph"
      ],
      "metadata": {
        "id": "3UoLk7b9uiMe"
      },
      "execution_count": null,
      "outputs": []
    },
    {
      "cell_type": "code",
      "source": [
        "import stellargraph as sg\n",
        "from stellargraph import StellarGraph\n",
        "import tensorflow as tf"
      ],
      "metadata": {
        "id": "5bo0YxGXvFY2"
      },
      "execution_count": null,
      "outputs": []
    },
    {
      "cell_type": "markdown",
      "source": [
        "## Extracting Graph Data With Labels For Classification\n",
        "---"
      ],
      "metadata": {
        "id": "ErlRlwFP9aYC"
      }
    },
    {
      "cell_type": "markdown",
      "source": [
        "### Homogeneous graph with features\n",
        "\n",
        "For many real-world problems, we have more than just graph structure: we have information about the nodes and edges. For our instance, we have a graph of users (nodes) and how information travels between them (edges): we have information about the nodes such as the `friends` and `followers`. "
      ],
      "metadata": {
        "id": "Lt2_77jOq4m-"
      }
    },
    {
      "cell_type": "code",
      "source": [
        "rumor = []\n",
        "labels = []\n",
        "temp = []\n",
        "\n",
        "for i in range(1,413):\n",
        "    temp.append(list_files(f'5G_Conspiracy_Graphs/{i}/'))\n",
        "\n",
        "for i in range(len(temp)):\n",
        "  node_features = {}\n",
        "  for j in range(len(temp[i])):\n",
        "    if 'edges' in temp[i][j]:\n",
        "      break\n",
        "  edges = pd.read_csv(temp[i][j],sep=\" \",names=['source','target'])\n",
        "  labels.append(1)\n",
        "\n",
        "  for j in range(len(temp[i])):\n",
        "    if 'nodes' in temp[i][j]:\n",
        "      break\n",
        "  f = pd.read_csv(temp[i][j],usecols = [0,2,3])\n",
        "  for k in range(f.shape[0]):\n",
        "    node_features[f.iloc[k]['id']] = [f.iloc[k]['friends'],f.iloc[k]['followers']]\n",
        "\n",
        "  node_data = pd.DataFrame(\n",
        "    {\"friends\": [i[0] for i in list(node_features.values())], \"followers\": [i[1] for i in list(node_features.values())]}, index=list(node_features.keys()))\n",
        "  rumor.append(StellarGraph(node_data, edges))\n",
        "\n",
        "\n",
        "temp = []\n",
        "\n",
        "for i in range(1,598):\n",
        "    temp.append(list_files(f'Other_Graphs/{i}/'))\n",
        "\n",
        "for i in range(len(temp)):\n",
        "  node_features = {}\n",
        "  for j in range(len(temp[i])):\n",
        "    if 'edges' in temp[i][j]:\n",
        "      break\n",
        "  edges = pd.read_csv(temp[i][j],sep=\" \",names=['source','target'])\n",
        "  labels.append(1)\n",
        "\n",
        "  for j in range(len(temp[i])):\n",
        "    if 'nodes' in temp[i][j]:\n",
        "      break\n",
        "  f = pd.read_csv(temp[i][j],usecols = [0,2,3])\n",
        "  for k in range(f.shape[0]):\n",
        "    node_features[f.iloc[k]['id']] = [f.iloc[k]['friends'],f.iloc[k]['followers']]\n",
        "\n",
        "  node_data = pd.DataFrame(\n",
        "    {\"friends\": [i[0] for i in list(node_features.values())], \"followers\": [i[1] for i in list(node_features.values())]}, index=list(node_features.keys()))\n",
        "  rumor.append(StellarGraph(node_data, edges))\n",
        "\n",
        "temp = []\n",
        "\n",
        "for i in range(1,2502):\n",
        "    temp.append(list_files(f'Non_Conspiracy_Graphs/{i}/'))\n",
        "\n",
        "for i in range(len(temp)):\n",
        "  node_features = {}\n",
        "  for j in range(len(temp[i])):\n",
        "    if 'edges' in temp[i][j]:\n",
        "      break\n",
        "  edges = pd.read_csv(temp[i][j],sep=\" \",names=['source','target'])\n",
        "  labels.append(0)\n",
        "  \n",
        "  for j in range(len(temp[i])):\n",
        "    if 'nodes' in temp[i][j]:\n",
        "      break\n",
        "  f = pd.read_csv(temp[i][j],usecols = [0,2,3])\n",
        "  for k in range(f.shape[0]):\n",
        "    node_features[f.iloc[k]['id']] = [f.iloc[k]['friends'],f.iloc[k]['followers']] \n",
        "\n",
        "  node_data = pd.DataFrame(\n",
        "    {\"friends\": [i[0] for i in list(node_features.values())], \"followers\": [i[1] for i in list(node_features.values())]}, index=list(node_features.keys()))\n",
        "  rumor.append(StellarGraph(node_data, edges)) "
      ],
      "metadata": {
        "id": "9SYQh4-Y9akU"
      },
      "execution_count": null,
      "outputs": []
    },
    {
      "cell_type": "markdown",
      "source": [
        "The `graphs` value is a list of many `StellarGraph` instances, each of which has a few node features:"
      ],
      "metadata": {
        "id": "BDOyPeV5riuy"
      }
    },
    {
      "cell_type": "code",
      "source": [
        "print(rumor[0].info())"
      ],
      "metadata": {
        "colab": {
          "base_uri": "https://localhost:8080/"
        },
        "id": "-EC9jGqL8kie",
        "outputId": "6f431a36-88a6-479b-b2bd-970084a9fc36"
      },
      "execution_count": null,
      "outputs": [
        {
          "output_type": "stream",
          "name": "stdout",
          "text": [
            "StellarGraph: Undirected multigraph\n",
            " Nodes: 89, Edges: 42\n",
            "\n",
            " Node types:\n",
            "  default: [89]\n",
            "    Features: float32 vector, length 2\n",
            "    Edge types: default-default->default\n",
            "\n",
            " Edge types:\n",
            "    default-default->default: [42]\n",
            "        Weights: all 1 (default)\n",
            "        Features: none\n"
          ]
        }
      ]
    },
    {
      "cell_type": "markdown",
      "source": [
        "### Summary statistics of the sizes of the graphs:"
      ],
      "metadata": {
        "id": "VpNDa6GK8yRl"
      }
    },
    {
      "cell_type": "code",
      "source": [
        "summary = pd.DataFrame(\n",
        "    [(g.number_of_nodes(), g.number_of_edges()) for g in rumor],\n",
        "    columns=[\"nodes\", \"edges\"],\n",
        ")\n",
        "summary.describe().round(1)"
      ],
      "metadata": {
        "colab": {
          "base_uri": "https://localhost:8080/",
          "height": 300
        },
        "id": "BNjeivFG81m2",
        "outputId": "03488e7b-fe25-447a-95dd-209200ecc75e"
      },
      "execution_count": null,
      "outputs": [
        {
          "output_type": "execute_result",
          "data": {
            "text/plain": [
              "        nodes   edges\n",
              "count  3510.0  3510.0\n",
              "mean     61.2   144.1\n",
              "std      34.7   268.8\n",
              "min       1.0     0.0\n",
              "25%      24.0    28.0\n",
              "50%      82.5    77.0\n",
              "75%      92.0   162.0\n",
              "max     101.0  4706.0"
            ],
            "text/html": [
              "\n",
              "  <div id=\"df-cb9a247a-98fd-4a09-96f3-3aab31ca21b8\">\n",
              "    <div class=\"colab-df-container\">\n",
              "      <div>\n",
              "<style scoped>\n",
              "    .dataframe tbody tr th:only-of-type {\n",
              "        vertical-align: middle;\n",
              "    }\n",
              "\n",
              "    .dataframe tbody tr th {\n",
              "        vertical-align: top;\n",
              "    }\n",
              "\n",
              "    .dataframe thead th {\n",
              "        text-align: right;\n",
              "    }\n",
              "</style>\n",
              "<table border=\"1\" class=\"dataframe\">\n",
              "  <thead>\n",
              "    <tr style=\"text-align: right;\">\n",
              "      <th></th>\n",
              "      <th>nodes</th>\n",
              "      <th>edges</th>\n",
              "    </tr>\n",
              "  </thead>\n",
              "  <tbody>\n",
              "    <tr>\n",
              "      <th>count</th>\n",
              "      <td>3510.0</td>\n",
              "      <td>3510.0</td>\n",
              "    </tr>\n",
              "    <tr>\n",
              "      <th>mean</th>\n",
              "      <td>61.2</td>\n",
              "      <td>144.1</td>\n",
              "    </tr>\n",
              "    <tr>\n",
              "      <th>std</th>\n",
              "      <td>34.7</td>\n",
              "      <td>268.8</td>\n",
              "    </tr>\n",
              "    <tr>\n",
              "      <th>min</th>\n",
              "      <td>1.0</td>\n",
              "      <td>0.0</td>\n",
              "    </tr>\n",
              "    <tr>\n",
              "      <th>25%</th>\n",
              "      <td>24.0</td>\n",
              "      <td>28.0</td>\n",
              "    </tr>\n",
              "    <tr>\n",
              "      <th>50%</th>\n",
              "      <td>82.5</td>\n",
              "      <td>77.0</td>\n",
              "    </tr>\n",
              "    <tr>\n",
              "      <th>75%</th>\n",
              "      <td>92.0</td>\n",
              "      <td>162.0</td>\n",
              "    </tr>\n",
              "    <tr>\n",
              "      <th>max</th>\n",
              "      <td>101.0</td>\n",
              "      <td>4706.0</td>\n",
              "    </tr>\n",
              "  </tbody>\n",
              "</table>\n",
              "</div>\n",
              "      <button class=\"colab-df-convert\" onclick=\"convertToInteractive('df-cb9a247a-98fd-4a09-96f3-3aab31ca21b8')\"\n",
              "              title=\"Convert this dataframe to an interactive table.\"\n",
              "              style=\"display:none;\">\n",
              "        \n",
              "  <svg xmlns=\"http://www.w3.org/2000/svg\" height=\"24px\"viewBox=\"0 0 24 24\"\n",
              "       width=\"24px\">\n",
              "    <path d=\"M0 0h24v24H0V0z\" fill=\"none\"/>\n",
              "    <path d=\"M18.56 5.44l.94 2.06.94-2.06 2.06-.94-2.06-.94-.94-2.06-.94 2.06-2.06.94zm-11 1L8.5 8.5l.94-2.06 2.06-.94-2.06-.94L8.5 2.5l-.94 2.06-2.06.94zm10 10l.94 2.06.94-2.06 2.06-.94-2.06-.94-.94-2.06-.94 2.06-2.06.94z\"/><path d=\"M17.41 7.96l-1.37-1.37c-.4-.4-.92-.59-1.43-.59-.52 0-1.04.2-1.43.59L10.3 9.45l-7.72 7.72c-.78.78-.78 2.05 0 2.83L4 21.41c.39.39.9.59 1.41.59.51 0 1.02-.2 1.41-.59l7.78-7.78 2.81-2.81c.8-.78.8-2.07 0-2.86zM5.41 20L4 18.59l7.72-7.72 1.47 1.35L5.41 20z\"/>\n",
              "  </svg>\n",
              "      </button>\n",
              "      \n",
              "  <style>\n",
              "    .colab-df-container {\n",
              "      display:flex;\n",
              "      flex-wrap:wrap;\n",
              "      gap: 12px;\n",
              "    }\n",
              "\n",
              "    .colab-df-convert {\n",
              "      background-color: #E8F0FE;\n",
              "      border: none;\n",
              "      border-radius: 50%;\n",
              "      cursor: pointer;\n",
              "      display: none;\n",
              "      fill: #1967D2;\n",
              "      height: 32px;\n",
              "      padding: 0 0 0 0;\n",
              "      width: 32px;\n",
              "    }\n",
              "\n",
              "    .colab-df-convert:hover {\n",
              "      background-color: #E2EBFA;\n",
              "      box-shadow: 0px 1px 2px rgba(60, 64, 67, 0.3), 0px 1px 3px 1px rgba(60, 64, 67, 0.15);\n",
              "      fill: #174EA6;\n",
              "    }\n",
              "\n",
              "    [theme=dark] .colab-df-convert {\n",
              "      background-color: #3B4455;\n",
              "      fill: #D2E3FC;\n",
              "    }\n",
              "\n",
              "    [theme=dark] .colab-df-convert:hover {\n",
              "      background-color: #434B5C;\n",
              "      box-shadow: 0px 1px 3px 1px rgba(0, 0, 0, 0.15);\n",
              "      filter: drop-shadow(0px 1px 2px rgba(0, 0, 0, 0.3));\n",
              "      fill: #FFFFFF;\n",
              "    }\n",
              "  </style>\n",
              "\n",
              "      <script>\n",
              "        const buttonEl =\n",
              "          document.querySelector('#df-cb9a247a-98fd-4a09-96f3-3aab31ca21b8 button.colab-df-convert');\n",
              "        buttonEl.style.display =\n",
              "          google.colab.kernel.accessAllowed ? 'block' : 'none';\n",
              "\n",
              "        async function convertToInteractive(key) {\n",
              "          const element = document.querySelector('#df-cb9a247a-98fd-4a09-96f3-3aab31ca21b8');\n",
              "          const dataTable =\n",
              "            await google.colab.kernel.invokeFunction('convertToInteractive',\n",
              "                                                     [key], {});\n",
              "          if (!dataTable) return;\n",
              "\n",
              "          const docLinkHtml = 'Like what you see? Visit the ' +\n",
              "            '<a target=\"_blank\" href=https://colab.research.google.com/notebooks/data_table.ipynb>data table notebook</a>'\n",
              "            + ' to learn more about interactive tables.';\n",
              "          element.innerHTML = '';\n",
              "          dataTable['output_type'] = 'display_data';\n",
              "          await google.colab.output.renderOutput(dataTable, element);\n",
              "          const docLink = document.createElement('div');\n",
              "          docLink.innerHTML = docLinkHtml;\n",
              "          element.appendChild(docLink);\n",
              "        }\n",
              "      </script>\n",
              "    </div>\n",
              "  </div>\n",
              "  "
            ]
          },
          "metadata": {},
          "execution_count": 19
        }
      ]
    },
    {
      "cell_type": "markdown",
      "source": [
        "The labels are `1` or `0`:"
      ],
      "metadata": {
        "id": "RNSTOKWa88qO"
      }
    },
    {
      "cell_type": "code",
      "source": [
        "labels = pd.Series(labels)\n",
        "labels.value_counts().to_frame()"
      ],
      "metadata": {
        "colab": {
          "base_uri": "https://localhost:8080/",
          "height": 112
        },
        "id": "ZCVEOMzl8980",
        "outputId": "3733386c-0683-46a4-c6f8-45a9843e108e"
      },
      "execution_count": null,
      "outputs": [
        {
          "output_type": "execute_result",
          "data": {
            "text/plain": [
              "      0\n",
              "0  2501\n",
              "1  1009"
            ],
            "text/html": [
              "\n",
              "  <div id=\"df-ff8c9088-dd37-4d28-98f0-f8e98cc719fe\">\n",
              "    <div class=\"colab-df-container\">\n",
              "      <div>\n",
              "<style scoped>\n",
              "    .dataframe tbody tr th:only-of-type {\n",
              "        vertical-align: middle;\n",
              "    }\n",
              "\n",
              "    .dataframe tbody tr th {\n",
              "        vertical-align: top;\n",
              "    }\n",
              "\n",
              "    .dataframe thead th {\n",
              "        text-align: right;\n",
              "    }\n",
              "</style>\n",
              "<table border=\"1\" class=\"dataframe\">\n",
              "  <thead>\n",
              "    <tr style=\"text-align: right;\">\n",
              "      <th></th>\n",
              "      <th>0</th>\n",
              "    </tr>\n",
              "  </thead>\n",
              "  <tbody>\n",
              "    <tr>\n",
              "      <th>0</th>\n",
              "      <td>2501</td>\n",
              "    </tr>\n",
              "    <tr>\n",
              "      <th>1</th>\n",
              "      <td>1009</td>\n",
              "    </tr>\n",
              "  </tbody>\n",
              "</table>\n",
              "</div>\n",
              "      <button class=\"colab-df-convert\" onclick=\"convertToInteractive('df-ff8c9088-dd37-4d28-98f0-f8e98cc719fe')\"\n",
              "              title=\"Convert this dataframe to an interactive table.\"\n",
              "              style=\"display:none;\">\n",
              "        \n",
              "  <svg xmlns=\"http://www.w3.org/2000/svg\" height=\"24px\"viewBox=\"0 0 24 24\"\n",
              "       width=\"24px\">\n",
              "    <path d=\"M0 0h24v24H0V0z\" fill=\"none\"/>\n",
              "    <path d=\"M18.56 5.44l.94 2.06.94-2.06 2.06-.94-2.06-.94-.94-2.06-.94 2.06-2.06.94zm-11 1L8.5 8.5l.94-2.06 2.06-.94-2.06-.94L8.5 2.5l-.94 2.06-2.06.94zm10 10l.94 2.06.94-2.06 2.06-.94-2.06-.94-.94-2.06-.94 2.06-2.06.94z\"/><path d=\"M17.41 7.96l-1.37-1.37c-.4-.4-.92-.59-1.43-.59-.52 0-1.04.2-1.43.59L10.3 9.45l-7.72 7.72c-.78.78-.78 2.05 0 2.83L4 21.41c.39.39.9.59 1.41.59.51 0 1.02-.2 1.41-.59l7.78-7.78 2.81-2.81c.8-.78.8-2.07 0-2.86zM5.41 20L4 18.59l7.72-7.72 1.47 1.35L5.41 20z\"/>\n",
              "  </svg>\n",
              "      </button>\n",
              "      \n",
              "  <style>\n",
              "    .colab-df-container {\n",
              "      display:flex;\n",
              "      flex-wrap:wrap;\n",
              "      gap: 12px;\n",
              "    }\n",
              "\n",
              "    .colab-df-convert {\n",
              "      background-color: #E8F0FE;\n",
              "      border: none;\n",
              "      border-radius: 50%;\n",
              "      cursor: pointer;\n",
              "      display: none;\n",
              "      fill: #1967D2;\n",
              "      height: 32px;\n",
              "      padding: 0 0 0 0;\n",
              "      width: 32px;\n",
              "    }\n",
              "\n",
              "    .colab-df-convert:hover {\n",
              "      background-color: #E2EBFA;\n",
              "      box-shadow: 0px 1px 2px rgba(60, 64, 67, 0.3), 0px 1px 3px 1px rgba(60, 64, 67, 0.15);\n",
              "      fill: #174EA6;\n",
              "    }\n",
              "\n",
              "    [theme=dark] .colab-df-convert {\n",
              "      background-color: #3B4455;\n",
              "      fill: #D2E3FC;\n",
              "    }\n",
              "\n",
              "    [theme=dark] .colab-df-convert:hover {\n",
              "      background-color: #434B5C;\n",
              "      box-shadow: 0px 1px 3px 1px rgba(0, 0, 0, 0.15);\n",
              "      filter: drop-shadow(0px 1px 2px rgba(0, 0, 0, 0.3));\n",
              "      fill: #FFFFFF;\n",
              "    }\n",
              "  </style>\n",
              "\n",
              "      <script>\n",
              "        const buttonEl =\n",
              "          document.querySelector('#df-ff8c9088-dd37-4d28-98f0-f8e98cc719fe button.colab-df-convert');\n",
              "        buttonEl.style.display =\n",
              "          google.colab.kernel.accessAllowed ? 'block' : 'none';\n",
              "\n",
              "        async function convertToInteractive(key) {\n",
              "          const element = document.querySelector('#df-ff8c9088-dd37-4d28-98f0-f8e98cc719fe');\n",
              "          const dataTable =\n",
              "            await google.colab.kernel.invokeFunction('convertToInteractive',\n",
              "                                                     [key], {});\n",
              "          if (!dataTable) return;\n",
              "\n",
              "          const docLinkHtml = 'Like what you see? Visit the ' +\n",
              "            '<a target=\"_blank\" href=https://colab.research.google.com/notebooks/data_table.ipynb>data table notebook</a>'\n",
              "            + ' to learn more about interactive tables.';\n",
              "          element.innerHTML = '';\n",
              "          dataTable['output_type'] = 'display_data';\n",
              "          await google.colab.output.renderOutput(dataTable, element);\n",
              "          const docLink = document.createElement('div');\n",
              "          docLink.innerHTML = docLinkHtml;\n",
              "          element.appendChild(docLink);\n",
              "        }\n",
              "      </script>\n",
              "    </div>\n",
              "  </div>\n",
              "  "
            ]
          },
          "metadata": {},
          "execution_count": 20
        }
      ]
    },
    {
      "cell_type": "markdown",
      "source": [
        "## Building The Graph Neural Network"
      ],
      "metadata": {
        "id": "a7MLyiJF0LDS"
      }
    },
    {
      "cell_type": "code",
      "source": [
        "from stellargraph.mapper import PaddedGraphGenerator\n",
        "from stellargraph.layer import GCNSupervisedGraphClassification\n",
        "\n",
        "from sklearn import model_selection\n",
        "\n",
        "from tensorflow.keras import Model\n",
        "from tensorflow.keras.optimizers import Adam\n",
        "from tensorflow.keras.layers import Dense\n",
        "from tensorflow.keras.losses import binary_crossentropy\n",
        "from tensorflow.keras.callbacks import EarlyStopping"
      ],
      "metadata": {
        "id": "YqsxetBB-PFn"
      },
      "execution_count": null,
      "outputs": []
    },
    {
      "cell_type": "markdown",
      "source": [
        "### Prepare graph generator\n",
        "\n",
        "To feed data to the `tf.Keras` model that we will create later, we need a data generator. For supervised graph classification, we create an instance of `StellarGraph`'s `PaddedGraphGenerator` class. Note that `graphs` is a list of `StellarGraph` graph objects."
      ],
      "metadata": {
        "id": "QwLz1W6K-AfY"
      }
    },
    {
      "cell_type": "code",
      "source": [
        "generator = PaddedGraphGenerator(graphs=rumor)"
      ],
      "metadata": {
        "id": "mbO_cjWDvqEH"
      },
      "execution_count": null,
      "outputs": []
    },
    {
      "cell_type": "markdown",
      "source": [
        "### Create the Keras graph classification model\n",
        "\n",
        "We are now ready to create a `tf.Keras` graph classification model using `StellarGraph`'s `GraphClassification` class together with standard `tf.Keras` layers, e.g., `Dense`. \n",
        "\n",
        "The input is the graph represented by its adjacency and node features matrices. The first two layers are Graph Convolutional as in [2] with each layer having 64 units and `relu` activations. The next layer is a mean pooling layer where the learned node representation are summarized to create a graph representation. The graph representation is input to two fully connected layers with 32 and 16 units respectively and `relu` activations. The last layer is the output layer with a single unit and `sigmoid` activation."
      ],
      "metadata": {
        "id": "nUHxKNYS-e5b"
      }
    },
    {
      "cell_type": "markdown",
      "source": [
        "<img src=\"http://drive.google.com/uc?export=view&id=11ztoQtOc5la47yedafZ5jkqNq2eRL4Cg\">"
      ],
      "metadata": {
        "id": "B2YBFtfasJ2d"
      }
    },
    {
      "cell_type": "code",
      "source": [
        "def create_graph_classification_model(generator):\n",
        "    gc_model = GCNSupervisedGraphClassification(\n",
        "        layer_sizes=[64, 64],\n",
        "        activations=[\"relu\", \"relu\"],\n",
        "        generator=generator,\n",
        "        dropout=0.5,\n",
        "    )\n",
        "    x_inp, x_out = gc_model.in_out_tensors()\n",
        "    predictions = Dense(units=32, activation=\"relu\")(x_out)\n",
        "    predictions = Dense(units=16, activation=\"relu\")(predictions)\n",
        "    predictions = Dense(units=1, activation=\"sigmoid\")(predictions)\n",
        "\n",
        "    # Let's create the Keras model and prepare it for training\n",
        "    model = Model(inputs=x_inp, outputs=predictions)\n",
        "    model.compile(optimizer=Adam(0.005), loss=binary_crossentropy, metrics=[\"acc\"])\n",
        "\n",
        "    return model"
      ],
      "metadata": {
        "id": "pqWhqFaW-ZBT"
      },
      "execution_count": null,
      "outputs": []
    },
    {
      "cell_type": "markdown",
      "source": [
        "## Training the Model\n",
        "\n",
        "\n",
        "We can now train the model using the model's `fit` method. First, we specify some important training parameters such as the number of training epochs, number of fold for cross validation and the number of time to repeat cross validation."
      ],
      "metadata": {
        "id": "KJOala2sB7CD"
      }
    },
    {
      "cell_type": "code",
      "source": [
        "epochs = 200  # maximum number of training epochs\n",
        "folds = 10  # the number of folds for k-fold cross validation\n",
        "n_repeats = 5  # the number of repeats for repeated k-fold cross validation\n",
        "\n",
        "es = EarlyStopping(\n",
        "    monitor=\"val_loss\", min_delta=0, patience=25, restore_best_weights=True\n",
        ")"
      ],
      "metadata": {
        "id": "Hn5tJdSXB5d3"
      },
      "execution_count": null,
      "outputs": []
    },
    {
      "cell_type": "markdown",
      "source": [
        "The method `train_fold` is used to train a graph classification model for a single fold of the data."
      ],
      "metadata": {
        "id": "xfG7RXbAs7ZB"
      }
    },
    {
      "cell_type": "code",
      "source": [
        "def train_fold(model, train_gen, test_gen, es, epochs):\n",
        "    history = model.fit(\n",
        "        train_gen, epochs=epochs, validation_data=test_gen, verbose=0, callbacks=[es],\n",
        "    )\n",
        "    # calculate performance on the test data and return along with history\n",
        "    test_metrics = model.evaluate(test_gen, verbose=0)\n",
        "    test_acc = test_metrics[model.metrics_names.index(\"acc\")]\n",
        "\n",
        "    return history, test_acc"
      ],
      "metadata": {
        "id": "vnzUvc54CEsW"
      },
      "execution_count": null,
      "outputs": []
    },
    {
      "cell_type": "code",
      "source": [
        "def get_generators(train_index, test_index, graph_labels, batch_size):\n",
        "    train_gen = generator.flow(\n",
        "        train_index, targets=graph_labels.iloc[train_index].values, batch_size=batch_size\n",
        "    )\n",
        "    test_gen = generator.flow(\n",
        "        test_index, targets=graph_labels.iloc[test_index].values, batch_size=batch_size\n",
        "    )\n",
        "\n",
        "    return train_gen, test_gen"
      ],
      "metadata": {
        "id": "M8Zx4wiWCFPG"
      },
      "execution_count": null,
      "outputs": []
    },
    {
      "cell_type": "markdown",
      "source": [
        "The code below puts all the above functionality together in a training loop for repeated k-fold cross-validation where the number of folds is 10, `folds=10`; that is we do 10-fold cross validation `n_repeats` times where `n_repeats=5`.\n",
        "\n",
        "**Note**: The below code may take a long time to run depending on the value set for `n_repeats`. The larger the latter, the longer it takes since for each repeat we train and evaluate 10 graph classification models, one for each fold of the data. For progress updates, we recommend that you set `verbose=2` in the call to the `fit` method is cell 10, line 3."
      ],
      "metadata": {
        "id": "mlV-lxeStBbp"
      }
    },
    {
      "cell_type": "code",
      "source": [
        "test_accs = []\n",
        "\n",
        "stratified_folds = model_selection.RepeatedStratifiedKFold(\n",
        "    n_splits=folds, n_repeats=n_repeats\n",
        ").split(labels, labels)\n",
        "\n",
        "for i, (train_index, test_index) in enumerate(stratified_folds):\n",
        "    print(f\"Training and evaluating on fold {i+1} out of {folds * n_repeats}...\")\n",
        "    train_gen, test_gen = get_generators(\n",
        "        train_index, test_index, labels, batch_size=30\n",
        "    )\n",
        "\n",
        "    model = create_graph_classification_model(generator)\n",
        "\n",
        "    history, acc = train_fold(model, train_gen, test_gen, es, epochs)\n",
        "\n",
        "    test_accs.append(acc)"
      ],
      "metadata": {
        "colab": {
          "base_uri": "https://localhost:8080/"
        },
        "id": "RNhAPb4BCIXW",
        "outputId": "07e5cac9-b886-4a99-8a38-94f7b3203a4b"
      },
      "execution_count": null,
      "outputs": [
        {
          "output_type": "stream",
          "name": "stdout",
          "text": [
            "Training and evaluating on fold 1 out of 50...\n",
            "Training and evaluating on fold 2 out of 50...\n",
            "Training and evaluating on fold 3 out of 50...\n",
            "Training and evaluating on fold 4 out of 50...\n",
            "Training and evaluating on fold 5 out of 50...\n",
            "Training and evaluating on fold 6 out of 50...\n",
            "Training and evaluating on fold 7 out of 50...\n",
            "Training and evaluating on fold 8 out of 50...\n",
            "Training and evaluating on fold 9 out of 50...\n",
            "Training and evaluating on fold 10 out of 50...\n",
            "Training and evaluating on fold 11 out of 50...\n",
            "Training and evaluating on fold 12 out of 50...\n",
            "Training and evaluating on fold 13 out of 50...\n",
            "Training and evaluating on fold 14 out of 50...\n",
            "Training and evaluating on fold 15 out of 50...\n",
            "Training and evaluating on fold 16 out of 50...\n",
            "Training and evaluating on fold 17 out of 50...\n",
            "Training and evaluating on fold 18 out of 50...\n",
            "Training and evaluating on fold 19 out of 50...\n",
            "Training and evaluating on fold 20 out of 50...\n",
            "Training and evaluating on fold 21 out of 50...\n",
            "Training and evaluating on fold 22 out of 50...\n",
            "Training and evaluating on fold 23 out of 50...\n",
            "Training and evaluating on fold 24 out of 50...\n",
            "Training and evaluating on fold 25 out of 50...\n",
            "Training and evaluating on fold 26 out of 50...\n",
            "Training and evaluating on fold 27 out of 50...\n",
            "Training and evaluating on fold 28 out of 50...\n",
            "Training and evaluating on fold 29 out of 50...\n",
            "Training and evaluating on fold 30 out of 50...\n",
            "Training and evaluating on fold 31 out of 50...\n",
            "Training and evaluating on fold 32 out of 50...\n",
            "Training and evaluating on fold 33 out of 50...\n",
            "Training and evaluating on fold 34 out of 50...\n",
            "Training and evaluating on fold 35 out of 50...\n",
            "Training and evaluating on fold 36 out of 50...\n",
            "Training and evaluating on fold 37 out of 50...\n",
            "Training and evaluating on fold 38 out of 50...\n",
            "Training and evaluating on fold 39 out of 50...\n",
            "Training and evaluating on fold 40 out of 50...\n",
            "Training and evaluating on fold 41 out of 50...\n",
            "Training and evaluating on fold 42 out of 50...\n",
            "Training and evaluating on fold 43 out of 50...\n",
            "Training and evaluating on fold 44 out of 50...\n",
            "Training and evaluating on fold 45 out of 50...\n",
            "Training and evaluating on fold 46 out of 50...\n",
            "Training and evaluating on fold 47 out of 50...\n",
            "Training and evaluating on fold 48 out of 50...\n",
            "Training and evaluating on fold 49 out of 50...\n",
            "Training and evaluating on fold 50 out of 50...\n"
          ]
        }
      ]
    },
    {
      "cell_type": "code",
      "source": [
        "import numpy as np\n",
        "print(f\"Accuracy over all folds mean: {np.mean(test_accs)*100:.3}% and std: {np.std(test_accs)*100:.2}%\")"
      ],
      "metadata": {
        "colab": {
          "base_uri": "https://localhost:8080/"
        },
        "id": "9MJJTGnGCOoW",
        "outputId": "76478e7f-4799-45a1-a29f-128cd2a0f61b"
      },
      "execution_count": null,
      "outputs": [
        {
          "output_type": "stream",
          "name": "stdout",
          "text": [
            "Accuracy over all folds mean: 71.3% and std: 0.085%\n"
          ]
        }
      ]
    }
  ]
}
