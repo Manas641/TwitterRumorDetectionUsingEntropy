{
  "nbformat": 4,
  "nbformat_minor": 0,
  "metadata": {
    "colab": {
      "provenance": []
    },
    "kernelspec": {
      "name": "python3",
      "display_name": "Python 3"
    },
    "language_info": {
      "name": "python"
    }
  },
  "cells": [
    {
      "cell_type": "markdown",
      "source": [
        "## Downloading Wico Dataset Uploaded On Kaggle"
      ],
      "metadata": {
        "id": "ecvRD-9wQptj"
      }
    },
    {
      "cell_type": "code",
      "execution_count": null,
      "metadata": {
        "id": "0fGNwn9IK16x"
      },
      "outputs": [],
      "source": [
        "!pip install -q kaggle\n",
        "! mkdir ~/.kaggle\n",
        "! cp kaggle.json ~/.kaggle/\n",
        "! chmod 600 ~/.kaggle/kaggle.json\n",
        "! kaggle datasets download -d manaspp/wico-graph\n",
        "! unzip wico-graph"
      ]
    },
    {
      "cell_type": "markdown",
      "source": [
        "# Dataset\n",
        "\n",
        "Wico Graph Dataset : https://datasets.simula.no/wico-graph/\n",
        "<br/>DOI : 10.1145/3472720.3483617<br/>\n",
        "<br />\n",
        "In the wake of the COVID-19 pandemic, a surge of misinformation has flooded social media and other internet channels, and some of it has the potential to cause real-world harm. To counteract this misinformation, reliably identifying it is a principal problem to be solved.\n",
        " `However, the identification of misinformation poses a formidable challenge for language processing systems since the texts containing misinformation are short, work with insinuation rather than explicitly stating a false claim, or resemble other postings that deal with the same topic ironically.` \n",
        " Accordingly, for the development of better detection systems, it is not only essential to use hand-labeled ground truth data and extend the analysis with methods beyond Natural Language Processing to consider the characteristics of the participant's relationships and the diffusion of misinformation. \n",
        "\n",
        "---"
      ],
      "metadata": {
        "id": "axyoUH4H1MT_"
      }
    },
    {
      "cell_type": "markdown",
      "source": [
        "## Importing Necessary Libraries"
      ],
      "metadata": {
        "id": "B2Z2cIMXvhxI"
      }
    },
    {
      "cell_type": "code",
      "source": [
        "import random\n",
        "import networkx as nx\n",
        "import pandas as pd\n",
        "import os\n",
        "import statistics\n",
        "import matplotlib.pyplot as plt\n",
        "import numpy as np\n",
        "\n",
        "def list_files(dir):\n",
        "    r = []\n",
        "    for root, dirs, files in os.walk(dir):\n",
        "        for name in files:\n",
        "            r.append(os.path.join(root, name))\n",
        "    return r"
      ],
      "metadata": {
        "id": "W7aCUiWwMMPx"
      },
      "execution_count": null,
      "outputs": []
    },
    {
      "cell_type": "markdown",
      "source": [
        "\n",
        "## Extracting the graphs\n",
        "\n",
        "The novel dataset deals with a specific piece of misinformation: the idea that the 5G wireless network is causally connected to the COVID-19 pandemic. The authors extracted the subgraphs of 3,000 manually classified Tweets from Twitter's follower network and distinguished them into three categories. `First, subgraphs of Tweets that propagate the specific 5G misinformation, those that spread other conspiracy theories, and Tweets that do neither.` the WICO (Wireless Networks and Coronavirus Conspiracy) dataset supports experts in machine learning, graph processing, and related fields in studying the spread of misinformation.\n",
        "\n",
        "---"
      ],
      "metadata": {
        "id": "vQ4R6Ieqk-aI"
      }
    },
    {
      "cell_type": "markdown",
      "source": [
        "The dataset has been collected from Twitter during a period between 1st of January 2020 and 15th of July 2020, by searching for the 5G and Corona-virus-related keywords (e.g., \"5G\", \"corona\", \"COVID-19\", etc.) inside the tweets' text. All tweets should still be online at the time of releasing the dataset. The dataset consists out of three classes."
      ],
      "metadata": {
        "id": "ghlJ2PA6TPVs"
      }
    },
    {
      "cell_type": "markdown",
      "source": [
        "### Extracting 5G Conspiracy Graphs"
      ],
      "metadata": {
        "id": "6ULpYR7avo4k"
      }
    },
    {
      "cell_type": "markdown",
      "source": [
        "`5G-Corona Conspiracy:` This class contains all tweets that claim or insinuate some deeper connection between COVID-19 and 5G, such as the idea that 5G weakens the immune system and thus caused the current corona-virus pandemic, or that there is no pandemic and the COVID-19 victims were actually harmed by radiation emitted by 5G network towers. The crucial requirement is the claimed existence of some causal link."
      ],
      "metadata": {
        "id": "Gt68RaFJTRRC"
      }
    },
    {
      "cell_type": "code",
      "source": [
        "temp = []\n",
        "\n",
        "for i in range(1,413):\n",
        "    temp.append(list_files(f'5G_Conspiracy_Graphs/{i}/'))\n",
        "\n",
        "five_cons = []\n",
        "for i in range(len(temp)):\n",
        "  for j in range(len(temp[i])):\n",
        "    if 'edges' in temp[i][j]:\n",
        "      break\n",
        "  f = pd.read_csv(temp[i][j],sep=\" \",names=['source','target'])\n",
        "  g = nx.from_pandas_edgelist(f,source='source', target='target',create_using = nx.DiGraph)\n",
        "  five_cons.append(g) "
      ],
      "metadata": {
        "id": "8U3G7AuYvsyr"
      },
      "execution_count": null,
      "outputs": []
    },
    {
      "cell_type": "markdown",
      "source": [
        "### Extracting Other Conspiracy Graphs"
      ],
      "metadata": {
        "id": "LTByjOZ2vvqG"
      }
    },
    {
      "cell_type": "markdown",
      "source": [
        "`Other Conspiracy:` This class contains all tweets that spread conspiracy theories other than the ones discussed above. This includes ideas about an intentional release of the virus, forced or harmful vaccinations, or the virus being a hoax."
      ],
      "metadata": {
        "id": "lIs3kdwITXMn"
      }
    },
    {
      "cell_type": "code",
      "source": [
        "temp = []\n",
        "\n",
        "for i in range(1,598):\n",
        "    temp.append(list_files(f'Other_Graphs/{i}/'))\n",
        "\n",
        "other_cons = []\n",
        "for i in range(len(temp)):\n",
        "  for j in range(len(temp[i])):\n",
        "    if 'edges' in temp[i][j]:\n",
        "      break\n",
        "  f = pd.read_csv(temp[i][j],sep=\" \",names=['source','target'])\n",
        "  g = nx.from_pandas_edgelist(f,source='source', target='target',create_using = nx.DiGraph)\n",
        "  other_cons.append(g) "
      ],
      "metadata": {
        "id": "EuuFfG9b7dlF"
      },
      "execution_count": null,
      "outputs": []
    },
    {
      "cell_type": "markdown",
      "source": [
        "### Extracting Non-Conspiracy Graphs"
      ],
      "metadata": {
        "id": "dpIcgW1ev0rz"
      }
    },
    {
      "cell_type": "markdown",
      "source": [
        "`Non-Conspiracy:` This class contains all tweets not belonging to the previous two classes. Note that this also includes tweets that discuss COVID-19 pandemic itself, tweets claim that 5G is not proven to be absolutely safe or even can be harmful without linking it to COVID-19, as well as tweets claiming that authorities are pushing for the installation of 5G while the Publicis distracted by COVID-19. In addition, tweets pointing out the existence of conspiracy theories or mocking them fall into this class since they do not spread the conspiracy theories by inciting people to believe in them."
      ],
      "metadata": {
        "id": "uYx2tEFdTfEM"
      }
    },
    {
      "cell_type": "code",
      "source": [
        "temp = []\n",
        "\n",
        "for i in range(1,2502):\n",
        "    temp.append(list_files(f'Non_Conspiracy_Graphs/{i}/'))\n",
        "\n",
        "non_cons = []\n",
        "for i in range(len(temp)):\n",
        "  for j in range(len(temp[i])):\n",
        "    if 'edges' in temp[i][j]:\n",
        "      break\n",
        "  f = pd.read_csv(temp[i][j],sep=\" \",names=['source','target'])\n",
        "  g = nx.from_pandas_edgelist(f,source='source', target='target',create_using = nx.DiGraph)\n",
        "  non_cons.append(g)"
      ],
      "metadata": {
        "id": "Elw_fwMK4MEO"
      },
      "execution_count": null,
      "outputs": []
    },
    {
      "cell_type": "markdown",
      "source": [
        "# Analysis of Social Network Properties"
      ],
      "metadata": {
        "id": "eJtbHizq08iD"
      }
    },
    {
      "cell_type": "markdown",
      "source": [
        "A sample graph from the dataset.<br />\n",
        "\n",
        "<img src=\"http://drive.google.com/uc?export=view&id=1_7cuaGXaJP5jaqOOiW6XqweC8t8ogdEl\">"
      ],
      "metadata": {
        "id": "FdnRN9GTWIDD"
      }
    },
    {
      "cell_type": "markdown",
      "source": [
        "## Nodes\n",
        "\n",
        "The `number of nodes` in each of the subgraph is calculated."
      ],
      "metadata": {
        "id": "MUVr9aTxV2Ar"
      }
    },
    {
      "cell_type": "code",
      "source": [
        "five_nodes = []\n",
        "for i in five_cons:\n",
        "  five_nodes.append(nx.number_of_nodes(i))\n",
        "\n",
        "other_nodes = []\n",
        "for i in other_cons:\n",
        "  other_nodes.append(nx.number_of_nodes(i))\n",
        "\n",
        "non_nodes = []\n",
        "for i in non_cons:\n",
        "  non_nodes.append(nx.number_of_nodes(i))\n",
        "\n",
        "print(f\"Mean number of nodes in 5G-conspiracy graphs is: {np.mean(five_nodes)}\")\n",
        "print(f\"Mean number of nodes in Other-conspiracy graphs is: {np.mean(other_nodes)}\")\n",
        "print(f\"Mean number of nodes in Combined-conspiracy graphs is: {(np.mean(other_nodes)*598 + np.mean(five_nodes)*413)/1011}\")\n",
        "print(f\"Mean number of nodes in Non-conspiracy graphs is: {np.mean(non_nodes)}\")"
      ],
      "metadata": {
        "colab": {
          "base_uri": "https://localhost:8080/"
        },
        "id": "VMw5u2ytV0SC",
        "outputId": "6e185375-68d3-4394-9859-df7aab8e1357"
      },
      "execution_count": null,
      "outputs": [
        {
          "output_type": "stream",
          "name": "stdout",
          "text": [
            "Mean number of nodes in 5G-conspiracy graphs is: 34.68446601941748\n",
            "Mean number of nodes in Other-conspiracy graphs is: 51.60134003350084\n",
            "Mean number of nodes in Other-conspiracy graphs is: 44.69068823546284\n",
            "Mean number of nodes in Non-conspiracy graphs is: 44.61855257896841\n"
          ]
        }
      ]
    },
    {
      "cell_type": "code",
      "source": [
        "fig,ax = plt.subplots(1,3,sharey = True,figsize = (15,5))\n",
        "ax[0].hist(five_nodes)\n",
        "ax[0].set_xlabel(\"Nodes in each graph\")\n",
        "ax[0].set_ylabel(\"Count of graphs\")\n",
        "ax[1].hist(other_nodes)\n",
        "ax[1].set_xlabel(\"Nodes in each graph\")\n",
        "ax[2].hist(non_nodes)\n",
        "ax[2].set_xlabel(\"Nodes in each graph\")\n",
        "plt.show()"
      ],
      "metadata": {
        "colab": {
          "base_uri": "https://localhost:8080/",
          "height": 334
        },
        "id": "3Vd2VP5oXzyx",
        "outputId": "4772d952-9088-4c58-a98a-4e5f53c1189a"
      },
      "execution_count": null,
      "outputs": [
        {
          "output_type": "display_data",
          "data": {
            "text/plain": [
              "<Figure size 1080x360 with 3 Axes>"
            ],
            "image/png": "[encoded data removed]"
          },
          "metadata": {
            "needs_background": "light"
          }
        }
      ]
    },
    {
      "cell_type": "markdown",
      "source": [
        "### `Observations: `\n",
        "\n",
        "- While the average of nodes in each of the two conspiracy classes differed from the non-conspiracy class, their combined average was very similar to that of the non-conspiracy class.\n",
        "- While, an ML model might find this feature useful in classifying the conspiracy classes individually against non-conspiracy, it may not be a useful feature when we combine the data of the two classes.\n",
        "- `It indicates that both rumors and non-rumors may spread to similar number of nodes in the dataset and hence, we will have to look for more complex features to determine the difference between the spread of the two.`"
      ],
      "metadata": {
        "id": "uWTpPaSTYo_U"
      }
    },
    {
      "cell_type": "markdown",
      "source": [
        "## Edges\n",
        "\n",
        "The `number of edges` in each subgraph is calculated."
      ],
      "metadata": {
        "id": "kJ6Ce7JddWym"
      }
    },
    {
      "cell_type": "code",
      "source": [
        "five_edge = []\n",
        "for i in five_cons:\n",
        "  five_edge.append(nx.number_of_edges(i))\n",
        "\n",
        "other_edge = []\n",
        "for i in other_cons:\n",
        "  other_edge.append(nx.number_of_edges(i))\n",
        "\n",
        "non_edge = []\n",
        "for i in non_cons:\n",
        "  non_edge.append(nx.number_of_edges(i))\n",
        "\n",
        "print(f\"Mean number of edges in 5G-conspiracy graphs is: {np.mean(five_edge)}\")\n",
        "print(f\"Mean number of edges in Other-conspiracy graphs is: {np.mean(other_edge)}\")\n",
        "print(f\"Mean number of edges in Combined-conspiracy graphs is: {np.mean(five_edge + other_edge)}\")\n",
        "print(f\"Mean number of edges in Non-conspiracy graphs is: {np.mean(non_edge)}\")"
      ],
      "metadata": {
        "colab": {
          "base_uri": "https://localhost:8080/"
        },
        "id": "XYUfk_MSdWRb",
        "outputId": "af403d66-3683-49e2-acf4-534d490d24a4"
      },
      "execution_count": null,
      "outputs": [
        {
          "output_type": "stream",
          "name": "stdout",
          "text": [
            "Mean number of edges in 5G-conspiracy graphs is: 142.3131067961165\n",
            "Mean number of edges in Other-conspiracy graphs is: 197.55778894472363\n",
            "Mean number of edges in Other-conspiracy graphs is: 175.0\n",
            "Mean number of edges in Non-conspiracy graphs is: 131.65573770491804\n"
          ]
        }
      ]
    },
    {
      "cell_type": "markdown",
      "source": [
        "### `Observations:`\n",
        "\n",
        "- The average number of edges is different for each of the classes.\n",
        "- It is also different in the case of the two conspiracy classes combined and the non-conspiracy graph.\n",
        "- `As we see, the non-rumors had a lower number of edges on average. This could be an indication towards a more triggered activity period in the network when there is a rumor when compared to a non-rumor. However, this could be dependent on the nature of non-rumors, for example, a celebratory news receives much better interaction when compared to a regular information update. However, rumors seem to generate more activity as both the classes in the database had more edges on average compared to non-rumor class.`"
      ],
      "metadata": {
        "id": "AOj3unhpanbk"
      }
    },
    {
      "cell_type": "markdown",
      "source": [
        "## Degree\n",
        "\n",
        "We calculate the `mean of degrees of nodes` in each sub graph."
      ],
      "metadata": {
        "id": "UwwUerJC2F3k"
      }
    },
    {
      "cell_type": "code",
      "source": [
        "five_cons_deg = []\n",
        "for i in range(len(five_cons)):\n",
        "  g = five_cons[i]\n",
        "  try:\n",
        "    five_cons_deg.append(nx.degree_histogram(g))\n",
        "  except:\n",
        "    pass\n",
        "\n",
        "other_cons_deg = []\n",
        "for i in range(len(other_cons)):\n",
        "  g = other_cons[i]\n",
        "  try:\n",
        "    other_cons_deg.append(nx.degree_histogram(g))\n",
        "  except:\n",
        "    pass\n",
        "\n",
        "non_cons_deg = []\n",
        "for i in range(len(non_cons)):\n",
        "  g = non_cons[i]\n",
        "  try:\n",
        "    non_cons_deg.append(nx.degree_histogram(g))\n",
        "  except:\n",
        "    pass"
      ],
      "metadata": {
        "id": "Bodihgwg1A6B"
      },
      "execution_count": null,
      "outputs": []
    },
    {
      "cell_type": "code",
      "source": [
        "mean_deg_five = []\n",
        "var_deg_five = []\n",
        "med_deg_five = []\n",
        "for i in five_cons_deg:\n",
        "  mean_deg_five.append(np.mean(i))\n",
        "  var_deg_five.append(np.var(i))\n",
        "  med_deg_five.append(np.median(i))\n",
        "\n",
        "mean_deg_other = []\n",
        "var_deg_other = []\n",
        "med_deg_other = []\n",
        "for i in other_cons_deg:\n",
        "  mean_deg_other.append(np.mean(i))\n",
        "  var_deg_other.append(np.var(i))\n",
        "  med_deg_other.append(np.median(i))\n",
        "\n",
        "mean_deg_non = []\n",
        "var_deg_non = []\n",
        "med_deg_non = []\n",
        "for i in non_cons_deg:\n",
        "  mean_deg_non.append(np.mean(i))\n",
        "  var_deg_non.append(np.var(i))\n",
        "  med_deg_non.append(np.median(i))"
      ],
      "metadata": {
        "id": "ddShw_7nFuVm"
      },
      "execution_count": null,
      "outputs": []
    },
    {
      "cell_type": "code",
      "source": [
        "print(f\"Mean of average degree of graphs in 5G conspiracy : {np.nanmean(mean_deg_five)}\")\n",
        "print(f\"Mean of average degree of graphs in Other conspiracy :{np.nanmean(mean_deg_other)}\")\n",
        "print(f\"Mean of average degree of graphs in Combined conspiracy :{np.nanmean(mean_deg_five + mean_deg_other)}\")\n",
        "print(f\"Mean of average degree of graphs in Non conspiracy :{np.nanmean(mean_deg_non)}\")"
      ],
      "metadata": {
        "colab": {
          "base_uri": "https://localhost:8080/"
        },
        "id": "zTUtgXPULOes",
        "outputId": "ff5d0831-16a9-4833-9707-70161fd8083a"
      },
      "execution_count": null,
      "outputs": [
        {
          "output_type": "stream",
          "name": "stdout",
          "text": [
            "Mean of average degree of graphs in 5G conspiracy : 1.1621028540383977\n",
            "Mean of average degree of graphs in Other conspiracy :1.1319829464453022\n",
            "Mean of average degree of graphs in Combined conspiracy :1.144187220380229\n",
            "Mean of average degree of graphs in Non conspiracy :1.2247871479838943\n"
          ]
        }
      ]
    },
    {
      "cell_type": "markdown",
      "source": [
        "### `Observations:`\n",
        "\n",
        "- The average of mean degree of graphs is different for each of the classes.\n",
        "- It is also different in the case of the two conspiracy classes combined and the non-conspiracy graph.\n",
        "- `The values are very close but still differs between the classes. Also, both rumor classes had lower values when compared to the non-rumor class, however, because of the closeness of the values we cannot infer a solid conclusion here.`"
      ],
      "metadata": {
        "id": "2NIOUY1RLjZn"
      }
    },
    {
      "cell_type": "markdown",
      "source": [
        "## Degree Centrality\n",
        "\n",
        "We calculate the `mean of degree centralities of nodes` in the subgraph."
      ],
      "metadata": {
        "id": "-ZT00NDa2ULt"
      }
    },
    {
      "cell_type": "code",
      "source": [
        "five_deg_cen = []\n",
        "for i in five_cons:\n",
        "  five_deg_cen.append(np.mean(list(nx.degree_centrality(i).values())))\n",
        "\n",
        "other_deg_cen = []\n",
        "for i in other_cons:\n",
        "  other_deg_cen.append(np.mean(list(nx.degree_centrality(i).values())))\n",
        "\n",
        "non_deg_cen = []\n",
        "for i in non_cons:\n",
        "  non_deg_cen.append(np.mean(list(nx.degree_centrality(i).values())))"
      ],
      "metadata": {
        "id": "0tuMrFhV2Xl3",
        "colab": {
          "base_uri": "https://localhost:8080/"
        },
        "outputId": "eb242e70-acc0-49a5-da27-3ac9aa03899a"
      },
      "execution_count": null,
      "outputs": [
        {
          "output_type": "stream",
          "name": "stderr",
          "text": [
            "/usr/local/lib/python3.8/dist-packages/numpy/core/fromnumeric.py:3440: RuntimeWarning: Mean of empty slice.\n",
            "  return _methods._mean(a, axis=axis, dtype=dtype,\n",
            "/usr/local/lib/python3.8/dist-packages/numpy/core/_methods.py:189: RuntimeWarning: invalid value encountered in double_scalars\n",
            "  ret = ret.dtype.type(ret / rcount)\n"
          ]
        }
      ]
    },
    {
      "cell_type": "code",
      "source": [
        "print(f\"Mean of average degree centralitiy of graphs in 5G conspiracy : {np.nanmean(five_deg_cen)}\")\n",
        "print(f\"Mean of average degree centralitiy of graphs in Other conspiracy :{np.nanmean(other_deg_cen)}\")\n",
        "print(f\"Mean of average degree centralitiy of graphs in Combined conspiracy :{np.nanmean(other_deg_cen + five_deg_cen)}\")\n",
        "print(f\"Mean of average degree centralitiy of graphs in Non conspiracy :{np.nanmean(non_deg_cen)}\")"
      ],
      "metadata": {
        "colab": {
          "base_uri": "https://localhost:8080/"
        },
        "id": "2E0KUEKDZMfs",
        "outputId": "36ee9cb5-f9f2-48c4-e0fb-60ee42fb8990"
      },
      "execution_count": null,
      "outputs": [
        {
          "output_type": "stream",
          "name": "stdout",
          "text": [
            "Mean of average degree centralitiy of graphs in 5G conspiracy : 0.2979032316107346\n",
            "Mean of average degree centralitiy of graphs in Other conspiracy :0.20095286729106024\n",
            "Mean of average degree centralitiy of graphs in Combined conspiracy :0.2402361486421459\n",
            "Mean of average degree centralitiy of graphs in Non conspiracy :0.19580519780760516\n"
          ]
        }
      ]
    },
    {
      "cell_type": "markdown",
      "source": [
        "### `Observations:`\n",
        "\n",
        "- The mean of degree centrality of nodes of subgraphs have a different average in each of the three classes, however the values are very close between other conspiracy class and non-conspiracy class.\n",
        "- The values are clearly different for the combined conspiracy classes and non-conspiracy class.\n",
        "- `"
      ],
      "metadata": {
        "id": "SR7co0ZsfnPz"
      }
    },
    {
      "cell_type": "markdown",
      "source": [
        "## Closeness Centrality\n",
        "\n",
        "We calculate the `mean of closeness centralities of nodes` in the subgraph."
      ],
      "metadata": {
        "id": "mojawgZ-2YV1"
      }
    },
    {
      "cell_type": "code",
      "source": [
        "five_close_cen = []\n",
        "for i in five_cons:\n",
        "  five_close_cen.append(np.mean(list(nx.closeness_centrality(i).values())))\n",
        "\n",
        "other_close_cen = []\n",
        "for i in other_cons:\n",
        "  other_close_cen.append(np.mean(list(nx.closeness_centrality(i).values())))\n",
        "\n",
        "non_close_cen = []\n",
        "for i in non_cons:\n",
        "  non_close_cen.append(np.mean(list(nx.closeness_centrality(i).values())))"
      ],
      "metadata": {
        "id": "9x8QecDx2aMo",
        "colab": {
          "base_uri": "https://localhost:8080/"
        },
        "outputId": "7a5c61c3-9c1f-4078-859c-fa1a98bee350"
      },
      "execution_count": null,
      "outputs": [
        {
          "output_type": "stream",
          "name": "stderr",
          "text": [
            "/usr/local/lib/python3.8/dist-packages/numpy/core/fromnumeric.py:3440: RuntimeWarning: Mean of empty slice.\n",
            "  return _methods._mean(a, axis=axis, dtype=dtype,\n",
            "/usr/local/lib/python3.8/dist-packages/numpy/core/_methods.py:189: RuntimeWarning: invalid value encountered in double_scalars\n",
            "  ret = ret.dtype.type(ret / rcount)\n"
          ]
        }
      ]
    },
    {
      "cell_type": "code",
      "source": [
        "print(f\"Mean of average closeness centralitiy of graphs in 5G conspiracy : {np.nanmean(five_close_cen)}\")\n",
        "print(f\"Mean of average closeness centralitiy of graphs in Other conspiracy :{np.nanmean(other_close_cen)}\")\n",
        "print(f\"Mean of average closeness centralitiy of graphs in Combined conspiracy :{np.nanmean(other_close_cen + five_close_cen)}\")\n",
        "print(f\"Mean of average closeness centralitiy of graphs in Non conspiracy :{np.nanmean(non_close_cen)}\")"
      ],
      "metadata": {
        "colab": {
          "base_uri": "https://localhost:8080/"
        },
        "id": "hZPeXfWVbaeV",
        "outputId": "9b70e3d9-6883-4487-e685-e395c56bcaa7"
      },
      "execution_count": null,
      "outputs": [
        {
          "output_type": "stream",
          "name": "stdout",
          "text": [
            "Mean of average closeness centralitiy of graphs in 5G conspiracy : 0.28723688061155134\n",
            "Mean of average closeness centralitiy of graphs in Other conspiracy :0.2524961050262265\n",
            "Mean of average closeness centralitiy of graphs in Combined conspiracy :0.2665727067104998\n",
            "Mean of average closeness centralitiy of graphs in Non conspiracy :0.18934942155108458\n"
          ]
        }
      ]
    },
    {
      "cell_type": "markdown",
      "source": [
        "### `Observations:`\n",
        "\n",
        "- The mean of closeness centrality of nodes of subgraphs have a different average in each of the three classes, and the values are clearly distinct as well.\n",
        "- The values are clearly different for the combined conspiracy classes and non-conspiracy class, hence this could be useful feature for our ML models.\n",
        "- `Closeness centrality is higher for both the rumor classes. This indicates that the rumors are quite likely spreading in closer networks when compared to non-rumors which could be spreading across a larger and more disconnected network.`"
      ],
      "metadata": {
        "id": "a07YOLrHg6iP"
      }
    },
    {
      "cell_type": "markdown",
      "source": [
        "### Eigenvector Centrality\n",
        "\n",
        "We calculate the `mean of eigen vector centralities of nodes` in the subgraph."
      ],
      "metadata": {
        "id": "3O7YYT-Ab7Jo"
      }
    },
    {
      "cell_type": "code",
      "source": [
        "five_eig_cen = []\n",
        "for i in five_cons:\n",
        "  try:\n",
        "    five_eig_cen.append(np.mean(list(nx.eigenvector_centrality(i).values())))\n",
        "  except:\n",
        "    pass\n",
        "\n",
        "other_eig_cen = []\n",
        "for i in other_cons:\n",
        "  try:\n",
        "    other_eig_cen.append(np.mean(list(nx.eigenvector_centrality(i).values())))\n",
        "  except:\n",
        "    pass\n",
        "\n",
        "non_eig_cen = []\n",
        "for i in non_cons:\n",
        "  try:\n",
        "    non_eig_cen.append(np.mean(list(nx.eigenvector_centrality(i).values())))\n",
        "  except:\n",
        "    pass"
      ],
      "metadata": {
        "id": "cPyEcrYkb6jQ"
      },
      "execution_count": null,
      "outputs": []
    },
    {
      "cell_type": "code",
      "source": [
        "print(f\"Mean of average Eigen vector centralitiy of graphs in 5G conspiracy : {np.nanmean(five_eig_cen)}\")\n",
        "print(f\"Mean of average Eigen vector centralitiy of graphs in Other conspiracy :{np.nanmean(other_eig_cen)}\")\n",
        "print(f\"Mean of average Eigen vector centralitiy of graphs in Combined conspiracy :{np.nanmean(other_eig_cen + five_eig_cen)}\")\n",
        "print(f\"Mean of average Eigen vector centralitiy of graphs in Non conspiracy :{np.nanmean(non_eig_cen)}\")"
      ],
      "metadata": {
        "colab": {
          "base_uri": "https://localhost:8080/"
        },
        "id": "aN78dCjIhV1b",
        "outputId": "208a0f30-10cd-4971-823a-e734244e3976"
      },
      "execution_count": null,
      "outputs": [
        {
          "output_type": "stream",
          "name": "stdout",
          "text": [
            "Mean of average Eigen vector centralitiy of graphs in 5G conspiracy : 0.15690464623259126\n",
            "Mean of average Eigen vector centralitiy of graphs in Other conspiracy :0.114468315525839\n",
            "Mean of average Eigen vector centralitiy of graphs in Combined conspiracy :0.1314428478085399\n",
            "Mean of average Eigen vector centralitiy of graphs in Non conspiracy :0.11057136085268626\n"
          ]
        }
      ]
    },
    {
      "cell_type": "markdown",
      "source": [
        "### `Observations:`\n",
        "\n",
        "- The mean of Eigen vector centrality of nodes of subgraphs have a different average in each of the three classes, however the values are very close between other conspiracy class and non-conspiracy class.\n",
        "- The values are clearly different for the combined conspiracy classes and non-conspiracy class."
      ],
      "metadata": {
        "id": "ZLuK-EKVirGB"
      }
    },
    {
      "cell_type": "markdown",
      "source": [
        "### Core Number\n",
        "\n",
        "We calculate the `mean of core number of nodes` in the subgraph."
      ],
      "metadata": {
        "id": "qlQLw79kcnrO"
      }
    },
    {
      "cell_type": "code",
      "source": [
        "five_core = []\n",
        "for i in five_cons:\n",
        "  try:\n",
        "    five_core.append(np.mean(list(nx.core_number(i).values())))\n",
        "  except:\n",
        "    pass\n",
        "\n",
        "other_core = []\n",
        "for i in other_cons:\n",
        "  try:\n",
        "    other_core.append(np.mean(list(nx.core_number(i).values())))\n",
        "  except:\n",
        "    pass\n",
        "\n",
        "non_core = []\n",
        "for i in non_cons:\n",
        "  try:\n",
        "    non_core.append(np.mean(list(nx.core_number(i).values())))\n",
        "  except:\n",
        "    pass"
      ],
      "metadata": {
        "colab": {
          "base_uri": "https://localhost:8080/"
        },
        "id": "KIFgT0xOcqv_",
        "outputId": "e936315d-0088-4d3a-8795-181bbadbdd62"
      },
      "execution_count": null,
      "outputs": [
        {
          "output_type": "stream",
          "name": "stderr",
          "text": [
            "/usr/local/lib/python3.8/dist-packages/numpy/core/fromnumeric.py:3440: RuntimeWarning: Mean of empty slice.\n",
            "  return _methods._mean(a, axis=axis, dtype=dtype,\n",
            "/usr/local/lib/python3.8/dist-packages/numpy/core/_methods.py:189: RuntimeWarning: invalid value encountered in double_scalars\n",
            "  ret = ret.dtype.type(ret / rcount)\n"
          ]
        }
      ]
    },
    {
      "cell_type": "code",
      "source": [
        "print(f\"Mean of average of core numbers of nodes of graphs in 5G conspiracy : {np.nanmean(five_core)}\")\n",
        "print(f\"Mean of average of core numbers of nodes of graphs in Other conspiracy :{np.nanmean(other_core)}\")\n",
        "print(f\"Mean of average of core numbers of nodes of graphs in Combined conspiracy :{np.nanmean(other_core + five_core)}\")\n",
        "print(f\"Mean of average of core numbers of nodes of graphs in Non conspiracy :{np.nanmean(non_core)}\")"
      ],
      "metadata": {
        "colab": {
          "base_uri": "https://localhost:8080/"
        },
        "id": "3wIePILijKzq",
        "outputId": "3d620bad-0588-4000-c042-4252cd03b178"
      },
      "execution_count": null,
      "outputs": [
        {
          "output_type": "stream",
          "name": "stdout",
          "text": [
            "Mean of average of core numbers of nodes of graphs in 5G conspiracy : 3.8884887011597087\n",
            "Mean of average of core numbers of nodes of graphs in Other conspiracy :3.9069439802808668\n",
            "Mean of average of core numbers of nodes of graphs in Combined conspiracy :3.8994660927327724\n",
            "Mean of average of core numbers of nodes of graphs in Non conspiracy :3.0000113212036643\n"
          ]
        }
      ]
    },
    {
      "cell_type": "markdown",
      "source": [
        "### `Observations:`\n",
        "\n",
        "- The mean of core number of nodes of subgraphs have a different average in each of the three classes, and the values are clearly distinct as well.\n",
        "- The values are clearly different for the combined conspiracy classes and non-conspiracy class, hence this could be useful feature for our ML models.\n",
        "- `This observation is similar to the observation made in closeness centrality. Nodes involved in rumors seem to be a part of larger k-core groups when compared to nodes in the non-rumor spreads.`"
      ],
      "metadata": {
        "id": "3eHw1GBxjj-H"
      }
    },
    {
      "cell_type": "markdown",
      "source": [
        "### Average Clustering Coefficient\n",
        "\n",
        "We calculate the `mean of clustering coefficients of nodes` in the subgraph."
      ],
      "metadata": {
        "id": "Oy_H5ZiC41CX"
      }
    },
    {
      "cell_type": "code",
      "source": [
        "five_avg_cc = []\n",
        "for i in five_cons:\n",
        "  try:\n",
        "    five_avg_cc.append(nx.average_clustering(i))\n",
        "  except:\n",
        "    pass\n",
        "\n",
        "other_avg_cc = []\n",
        "for i in other_cons:\n",
        "  try:\n",
        "    other_avg_cc.append(nx.average_clustering(i))\n",
        "  except:\n",
        "    pass\n",
        "\n",
        "non_avg_cc = []\n",
        "for i in non_cons:\n",
        "  try:\n",
        "    non_avg_cc.append(nx.average_clustering(i))\n",
        "  except:\n",
        "    pass"
      ],
      "metadata": {
        "id": "WGkIrQtCec2t"
      },
      "execution_count": null,
      "outputs": []
    },
    {
      "cell_type": "code",
      "source": [
        "print(f\"Mean of average of clustering coefficients of nodes of graphs in 5G conspiracy : {np.nanmean(five_avg_cc)}\")\n",
        "print(f\"Mean of average of clustering coefficients of nodes of graphs in Other conspiracy :{np.nanmean(other_avg_cc)}\")\n",
        "print(f\"Mean of average of clustering coefficients of nodes of graphs in Combined conspiracy :{np.nanmean(other_avg_cc + five_avg_cc)}\")\n",
        "print(f\"Mean of average of clustering coefficients of nodes of graphs in Non conspiracy :{np.nanmean(non_avg_cc)}\")"
      ],
      "metadata": {
        "colab": {
          "base_uri": "https://localhost:8080/"
        },
        "id": "QXaVYn3-f6NA",
        "outputId": "243dee31-f6b4-4ef4-a656-cbe8fdbc358a"
      },
      "execution_count": null,
      "outputs": [
        {
          "output_type": "stream",
          "name": "stdout",
          "text": [
            "Mean of average of clustering coefficients of nodes of graphs in 5G conspiracy : 0.23089735490466967\n",
            "Mean of average of clustering coefficients of nodes of graphs in Other conspiracy :0.2417586366587332\n",
            "Mean of average of clustering coefficients of nodes of graphs in Combined conspiracy :0.23735775802385317\n",
            "Mean of average of clustering coefficients of nodes of graphs in Non conspiracy :0.19280878983377167\n"
          ]
        }
      ]
    },
    {
      "cell_type": "markdown",
      "source": [
        "### `Observations:`\n",
        "\n",
        "- The mean of clustering coefficients of nodes of subgraphs have a different average in each of the three classes, and the values are clearly distinct as well.\n",
        "- The values are clearly different for the combined conspiracy classes and non-conspiracy class, hence this could be useful feature for our ML models.\n",
        "- `Higher clustering coefficient in rumor spreading graphs indicates that the nodes involved in rumors form denser clusters when compared to non-rumor spreading nodes.`"
      ],
      "metadata": {
        "id": "E8WicRHykJv7"
      }
    },
    {
      "cell_type": "markdown",
      "source": [
        "### Connectedness Using Transitivity"
      ],
      "metadata": {
        "id": "3Pi-qi_a2fhj"
      }
    },
    {
      "cell_type": "code",
      "source": [
        "five_trans = []\n",
        "for i in five_cons:\n",
        "  try:\n",
        "    five_trans.append(nx.transitivity(i))\n",
        "  except:\n",
        "    pass\n",
        "\n",
        "other_trans = []\n",
        "for i in other_cons:\n",
        "  try:\n",
        "    other_trans.append(nx.transitivity(i))\n",
        "  except:\n",
        "    pass\n",
        "\n",
        "non_trans = []\n",
        "for i in non_cons:\n",
        "  try:\n",
        "    non_trans.append(nx.transitivity(i))\n",
        "  except:\n",
        "    pass"
      ],
      "metadata": {
        "id": "iSbNge_e2iKY"
      },
      "execution_count": null,
      "outputs": []
    },
    {
      "cell_type": "code",
      "source": [
        "print(f\"Mean of transitivity of nodes of graphs in 5G conspiracy : {np.nanmean(five_trans)}\")\n",
        "print(f\"Mean of transitivity of nodes of graphs in Other conspiracy :{np.nanmean(other_trans)}\")\n",
        "print(f\"Mean of transitivity of nodes of graphs in Combined conspiracy :{np.nanmean(other_trans + five_trans)}\")\n",
        "print(f\"Mean of transitivity of nodes of graphs in Non conspiracy :{np.nanmean(non_trans)}\")"
      ],
      "metadata": {
        "colab": {
          "base_uri": "https://localhost:8080/"
        },
        "id": "pmBG4eItkRf2",
        "outputId": "42d5df24-b371-4c70-e18c-8b7fe4c5bb83"
      },
      "execution_count": null,
      "outputs": [
        {
          "output_type": "stream",
          "name": "stdout",
          "text": [
            "Mean of transitivity of nodes of graphs in 5G conspiracy : 0.23298168794683694\n",
            "Mean of transitivity of nodes of graphs in Other conspiracy :0.24623098143597807\n",
            "Mean of transitivity of nodes of graphs in Combined conspiracy :0.240820962687191\n",
            "Mean of transitivity of nodes of graphs in Non conspiracy :0.2715126818270199\n"
          ]
        }
      ]
    },
    {
      "cell_type": "markdown",
      "source": [
        "### `Observations:`\n",
        "\n",
        "- The transitivity of subgraphs have a different average in each of the three classes, and the values are clearly distinct as well.\n",
        "- The values are clearly different for the combined conspiracy classes and non-conspiracy class, hence this could be useful feature for our ML models.\n",
        "- `Higher Transitivity in non-rumor graph indicates the presence of more triangles in the graph, when compared to the rumor spreading graph.` "
      ],
      "metadata": {
        "id": "94mreCjikobT"
      }
    },
    {
      "cell_type": "code",
      "source": [
        "five_sq = []\n",
        "for i in five_cons:\n",
        "  try:\n",
        "    five_sq.append(np.mean(list(nx.square_clustering(i).values())))\n",
        "  except:\n",
        "    pass\n",
        "\n",
        "other_sq = []\n",
        "for i in other_cons:\n",
        "  try:\n",
        "    other_sq.append(np.mean(list(nx.square_clustering(i).values())))\n",
        "  except:\n",
        "    pass\n",
        "\n",
        "non_sq = []\n",
        "for i in non_cons:\n",
        "  try:\n",
        "    non_sq.append(np.mean(list(nx.square_clustering(i).values())))\n",
        "  except:\n",
        "    pass\n",
        "\n",
        "print(f\"Means: {np.nanmean(five_sq),np.nanmean(other_sq),np.nanmean(non_sq)}\")"
      ],
      "metadata": {
        "colab": {
          "base_uri": "https://localhost:8080/"
        },
        "id": "HIQxjpFniks5",
        "outputId": "ef41430b-eefc-4007-af6e-e55d83f28bf8"
      },
      "execution_count": null,
      "outputs": [
        {
          "output_type": "stream",
          "name": "stdout",
          "text": [
            "Means: (0.09186322419538209, 0.09062204233520291, 0.08492478605190319)\n"
          ]
        }
      ]
    },
    {
      "cell_type": "markdown",
      "source": [
        "### Radius"
      ],
      "metadata": {
        "id": "66U3Lj5xnptR"
      }
    },
    {
      "cell_type": "code",
      "source": [
        "five_rad = []\n",
        "for i in five_cons:\n",
        "  try:\n",
        "    five_rad.append(nx.radius(i))\n",
        "  except:\n",
        "    pass\n",
        "\n",
        "other_rad = []\n",
        "for i in other_cons:\n",
        "  try:\n",
        "    other_rad.append(nx.radius(i))\n",
        "  except:\n",
        "    pass\n",
        "\n",
        "non_rad = []\n",
        "for i in non_cons:\n",
        "  try:\n",
        "    non_rad.append(nx.radius(i))\n",
        "  except:\n",
        "    pass"
      ],
      "metadata": {
        "colab": {
          "base_uri": "https://localhost:8080/"
        },
        "id": "gwZYUkN7nrUt",
        "outputId": "da9adb1d-a352-4af5-e52f-46158bf73241"
      },
      "execution_count": null,
      "outputs": [
        {
          "output_type": "stream",
          "name": "stdout",
          "text": [
            "Medians : (1.0, 2.0, 2.0)\n",
            "Means: (1.564102564102564, 1.8275862068965518, 1.5656565656565657)\n"
          ]
        }
      ]
    },
    {
      "cell_type": "markdown",
      "source": [
        "### Diameter"
      ],
      "metadata": {
        "id": "Bw3hBBK1oI8j"
      }
    },
    {
      "cell_type": "code",
      "source": [
        "five_dia = []\n",
        "for i in five_cons:\n",
        "  try:\n",
        "    five_dia.append(nx.diameter(i))\n",
        "  except:\n",
        "    pass\n",
        "\n",
        "other_dia = []\n",
        "for i in other_cons:\n",
        "  try:\n",
        "    other_dia.append(nx.diameter(i))\n",
        "  except:\n",
        "    pass\n",
        "\n",
        "non_dia = []\n",
        "for i in non_cons:\n",
        "  try:\n",
        "    non_dia.append(nx.diameter(i))\n",
        "  except:\n",
        "    pass\n",
        "\n",
        "print(f\"Medians : {np.median(five_dia),np.median(other_dia),np.median(non_dia)}\")\n",
        "print(f\"Means: {np.mean(five_dia),np.mean(other_dia),np.mean(non_dia)}\")"
      ],
      "metadata": {
        "colab": {
          "base_uri": "https://localhost:8080/"
        },
        "id": "YwzhXifyoKw7",
        "outputId": "18fb8601-934d-45d6-dbed-4490f5e5b861"
      },
      "execution_count": null,
      "outputs": [
        {
          "output_type": "stream",
          "name": "stdout",
          "text": [
            "Medians : (2.0, 3.0, 3.0)\n",
            "Means: (2.641025641025641, 3.310344827586207, 2.797979797979798)\n"
          ]
        }
      ]
    }
  ]
}
